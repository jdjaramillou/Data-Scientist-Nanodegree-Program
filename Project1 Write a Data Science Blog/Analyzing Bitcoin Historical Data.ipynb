{
 "cells": [
  {
   "cell_type": "markdown",
   "id": "bdaa0b4d",
   "metadata": {},
   "source": [
    "# Analyzing Bitcoin Historical Data"
   ]
  },
  {
   "cell_type": "markdown",
   "id": "dda02ac8",
   "metadata": {},
   "source": [
    "The objetive of this project is to write a Data Science Blog Post analyzing the historical behaviour of bitcoin price. This Project follows the CRISP-DM process outlined for questions through communication.\n",
    "\n",
    "**Do not take theis results as advice to take financial decisions. This analysis was created for education purposes only.**\n",
    "\n",
    "## Questions:\n",
    "\n",
    "1. How volatile is bitcoin?\n",
    "2. Were certain months better or worse for Bitcoin?\n",
    "3. Are Bitcoin and Ethereum prices or volatilities releated ?"
   ]
  },
  {
   "cell_type": "markdown",
   "id": "07e861f5",
   "metadata": {},
   "source": [
    "### Data Acquisition & Preparation"
   ]
  },
  {
   "cell_type": "code",
   "execution_count": 1,
   "id": "ac8ccfdb",
   "metadata": {},
   "outputs": [],
   "source": [
    "# import of libraries\n",
    "import pandas as pd\n",
    "import numpy as np\n",
    "import seaborn as sns\n",
    "import matplotlib.pyplot as plt"
   ]
  },
  {
   "cell_type": "markdown",
   "id": "b61404e3",
   "metadata": {},
   "source": [
    "**The dataset was extracted from investing.com**"
   ]
  },
  {
   "cell_type": "markdown",
   "id": "cc8d229c",
   "metadata": {},
   "source": [
    "The datasets were downloaded from www.investing.com and it contains the following features:\n",
    "\n",
    " - **Date:**\tDaily date of the crypto information\n",
    " - **Price:**\tUSD prices of the crypto currency\n",
    " - **Open:**\tOpening price of crypto currency (USD)\n",
    " - **High:**\tHighest price of crypto currency (USD)\n",
    " - **Low:** \tLowest price of crypto currency (USD)\n",
    " - **Vol.:**\tVolume of crypto traded on the given date\n",
    " - **Change%:**\tPercentage of the change in crypto currency prices relative to the previous day"
   ]
  },
  {
   "cell_type": "code",
   "execution_count": 2,
   "id": "b5912146",
   "metadata": {},
   "outputs": [],
   "source": [
    "bitcoin_hist = pd.read_csv('data/Bitcoin Historical Data.csv')\n",
    "ethereum_hist = pd.read_csv('data/Ethereum Historical Data.csv')"
   ]
  },
  {
   "cell_type": "markdown",
   "id": "f6963d7b",
   "metadata": {},
   "source": [
    "**The following functions were created based on the open code from Kaggle: https://www.kaggle.com/jkreyner/script-to-clean-data-set**"
   ]
  },
  {
   "cell_type": "code",
   "execution_count": 3,
   "id": "aec51fc7",
   "metadata": {},
   "outputs": [],
   "source": [
    "def data_cleansing(df):\n",
    "    \"\"\"\n",
    "        Clean and process the dataframe of historical prices  \n",
    "    Args: \n",
    "        df: The original dataframe\n",
    "    Returns: \n",
    "        df (DataFrame): post. processed Dataframe\n",
    "    \"\"\"\n",
    "    #change column name\n",
    "    df = df.rename(columns = {'Change %':'Change','Vol.':'Vol' })\n",
    "    \n",
    "    #Replace , on Price, Open, High and Low columns if it is necessary\n",
    "    try:\n",
    "        df['Price'] = df.Price.str.replace(',', '').astype(float)\n",
    "        df['Open'] = df.Open.str.replace(',', '').astype(float)\n",
    "        df['High'] = df.High.str.replace(',', '').astype(float)\n",
    "        df['Low'] = df.Low.str.replace(',', '').astype(float)\n",
    "    except:\n",
    "        next\n",
    "    \n",
    "    #convert Date to datatime and create year, month and day columsn\n",
    "    if 'Date' in df.columns:\n",
    "        df.Date = pd.to_datetime(df.Date)\n",
    "        df[['year','month','day']] = df.Date.apply(lambda x: pd.Series(x.strftime(\"%Y-%m-%d\").split(\"-\")))\n",
    "        \n",
    "    #transform data type to float\n",
    "    df['Vol'] = df['Vol'].apply(to_float)\n",
    "    \n",
    "    #delete % from string and transform to float\n",
    "    df['Change'] = df.Change.str.replace('%', '').astype(float)/100\n",
    "    \n",
    "    #columns to lower case\n",
    "    df.columns = df.columns.str.lower()\n",
    "    return df"
   ]
  },
  {
   "cell_type": "code",
   "execution_count": 4,
   "id": "46f88443",
   "metadata": {},
   "outputs": [],
   "source": [
    "\n",
    "def to_float(x):\n",
    "    \"\"\"\n",
    "        Reformat column to numeric  \n",
    "    Args: \n",
    "        x: Series of Vol to be transformed\n",
    "    \"\"\"    \n",
    "    # transform to numeric base on the string value\n",
    "    if type(x) == float or type(x) == int:\n",
    "        return x\n",
    "    if 'K' in x:\n",
    "        if len(x) > 1:\n",
    "            return float(x.replace('K', '')) * 1000\n",
    "        return 1000.0\n",
    "    if 'M' in x:\n",
    "        if len(x) > 1:\n",
    "            return float(x.replace('M', '')) * 1000000\n",
    "        return 1000000.0\n",
    "    if 'B' in x:\n",
    "        return float(x.replace('B', '')) * 1000000000\n",
    "    return"
   ]
  },
  {
   "cell_type": "code",
   "execution_count": 5,
   "id": "6fa4bbd8",
   "metadata": {},
   "outputs": [],
   "source": [
    "#Clean datasets base on the previously created functions\n",
    "bitcoin_hist = data_cleansing(bitcoin_hist)\n",
    "ethereum_hist = data_cleansing(ethereum_hist)"
   ]
  },
  {
   "cell_type": "markdown",
   "id": "f22b779f",
   "metadata": {},
   "source": [
    "### Data Exploration"
   ]
  },
  {
   "cell_type": "code",
   "execution_count": 6,
   "id": "8462f0c0",
   "metadata": {},
   "outputs": [
    {
     "data": {
      "text/plain": [
       "(1734, 10)"
      ]
     },
     "execution_count": 6,
     "metadata": {},
     "output_type": "execute_result"
    }
   ],
   "source": [
    "#Check number of rows and columns\n",
    "bitcoin_hist.shape"
   ]
  },
  {
   "cell_type": "code",
   "execution_count": 7,
   "id": "a6215234",
   "metadata": {},
   "outputs": [
    {
     "data": {
      "text/plain": [
       "date      datetime64[ns]\n",
       "price            float64\n",
       "open             float64\n",
       "high             float64\n",
       "low              float64\n",
       "vol              float64\n",
       "change           float64\n",
       "year              object\n",
       "month             object\n",
       "day               object\n",
       "dtype: object"
      ]
     },
     "execution_count": 7,
     "metadata": {},
     "output_type": "execute_result"
    }
   ],
   "source": [
    "#Datafram  types\n",
    "bitcoin_hist.dtypes"
   ]
  },
  {
   "cell_type": "code",
   "execution_count": 8,
   "id": "339a0cc2",
   "metadata": {},
   "outputs": [
    {
     "data": {
      "text/html": [
       "<div>\n",
       "<style scoped>\n",
       "    .dataframe tbody tr th:only-of-type {\n",
       "        vertical-align: middle;\n",
       "    }\n",
       "\n",
       "    .dataframe tbody tr th {\n",
       "        vertical-align: top;\n",
       "    }\n",
       "\n",
       "    .dataframe thead th {\n",
       "        text-align: right;\n",
       "    }\n",
       "</style>\n",
       "<table border=\"1\" class=\"dataframe\">\n",
       "  <thead>\n",
       "    <tr style=\"text-align: right;\">\n",
       "      <th></th>\n",
       "      <th>date</th>\n",
       "      <th>price</th>\n",
       "      <th>open</th>\n",
       "      <th>high</th>\n",
       "      <th>low</th>\n",
       "      <th>vol</th>\n",
       "      <th>change</th>\n",
       "      <th>year</th>\n",
       "      <th>month</th>\n",
       "      <th>day</th>\n",
       "    </tr>\n",
       "  </thead>\n",
       "  <tbody>\n",
       "    <tr>\n",
       "      <th>0</th>\n",
       "      <td>2021-09-30</td>\n",
       "      <td>43823.3</td>\n",
       "      <td>41534.5</td>\n",
       "      <td>44101.2</td>\n",
       "      <td>41416.7</td>\n",
       "      <td>64320.0</td>\n",
       "      <td>0.0550</td>\n",
       "      <td>2021</td>\n",
       "      <td>09</td>\n",
       "      <td>30</td>\n",
       "    </tr>\n",
       "    <tr>\n",
       "      <th>1</th>\n",
       "      <td>2021-09-29</td>\n",
       "      <td>41536.8</td>\n",
       "      <td>41023.1</td>\n",
       "      <td>42571.2</td>\n",
       "      <td>40815.0</td>\n",
       "      <td>48210.0</td>\n",
       "      <td>0.0125</td>\n",
       "      <td>2021</td>\n",
       "      <td>09</td>\n",
       "      <td>29</td>\n",
       "    </tr>\n",
       "    <tr>\n",
       "      <th>2</th>\n",
       "      <td>2021-09-28</td>\n",
       "      <td>41022.3</td>\n",
       "      <td>42169.9</td>\n",
       "      <td>42758.8</td>\n",
       "      <td>40906.4</td>\n",
       "      <td>60010.0</td>\n",
       "      <td>-0.0273</td>\n",
       "      <td>2021</td>\n",
       "      <td>09</td>\n",
       "      <td>28</td>\n",
       "    </tr>\n",
       "    <tr>\n",
       "      <th>3</th>\n",
       "      <td>2021-09-27</td>\n",
       "      <td>42172.6</td>\n",
       "      <td>43200.9</td>\n",
       "      <td>44293.2</td>\n",
       "      <td>42143.9</td>\n",
       "      <td>54120.0</td>\n",
       "      <td>-0.0239</td>\n",
       "      <td>2021</td>\n",
       "      <td>09</td>\n",
       "      <td>27</td>\n",
       "    </tr>\n",
       "    <tr>\n",
       "      <th>4</th>\n",
       "      <td>2021-09-26</td>\n",
       "      <td>43203.4</td>\n",
       "      <td>42685.8</td>\n",
       "      <td>43907.3</td>\n",
       "      <td>40786.6</td>\n",
       "      <td>69910.0</td>\n",
       "      <td>0.0121</td>\n",
       "      <td>2021</td>\n",
       "      <td>09</td>\n",
       "      <td>26</td>\n",
       "    </tr>\n",
       "  </tbody>\n",
       "</table>\n",
       "</div>"
      ],
      "text/plain": [
       "        date    price     open     high      low      vol  change  year month  \\\n",
       "0 2021-09-30  43823.3  41534.5  44101.2  41416.7  64320.0  0.0550  2021    09   \n",
       "1 2021-09-29  41536.8  41023.1  42571.2  40815.0  48210.0  0.0125  2021    09   \n",
       "2 2021-09-28  41022.3  42169.9  42758.8  40906.4  60010.0 -0.0273  2021    09   \n",
       "3 2021-09-27  42172.6  43200.9  44293.2  42143.9  54120.0 -0.0239  2021    09   \n",
       "4 2021-09-26  43203.4  42685.8  43907.3  40786.6  69910.0  0.0121  2021    09   \n",
       "\n",
       "  day  \n",
       "0  30  \n",
       "1  29  \n",
       "2  28  \n",
       "3  27  \n",
       "4  26  "
      ]
     },
     "execution_count": 8,
     "metadata": {},
     "output_type": "execute_result"
    }
   ],
   "source": [
    "bitcoin_hist.head(5)"
   ]
  },
  {
   "cell_type": "code",
   "execution_count": 9,
   "id": "af078f1b",
   "metadata": {},
   "outputs": [
    {
     "data": {
      "text/plain": [
       "date      0\n",
       "price     0\n",
       "open      0\n",
       "high      0\n",
       "low       0\n",
       "vol       0\n",
       "change    0\n",
       "year      0\n",
       "month     0\n",
       "day       0\n",
       "dtype: int64"
      ]
     },
     "execution_count": 9,
     "metadata": {},
     "output_type": "execute_result"
    }
   ],
   "source": [
    "# Check for Nan values\n",
    "bitcoin_hist.isna().sum()\n",
    "#there is no Nan on this dataset"
   ]
  },
  {
   "cell_type": "code",
   "execution_count": 10,
   "id": "2a559e8a",
   "metadata": {},
   "outputs": [
    {
     "data": {
      "text/html": [
       "<div>\n",
       "<style scoped>\n",
       "    .dataframe tbody tr th:only-of-type {\n",
       "        vertical-align: middle;\n",
       "    }\n",
       "\n",
       "    .dataframe tbody tr th {\n",
       "        vertical-align: top;\n",
       "    }\n",
       "\n",
       "    .dataframe thead th {\n",
       "        text-align: right;\n",
       "    }\n",
       "</style>\n",
       "<table border=\"1\" class=\"dataframe\">\n",
       "  <thead>\n",
       "    <tr style=\"text-align: right;\">\n",
       "      <th></th>\n",
       "      <th>price</th>\n",
       "      <th>open</th>\n",
       "      <th>high</th>\n",
       "      <th>low</th>\n",
       "      <th>vol</th>\n",
       "      <th>change</th>\n",
       "    </tr>\n",
       "  </thead>\n",
       "  <tbody>\n",
       "    <tr>\n",
       "      <th>count</th>\n",
       "      <td>1734.000000</td>\n",
       "      <td>1734.000000</td>\n",
       "      <td>1734.000000</td>\n",
       "      <td>1734.000000</td>\n",
       "      <td>1.734000e+03</td>\n",
       "      <td>1734.000000</td>\n",
       "    </tr>\n",
       "    <tr>\n",
       "      <th>mean</th>\n",
       "      <td>13338.373241</td>\n",
       "      <td>13313.783391</td>\n",
       "      <td>13714.025144</td>\n",
       "      <td>12866.954037</td>\n",
       "      <td>6.251884e+05</td>\n",
       "      <td>0.003130</td>\n",
       "    </tr>\n",
       "    <tr>\n",
       "      <th>std</th>\n",
       "      <td>14503.395570</td>\n",
       "      <td>14488.112468</td>\n",
       "      <td>14939.266433</td>\n",
       "      <td>13964.718994</td>\n",
       "      <td>1.437549e+06</td>\n",
       "      <td>0.042787</td>\n",
       "    </tr>\n",
       "    <tr>\n",
       "      <th>min</th>\n",
       "      <td>785.400000</td>\n",
       "      <td>785.400000</td>\n",
       "      <td>826.400000</td>\n",
       "      <td>739.500000</td>\n",
       "      <td>2.600000e+02</td>\n",
       "      <td>-0.391800</td>\n",
       "    </tr>\n",
       "    <tr>\n",
       "      <th>25%</th>\n",
       "      <td>5189.100000</td>\n",
       "      <td>5182.300000</td>\n",
       "      <td>5310.675000</td>\n",
       "      <td>5016.025000</td>\n",
       "      <td>1.012550e+05</td>\n",
       "      <td>-0.015400</td>\n",
       "    </tr>\n",
       "    <tr>\n",
       "      <th>50%</th>\n",
       "      <td>8234.300000</td>\n",
       "      <td>8225.850000</td>\n",
       "      <td>8448.900000</td>\n",
       "      <td>8037.100000</td>\n",
       "      <td>2.105550e+05</td>\n",
       "      <td>0.002350</td>\n",
       "    </tr>\n",
       "    <tr>\n",
       "      <th>75%</th>\n",
       "      <td>11505.925000</td>\n",
       "      <td>11497.650000</td>\n",
       "      <td>11818.850000</td>\n",
       "      <td>11225.725000</td>\n",
       "      <td>6.057675e+05</td>\n",
       "      <td>0.022000</td>\n",
       "    </tr>\n",
       "    <tr>\n",
       "      <th>max</th>\n",
       "      <td>63540.900000</td>\n",
       "      <td>63544.200000</td>\n",
       "      <td>64778.000000</td>\n",
       "      <td>62067.500000</td>\n",
       "      <td>2.026000e+07</td>\n",
       "      <td>0.255600</td>\n",
       "    </tr>\n",
       "  </tbody>\n",
       "</table>\n",
       "</div>"
      ],
      "text/plain": [
       "              price          open          high           low           vol  \\\n",
       "count   1734.000000   1734.000000   1734.000000   1734.000000  1.734000e+03   \n",
       "mean   13338.373241  13313.783391  13714.025144  12866.954037  6.251884e+05   \n",
       "std    14503.395570  14488.112468  14939.266433  13964.718994  1.437549e+06   \n",
       "min      785.400000    785.400000    826.400000    739.500000  2.600000e+02   \n",
       "25%     5189.100000   5182.300000   5310.675000   5016.025000  1.012550e+05   \n",
       "50%     8234.300000   8225.850000   8448.900000   8037.100000  2.105550e+05   \n",
       "75%    11505.925000  11497.650000  11818.850000  11225.725000  6.057675e+05   \n",
       "max    63540.900000  63544.200000  64778.000000  62067.500000  2.026000e+07   \n",
       "\n",
       "            change  \n",
       "count  1734.000000  \n",
       "mean      0.003130  \n",
       "std       0.042787  \n",
       "min      -0.391800  \n",
       "25%      -0.015400  \n",
       "50%       0.002350  \n",
       "75%       0.022000  \n",
       "max       0.255600  "
      ]
     },
     "execution_count": 10,
     "metadata": {},
     "output_type": "execute_result"
    }
   ],
   "source": [
    "bitcoin_hist.describe()"
   ]
  },
  {
   "cell_type": "code",
   "execution_count": 11,
   "id": "d1d0bd02",
   "metadata": {},
   "outputs": [],
   "source": [
    "bitcoin_hist[\"return\"] = bitcoin_hist[\"change\"] + 1"
   ]
  },
  {
   "cell_type": "markdown",
   "id": "c9e4fabf",
   "metadata": {},
   "source": [
    "## How volatile is bitcoin?"
   ]
  },
  {
   "cell_type": "markdown",
   "id": "89cc68c4",
   "metadata": {},
   "source": [
    "To analyze this question I will take a look at the historical bitcoin prices and its daily changes:"
   ]
  },
  {
   "cell_type": "code",
   "execution_count": 12,
   "id": "8baf5faf",
   "metadata": {},
   "outputs": [
    {
     "data": {
      "image/png": "[encoded data removed]",
      "text/plain": [
       "<Figure size 1080x720 with 1 Axes>"
      ]
     },
     "metadata": {
      "needs_background": "light"
     },
     "output_type": "display_data"
    }
   ],
   "source": [
    "plt.figure(figsize=(15,10))\n",
    "plt.plot(bitcoin_hist[\"date\"], bitcoin_hist[\"price\"].astype(float))\n",
    "plt.title(\"Bitcoin Daily Price\")\n",
    "plt.xlabel(\"Date\")\n",
    "plt.ylabel(\"Price\");"
   ]
  },
  {
   "cell_type": "markdown",
   "id": "4f86df91",
   "metadata": {},
   "source": [
    "* Is its clear that Bitcoin has increased its price since 2017, however it has gone through  multiple increases and decreases given this assets a high risk and volatility"
   ]
  },
  {
   "cell_type": "markdown",
   "id": "efffb7d5",
   "metadata": {},
   "source": [
    "We can also explore the distribution of the daily changes in prices"
   ]
  },
  {
   "cell_type": "code",
   "execution_count": 29,
   "id": "e89c22bd",
   "metadata": {},
   "outputs": [
    {
     "name": "stdout",
     "output_type": "stream",
     "text": [
      "-0.3918 0.2556\n"
     ]
    }
   ],
   "source": [
    "print(bitcoin_hist[\"change\"].min(),bitcoin_hist[\"change\"].max())"
   ]
  },
  {
   "cell_type": "code",
   "execution_count": 13,
   "id": "2474637b",
   "metadata": {},
   "outputs": [
    {
     "data": {
      "image/png": "[encoded data removed]",
      "text/plain": [
       "<Figure size 720x576 with 1 Axes>"
      ]
     },
     "metadata": {
      "needs_background": "light"
     },
     "output_type": "display_data"
    }
   ],
   "source": [
    "plt.figure(figsize=(10,8))\n",
    "plt.hist(bitcoin_hist[\"change\"].astype(float), bins = 100)\n",
    "plt.title(\"Distribution of Daily Percentage Change in Price\")\n",
    "plt.xlabel(\"Percentage Change in Price\")\n",
    "plt.ylabel(\"Count\");\n"
   ]
  },
  {
   "cell_type": "markdown",
   "id": "5d8d2d87",
   "metadata": {},
   "source": [
    "* The percentage change in price is prety simetrical around 0.\n",
    "* There are extreme values on both sizes of the distribution\n",
    "* Bitcoin has increased its prices cause positive returns are higher than negative returns"
   ]
  },
  {
   "cell_type": "markdown",
   "id": "48d6302e",
   "metadata": {},
   "source": [
    "## Were certain months better or worse for Bitcoin?"
   ]
  },
  {
   "cell_type": "markdown",
   "id": "f21610ad",
   "metadata": {},
   "source": [
    "To answer whis question I grouped the product of the returns by month and year and calculated the average through the years"
   ]
  },
  {
   "cell_type": "code",
   "execution_count": 16,
   "id": "2387a72b",
   "metadata": {},
   "outputs": [],
   "source": [
    "bitcoin_hist_month = bitcoin_hist.groupby([\"year\",\"month\"])[\"return\"].prod().reset_index()\n",
    "bitcoin_hist_month[\"change\"] = bitcoin_hist_month[\"return\"] - 1"
   ]
  },
  {
   "cell_type": "code",
   "execution_count": 18,
   "id": "5a5795fe",
   "metadata": {},
   "outputs": [
    {
     "data": {
      "text/html": [
       "<div>\n",
       "<style scoped>\n",
       "    .dataframe tbody tr th:only-of-type {\n",
       "        vertical-align: middle;\n",
       "    }\n",
       "\n",
       "    .dataframe tbody tr th {\n",
       "        vertical-align: top;\n",
       "    }\n",
       "\n",
       "    .dataframe thead th {\n",
       "        text-align: right;\n",
       "    }\n",
       "</style>\n",
       "<table border=\"1\" class=\"dataframe\">\n",
       "  <thead>\n",
       "    <tr style=\"text-align: right;\">\n",
       "      <th></th>\n",
       "      <th>month</th>\n",
       "      <th>change</th>\n",
       "    </tr>\n",
       "  </thead>\n",
       "  <tbody>\n",
       "    <tr>\n",
       "      <th>0</th>\n",
       "      <td>01</td>\n",
       "      <td>0.022564</td>\n",
       "    </tr>\n",
       "    <tr>\n",
       "      <th>1</th>\n",
       "      <td>02</td>\n",
       "      <td>0.125375</td>\n",
       "    </tr>\n",
       "    <tr>\n",
       "      <th>2</th>\n",
       "      <td>03</td>\n",
       "      <td>-0.058936</td>\n",
       "    </tr>\n",
       "    <tr>\n",
       "      <th>3</th>\n",
       "      <td>04</td>\n",
       "      <td>0.241960</td>\n",
       "    </tr>\n",
       "    <tr>\n",
       "      <th>4</th>\n",
       "      <td>05</td>\n",
       "      <td>0.173026</td>\n",
       "    </tr>\n",
       "    <tr>\n",
       "      <th>5</th>\n",
       "      <td>06</td>\n",
       "      <td>0.019927</td>\n",
       "    </tr>\n",
       "    <tr>\n",
       "      <th>6</th>\n",
       "      <td>07</td>\n",
       "      <td>0.145769</td>\n",
       "    </tr>\n",
       "    <tr>\n",
       "      <th>7</th>\n",
       "      <td>08</td>\n",
       "      <td>0.133171</td>\n",
       "    </tr>\n",
       "    <tr>\n",
       "      <th>8</th>\n",
       "      <td>09</td>\n",
       "      <td>-0.083440</td>\n",
       "    </tr>\n",
       "    <tr>\n",
       "      <th>9</th>\n",
       "      <td>10</td>\n",
       "      <td>0.206075</td>\n",
       "    </tr>\n",
       "    <tr>\n",
       "      <th>10</th>\n",
       "      <td>11</td>\n",
       "      <td>0.107176</td>\n",
       "    </tr>\n",
       "    <tr>\n",
       "      <th>11</th>\n",
       "      <td>12</td>\n",
       "      <td>0.183701</td>\n",
       "    </tr>\n",
       "  </tbody>\n",
       "</table>\n",
       "</div>"
      ],
      "text/plain": [
       "   month    change\n",
       "0     01  0.022564\n",
       "1     02  0.125375\n",
       "2     03 -0.058936\n",
       "3     04  0.241960\n",
       "4     05  0.173026\n",
       "5     06  0.019927\n",
       "6     07  0.145769\n",
       "7     08  0.133171\n",
       "8     09 -0.083440\n",
       "9     10  0.206075\n",
       "10    11  0.107176\n",
       "11    12  0.183701"
      ]
     },
     "execution_count": 18,
     "metadata": {},
     "output_type": "execute_result"
    }
   ],
   "source": [
    "bitcoin_hist_month.groupby(\"month\")[\"change\"].mean().reset_index()"
   ]
  },
  {
   "cell_type": "code",
   "execution_count": 19,
   "id": "28efebce",
   "metadata": {},
   "outputs": [
    {
     "data": {
      "image/png": "[encoded data removed]",
      "text/plain": [
       "<Figure size 1152x432 with 1 Axes>"
      ]
     },
     "metadata": {
      "needs_background": "light"
     },
     "output_type": "display_data"
    }
   ],
   "source": [
    "plt.figure(figsize=(16, 6))\n",
    "ax = sns.barplot(x=\"month\", y=\"change\", data=bitcoin_hist_month.groupby(\"month\")[\"change\"].mean().reset_index()\n",
    "                 ,palette=\"GnBu_r\").set_title(\"Avg. Monthly Price Increase %\")"
   ]
  },
  {
   "cell_type": "markdown",
   "id": "cc294572",
   "metadata": {},
   "source": [
    "* The worst months for bitcoin have been March and September with negative returns of -5,89% and -8,34%\n",
    "* The best month for bitcoin has been April with positive returns of 20.60%"
   ]
  },
  {
   "cell_type": "code",
   "execution_count": 17,
   "id": "41e1728a",
   "metadata": {},
   "outputs": [
    {
     "data": {
      "image/png": "[encoded data removed]",
      "text/plain": [
       "<Figure size 1152x432 with 1 Axes>"
      ]
     },
     "metadata": {
      "needs_background": "light"
     },
     "output_type": "display_data"
    }
   ],
   "source": [
    "plt.figure(figsize=(16, 6))\n",
    "ax = sns.barplot(x=\"month\", y=\"change\", hue=\"year\", data=bitcoin_hist_month,palette=\"GnBu_r\").set_title(\"Monthly Price Increase %\")"
   ]
  },
  {
   "cell_type": "markdown",
   "id": "a4bf9a58",
   "metadata": {},
   "source": [
    "* The average percentage change per month is highly influenced but the amazyng returns of bitcoin during years 2017 y 2020.\n",
    "* September has been a month with negative returns since 2017\n",
    "* The greater retunr per month was obtained at May 2017 with a return higher than 60%."
   ]
  },
  {
   "cell_type": "markdown",
   "id": "d328de9f",
   "metadata": {},
   "source": [
    "## Are Bitcoin and Ethereum prices or volatilities releated ?"
   ]
  },
  {
   "cell_type": "markdown",
   "id": "2e9dfbbe",
   "metadata": {},
   "source": [
    "Let's calculate the correlations between return and prices of this two assets"
   ]
  },
  {
   "cell_type": "code",
   "execution_count": 30,
   "id": "d1c9d044",
   "metadata": {},
   "outputs": [],
   "source": [
    "#merge both time series for Bitcoin and Ethereum\n",
    "btc_ada_hist = pd.merge(bitcoin_hist[[\"price\",\"change\",\"date\"]].rename(columns = {'price':'price_btc','change':'change_btc' }),\n",
    "                       ethereum_hist[[\"price\",\"change\",\"date\"]].rename(columns = {'price':'price_eth','change':'change_eth' }),\n",
    "                        on = \"date\", how='inner'\n",
    "                       )\n"
   ]
  },
  {
   "cell_type": "code",
   "execution_count": 21,
   "id": "d4fc9218",
   "metadata": {},
   "outputs": [
    {
     "data": {
      "text/plain": [
       "0.8045017369161132"
      ]
     },
     "execution_count": 21,
     "metadata": {},
     "output_type": "execute_result"
    }
   ],
   "source": [
    "btc_ada_hist[\"change_btc\"].corr(btc_ada_hist[\"change_eth\"], method='pearson', min_periods=None)"
   ]
  },
  {
   "cell_type": "code",
   "execution_count": 22,
   "id": "e24058c2",
   "metadata": {},
   "outputs": [
    {
     "data": {
      "text/plain": [
       "0.8997687031901132"
      ]
     },
     "execution_count": 22,
     "metadata": {},
     "output_type": "execute_result"
    }
   ],
   "source": [
    "btc_ada_hist[\"price_btc\"].corr(btc_ada_hist[\"price_eth\"], method='pearson', min_periods=None)"
   ]
  },
  {
   "cell_type": "code",
   "execution_count": 23,
   "id": "c770af9a",
   "metadata": {},
   "outputs": [
    {
     "data": {
      "image/png": "[encoded data removed]",
      "text/plain": [
       "<Figure size 432x288 with 2 Axes>"
      ]
     },
     "metadata": {
      "needs_background": "light"
     },
     "output_type": "display_data"
    }
   ],
   "source": [
    "#sns.set(rc={'figure.figsize':(6,5)})\n",
    "corrMatrix = btc_ada_hist[[\"price_btc\",\"price_eth\"]].corr()\n",
    "sns.heatmap(corrMatrix, annot=True).set_title(\"BTC & ETH Price Correlation\")\n",
    "plt.show()"
   ]
  },
  {
   "cell_type": "code",
   "execution_count": 24,
   "id": "345c8d5b",
   "metadata": {},
   "outputs": [
    {
     "data": {
      "image/png": "[encoded data removed]",
      "text/plain": [
       "<Figure size 432x288 with 2 Axes>"
      ]
     },
     "metadata": {
      "needs_background": "light"
     },
     "output_type": "display_data"
    }
   ],
   "source": [
    "corrMatrix = btc_ada_hist[[\"change_btc\",\"change_eth\"]].corr()\n",
    "sns.heatmap(corrMatrix, annot=True).set_title(\"BTC & ETH Daily Price Change Correlation\")\n",
    "plt.show()"
   ]
  },
  {
   "cell_type": "markdown",
   "id": "d2302001",
   "metadata": {},
   "source": [
    "* The degree of relationship between Bitcoin and Ethereum prices is high for both prices and returns"
   ]
  }
 ],
 "metadata": {
  "kernelspec": {
   "display_name": "Python 3 (ipykernel)",
   "language": "python",
   "name": "python3"
  },
  "language_info": {
   "codemirror_mode": {
    "name": "ipython",
    "version": 3
   },
   "file_extension": ".py",
   "mimetype": "text/x-python",
   "name": "python",
   "nbconvert_exporter": "python",
   "pygments_lexer": "ipython3",
   "version": "3.9.7"
  }
 },
 "nbformat": 4,
 "nbformat_minor": 5
}
