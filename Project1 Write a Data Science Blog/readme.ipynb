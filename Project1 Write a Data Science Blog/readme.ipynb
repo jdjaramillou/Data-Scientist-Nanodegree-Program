{
 "cells": [
  {
   "cell_type": "markdown",
   "id": "020b15c7",
   "metadata": {},
   "source": [
    "## 1 - Data Science Blog Post\n",
    "\n",
    "You can read my Medium Blog Post in [here](https://medium.com/@dzakyputra/the-best-countries-for-developers-to-work-in-ec162887f82f?source=friends_link&sk=bab44fcb676ff5ca50a46a65af263690).\n",
    "\n",
    "### Libraries\n",
    "To be able to run this notebook, you need to install these libraries:\n",
    "- Pandas\n",
    "- Numpy\n",
    "- Seaborn\n",
    "- Matplotlib\n",
    "\n",
    "### Introduction\n",
    "In this project, I did the analysis for Stack Overflow Survey Data 2019. This is a survey data which I took from their [website](https://insights.stackoverflow.com/survey). This data contains nearly 90,000 responses from over 170 countries. I used jupyter notebook to do the analysis which you can find in the `Data Science Blog Post.ipynb` file.\n",
    "<br>\n",
    "<br>\n",
    "For this analysis, I focused in answering these three questions:\n",
    "1. Which country has the highest job satisfaction for developers ?\n",
    "2. Is there the difference in job satisfaction between developers whose undergraduate major is IT-related an those who are not ?\n",
    "3. Is there any differences in terms of salary between people who contribute to open source and those who are not?\n",
    "\n",
    "### Result Summary\n",
    "After I did the analysis, these are the conclusion I found:\n",
    "1. United States has the highest job satisfaction level for developers in the world, and 5 of top 10 countries with the highest job satisfaction level are located in Europe.\n",
    "2. Developers whose undergraduate major is not IT-related have slightly better job satisfaction.\n",
    "3. Developers who contribute more to the open source have the higher salary (although ”does it have the direct causation?” is still debatable).\n",
    "\n",
    "### Notes\n",
    "Because I could not put the data in the github repository, you can download the data first from this [link](https://drive.google.com/file/d/1QOmVDpd8hcVYqqUXDXf68UMDWQZP0wQV/view). <br> <br>\n",
    "Download the data and save the `survey_results_public.csv` file in the same directory with this notebook."
   ]
  },
  {
   "cell_type": "code",
   "execution_count": null,
   "id": "4a48b630",
   "metadata": {},
   "outputs": [],
   "source": []
  }
 ],
 "metadata": {
  "kernelspec": {
   "display_name": "Python 3 (ipykernel)",
   "language": "python",
   "name": "python3"
  },
  "language_info": {
   "codemirror_mode": {
    "name": "ipython",
    "version": 3
   },
   "file_extension": ".py",
   "mimetype": "text/x-python",
   "name": "python",
   "nbconvert_exporter": "python",
   "pygments_lexer": "ipython3",
   "version": "3.9.7"
  }
 },
 "nbformat": 4,
 "nbformat_minor": 5
}
