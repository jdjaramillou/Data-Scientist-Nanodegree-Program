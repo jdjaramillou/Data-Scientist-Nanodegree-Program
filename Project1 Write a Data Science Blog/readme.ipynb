{
 "cells": [
  {
   "cell_type": "markdown",
   "id": "020b15c7",
   "metadata": {},
   "source": [
    "## Project1 - Data Science Blog Post\n",
    "\n",
    "\n",
    "### Libraries\n",
    "To be able to run this notebook, you need to install these libraries:\n",
    "- Pandas\n",
    "- Numpy\n",
    "- Seaborn\n",
    "- Matplotlib\n",
    "\n",
    "### Introduction\n",
    "in this project I explore the historical prices of bitcoin fromo January 2017 to Octuber 2021. The historical data was downloaded from investing.com [website](https://www.investing.com/indices/investing.com-btc-usd). This data contains among other information regarding daily closing prices, volume traded and daily price change.\n",
    "<br>\n",
    "<br>\n",
    "For this analysis, I focused in answering these three questions:\n",
    "1. How volatile is bitcoin?\n",
    "2. Were certain months better or worse for Bitcoin?\n",
    "3. Are Bitcoin and Ethereum prices or volatilities releated ?\n",
    "\n",
    "### Result Summary\n",
    "There are some takeaways that I got from analyzing the data:\n",
    "* Bitcoin has been an extremely volatile assets and investor willing to trade this assets will bear a high risk. \n",
    "* Based on historical data, Bitcoin has had negative returns on September and on April and October has had good price rallies.\n",
    "* Bitcoin and Ethereumare different crypto currencies with different objectives and projects, however their returns and prices have had a high degree of relationship.\n",
    "\n",
    "You can read my Medium Blog Post in [here](https://medium.com/@juanchoju/analyzing-bitcoin-historical-data-9acde97bd47a).\n",
    "\n",
    "I used jupyter notebook to do the analysis which you can find in the `Analyzing Bitcoin Historical Data.ipynb` file.\n"
   ]
  },
  {
   "cell_type": "code",
   "execution_count": null,
   "id": "4a48b630",
   "metadata": {},
   "outputs": [],
   "source": []
  }
 ],
 "metadata": {
  "kernelspec": {
   "display_name": "Python 3 (ipykernel)",
   "language": "python",
   "name": "python3"
  },
  "language_info": {
   "codemirror_mode": {
    "name": "ipython",
    "version": 3
   },
   "file_extension": ".py",
   "mimetype": "text/x-python",
   "name": "python",
   "nbconvert_exporter": "python",
   "pygments_lexer": "ipython3",
   "version": "3.9.7"
  }
 },
 "nbformat": 4,
 "nbformat_minor": 5
}
