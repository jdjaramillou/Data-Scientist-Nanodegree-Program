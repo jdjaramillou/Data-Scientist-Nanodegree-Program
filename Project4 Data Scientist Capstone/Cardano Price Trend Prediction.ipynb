{
 "cells": [
  {
   "cell_type": "markdown",
   "id": "9e7d626b",
   "metadata": {},
   "source": [
    "# Cardano Price Trend Prediction"
   ]
  },
  {
   "cell_type": "code",
   "execution_count": 1,
   "id": "3abaac32",
   "metadata": {},
   "outputs": [],
   "source": [
    "# import of libraries\n",
    "import pandas as pd\n",
    "import numpy as np\n",
    "import seaborn as sns\n",
    "import matplotlib.pyplot as plt"
   ]
  },
  {
   "cell_type": "code",
   "execution_count": 2,
   "id": "0e66bc42",
   "metadata": {},
   "outputs": [],
   "source": [
    "#Model libraries\n",
    "from sklearn.linear_model import LogisticRegression\n",
    "from sklearn.ensemble import RandomForestClassifier\n",
    "from xgboost import XGBClassifier\n",
    "import xgboost as xgb\n",
    "from sklearn.model_selection import RandomizedSearchCV"
   ]
  },
  {
   "cell_type": "code",
   "execution_count": 3,
   "id": "5077029d",
   "metadata": {},
   "outputs": [],
   "source": [
    "#Metric Libraries\n",
    "from sklearn.metrics import confusion_matrix\n",
    "from sklearn.metrics import precision_score\n",
    "from sklearn.metrics import recall_score\n",
    "from sklearn.metrics import f1_score\n",
    "from sklearn.metrics import accuracy_score\n",
    "from sklearn.metrics import roc_auc_score\n",
    "from sklearn.metrics import classification_report"
   ]
  },
  {
   "cell_type": "code",
   "execution_count": 4,
   "id": "dd49c7b2",
   "metadata": {},
   "outputs": [],
   "source": [
    "import warnings\n",
    "warnings.filterwarnings(\"ignore\")"
   ]
  },
  {
   "cell_type": "markdown",
   "id": "6c614586",
   "metadata": {},
   "source": [
    "**The dataset was extracted from investing.com**\n",
    "\n",
    "The datasets were downloaded from www.investing.com and it contains the following features:\n",
    "\n",
    " - **Date:**\tDaily date of the crypto information\n",
    " - **Price:**\tUSD prices of the crypto currency\n",
    " - **Open:**\tOpening price of crypto currency (USD)\n",
    " - **High:**\tHighest price of crypto currency (USD)\n",
    " - **Low:** \tLowest price of crypto currency (USD)\n",
    " - **Vol.:**\tVolume of crypto traded on the given date\n",
    " - **Change%:**\tPercentage of the change in crypto currency prices relative to the previous day"
   ]
  },
  {
   "cell_type": "code",
   "execution_count": 5,
   "id": "9b712fd2",
   "metadata": {},
   "outputs": [],
   "source": [
    "cardano_hist = pd.read_csv('data/Cardano Historical Data.csv')\n",
    "\n",
    "#columns to lower case\n",
    "cardano_hist.columns = cardano_hist.columns.str.lower()"
   ]
  },
  {
   "cell_type": "code",
   "execution_count": 6,
   "id": "68634aa2",
   "metadata": {},
   "outputs": [
    {
     "data": {
      "text/html": [
       "<div>\n",
       "<style scoped>\n",
       "    .dataframe tbody tr th:only-of-type {\n",
       "        vertical-align: middle;\n",
       "    }\n",
       "\n",
       "    .dataframe tbody tr th {\n",
       "        vertical-align: top;\n",
       "    }\n",
       "\n",
       "    .dataframe thead th {\n",
       "        text-align: right;\n",
       "    }\n",
       "</style>\n",
       "<table border=\"1\" class=\"dataframe\">\n",
       "  <thead>\n",
       "    <tr style=\"text-align: right;\">\n",
       "      <th></th>\n",
       "      <th>date</th>\n",
       "      <th>price</th>\n",
       "      <th>open</th>\n",
       "      <th>high</th>\n",
       "      <th>low</th>\n",
       "      <th>vol.</th>\n",
       "      <th>change %</th>\n",
       "    </tr>\n",
       "  </thead>\n",
       "  <tbody>\n",
       "    <tr>\n",
       "      <th>0</th>\n",
       "      <td>Sep 30, 2021</td>\n",
       "      <td>2.1164</td>\n",
       "      <td>2.0655</td>\n",
       "      <td>2.1349</td>\n",
       "      <td>2.0515</td>\n",
       "      <td>250.07M</td>\n",
       "      <td>2.45</td>\n",
       "    </tr>\n",
       "    <tr>\n",
       "      <th>1</th>\n",
       "      <td>Sep 29, 2021</td>\n",
       "      <td>2.0658</td>\n",
       "      <td>2.0370</td>\n",
       "      <td>2.1424</td>\n",
       "      <td>2.0220</td>\n",
       "      <td>272.69M</td>\n",
       "      <td>1.43</td>\n",
       "    </tr>\n",
       "    <tr>\n",
       "      <th>2</th>\n",
       "      <td>Sep 28, 2021</td>\n",
       "      <td>2.0367</td>\n",
       "      <td>2.1312</td>\n",
       "      <td>2.1716</td>\n",
       "      <td>2.0300</td>\n",
       "      <td>289.31M</td>\n",
       "      <td>-4.41</td>\n",
       "    </tr>\n",
       "    <tr>\n",
       "      <th>3</th>\n",
       "      <td>Sep 27, 2021</td>\n",
       "      <td>2.1307</td>\n",
       "      <td>2.2090</td>\n",
       "      <td>2.2726</td>\n",
       "      <td>2.1293</td>\n",
       "      <td>288.51M</td>\n",
       "      <td>-3.52</td>\n",
       "    </tr>\n",
       "    <tr>\n",
       "      <th>4</th>\n",
       "      <td>Sep 26, 2021</td>\n",
       "      <td>2.2084</td>\n",
       "      <td>2.2985</td>\n",
       "      <td>2.2999</td>\n",
       "      <td>2.1490</td>\n",
       "      <td>452.94M</td>\n",
       "      <td>-3.92</td>\n",
       "    </tr>\n",
       "  </tbody>\n",
       "</table>\n",
       "</div>"
      ],
      "text/plain": [
       "           date   price    open    high     low     vol.  change %\n",
       "0  Sep 30, 2021  2.1164  2.0655  2.1349  2.0515  250.07M      2.45\n",
       "1  Sep 29, 2021  2.0658  2.0370  2.1424  2.0220  272.69M      1.43\n",
       "2  Sep 28, 2021  2.0367  2.1312  2.1716  2.0300  289.31M     -4.41\n",
       "3  Sep 27, 2021  2.1307  2.2090  2.2726  2.1293  288.51M     -3.52\n",
       "4  Sep 26, 2021  2.2084  2.2985  2.2999  2.1490  452.94M     -3.92"
      ]
     },
     "execution_count": 6,
     "metadata": {},
     "output_type": "execute_result"
    }
   ],
   "source": [
    "#Check  rows and columns\n",
    "cardano_hist.head(5)"
   ]
  },
  {
   "cell_type": "code",
   "execution_count": 7,
   "id": "847d08da",
   "metadata": {},
   "outputs": [
    {
     "data": {
      "text/plain": [
       "date         object\n",
       "price        object\n",
       "open         object\n",
       "high         object\n",
       "low          object\n",
       "vol.         object\n",
       "change %    float64\n",
       "dtype: object"
      ]
     },
     "execution_count": 7,
     "metadata": {},
     "output_type": "execute_result"
    }
   ],
   "source": [
    "cardano_hist.dtypes"
   ]
  },
  {
   "cell_type": "code",
   "execution_count": 8,
   "id": "84923557",
   "metadata": {},
   "outputs": [
    {
     "name": "stdout",
     "output_type": "stream",
     "text": [
      "(1372, 7)\n"
     ]
    }
   ],
   "source": [
    "print(cardano_hist.shape)"
   ]
  },
  {
   "cell_type": "code",
   "execution_count": 9,
   "id": "a7fb4e6c",
   "metadata": {},
   "outputs": [
    {
     "data": {
      "text/plain": [
       "date        2\n",
       "price       1\n",
       "open        1\n",
       "high        1\n",
       "low         1\n",
       "vol.        1\n",
       "change %    2\n",
       "dtype: int64"
      ]
     },
     "execution_count": 9,
     "metadata": {},
     "output_type": "execute_result"
    }
   ],
   "source": [
    "# Check for Nan values\n",
    "cardano_hist.isna().sum()"
   ]
  },
  {
   "cell_type": "markdown",
   "id": "d06ac5a3",
   "metadata": {},
   "source": [
    "* Out of 1372 rows, a few has nan values, later we will take a closer look to correct this values\n",
    "* Most of the features were imported as a string value, an some of them have charaters that need to be transformed"
   ]
  },
  {
   "cell_type": "markdown",
   "id": "e7c2b11f",
   "metadata": {},
   "source": [
    "## Data Cleansing"
   ]
  },
  {
   "cell_type": "code",
   "execution_count": 10,
   "id": "c56db33e",
   "metadata": {},
   "outputs": [
    {
     "data": {
      "text/html": [
       "<div>\n",
       "<style scoped>\n",
       "    .dataframe tbody tr th:only-of-type {\n",
       "        vertical-align: middle;\n",
       "    }\n",
       "\n",
       "    .dataframe tbody tr th {\n",
       "        vertical-align: top;\n",
       "    }\n",
       "\n",
       "    .dataframe thead th {\n",
       "        text-align: right;\n",
       "    }\n",
       "</style>\n",
       "<table border=\"1\" class=\"dataframe\">\n",
       "  <thead>\n",
       "    <tr style=\"text-align: right;\">\n",
       "      <th></th>\n",
       "      <th>date</th>\n",
       "      <th>price</th>\n",
       "      <th>open</th>\n",
       "      <th>high</th>\n",
       "      <th>low</th>\n",
       "      <th>vol.</th>\n",
       "      <th>change %</th>\n",
       "    </tr>\n",
       "  </thead>\n",
       "  <tbody>\n",
       "    <tr>\n",
       "      <th>1370</th>\n",
       "      <td>NaN</td>\n",
       "      <td>NaN</td>\n",
       "      <td>NaN</td>\n",
       "      <td>NaN</td>\n",
       "      <td>NaN</td>\n",
       "      <td>NaN</td>\n",
       "      <td>NaN</td>\n",
       "    </tr>\n",
       "    <tr>\n",
       "      <th>1371</th>\n",
       "      <td>NaN</td>\n",
       "      <td>Highest:3.0989</td>\n",
       "      <td>Lowest:0.0178</td>\n",
       "      <td>Difference:3.0812</td>\n",
       "      <td>Average:0.3722</td>\n",
       "      <td>Change %:258.7039</td>\n",
       "      <td>NaN</td>\n",
       "    </tr>\n",
       "  </tbody>\n",
       "</table>\n",
       "</div>"
      ],
      "text/plain": [
       "     date           price           open               high             low  \\\n",
       "1370  NaN             NaN            NaN                NaN             NaN   \n",
       "1371  NaN  Highest:3.0989  Lowest:0.0178  Difference:3.0812  Average:0.3722   \n",
       "\n",
       "                   vol.  change %  \n",
       "1370                NaN       NaN  \n",
       "1371  Change %:258.7039       NaN  "
      ]
     },
     "execution_count": 10,
     "metadata": {},
     "output_type": "execute_result"
    }
   ],
   "source": [
    "cardano_hist[cardano_hist[\"date\"].isna()]"
   ]
  },
  {
   "cell_type": "code",
   "execution_count": 11,
   "id": "506ef10c",
   "metadata": {},
   "outputs": [
    {
     "data": {
      "text/html": [
       "<div>\n",
       "<style scoped>\n",
       "    .dataframe tbody tr th:only-of-type {\n",
       "        vertical-align: middle;\n",
       "    }\n",
       "\n",
       "    .dataframe tbody tr th {\n",
       "        vertical-align: top;\n",
       "    }\n",
       "\n",
       "    .dataframe thead th {\n",
       "        text-align: right;\n",
       "    }\n",
       "</style>\n",
       "<table border=\"1\" class=\"dataframe\">\n",
       "  <thead>\n",
       "    <tr style=\"text-align: right;\">\n",
       "      <th></th>\n",
       "      <th>date</th>\n",
       "      <th>price</th>\n",
       "      <th>open</th>\n",
       "      <th>high</th>\n",
       "      <th>low</th>\n",
       "      <th>vol.</th>\n",
       "      <th>change %</th>\n",
       "    </tr>\n",
       "  </thead>\n",
       "  <tbody>\n",
       "    <tr>\n",
       "      <th>1367</th>\n",
       "      <td>Jan 02, 2018</td>\n",
       "      <td>0.7620</td>\n",
       "      <td>0.7022</td>\n",
       "      <td>0.8000</td>\n",
       "      <td>0.6750</td>\n",
       "      <td>10.97M</td>\n",
       "      <td>8.52</td>\n",
       "    </tr>\n",
       "    <tr>\n",
       "      <th>1368</th>\n",
       "      <td>Jan 01, 2018</td>\n",
       "      <td>0.7022</td>\n",
       "      <td>0.7100</td>\n",
       "      <td>0.7150</td>\n",
       "      <td>0.6320</td>\n",
       "      <td>17.95M</td>\n",
       "      <td>-1.10</td>\n",
       "    </tr>\n",
       "    <tr>\n",
       "      <th>1369</th>\n",
       "      <td>Dec 31, 2017</td>\n",
       "      <td>0.7100</td>\n",
       "      <td>0.5900</td>\n",
       "      <td>0.7400</td>\n",
       "      <td>0.5900</td>\n",
       "      <td>17.22M</td>\n",
       "      <td>20.34</td>\n",
       "    </tr>\n",
       "    <tr>\n",
       "      <th>1370</th>\n",
       "      <td>NaN</td>\n",
       "      <td>NaN</td>\n",
       "      <td>NaN</td>\n",
       "      <td>NaN</td>\n",
       "      <td>NaN</td>\n",
       "      <td>NaN</td>\n",
       "      <td>NaN</td>\n",
       "    </tr>\n",
       "    <tr>\n",
       "      <th>1371</th>\n",
       "      <td>NaN</td>\n",
       "      <td>Highest:3.0989</td>\n",
       "      <td>Lowest:0.0178</td>\n",
       "      <td>Difference:3.0812</td>\n",
       "      <td>Average:0.3722</td>\n",
       "      <td>Change %:258.7039</td>\n",
       "      <td>NaN</td>\n",
       "    </tr>\n",
       "  </tbody>\n",
       "</table>\n",
       "</div>"
      ],
      "text/plain": [
       "              date           price           open               high  \\\n",
       "1367  Jan 02, 2018          0.7620         0.7022             0.8000   \n",
       "1368  Jan 01, 2018          0.7022         0.7100             0.7150   \n",
       "1369  Dec 31, 2017          0.7100         0.5900             0.7400   \n",
       "1370           NaN             NaN            NaN                NaN   \n",
       "1371           NaN  Highest:3.0989  Lowest:0.0178  Difference:3.0812   \n",
       "\n",
       "                 low               vol.  change %  \n",
       "1367          0.6750             10.97M      8.52  \n",
       "1368          0.6320             17.95M     -1.10  \n",
       "1369          0.5900             17.22M     20.34  \n",
       "1370             NaN                NaN       NaN  \n",
       "1371  Average:0.3722  Change %:258.7039       NaN  "
      ]
     },
     "execution_count": 11,
     "metadata": {},
     "output_type": "execute_result"
    }
   ],
   "source": [
    "cardano_hist.tail(5)"
   ]
  },
  {
   "cell_type": "markdown",
   "id": "9db4d57a",
   "metadata": {},
   "source": [
    "The missing values correspond to thw last two rows.\n",
    "* the first one has all missing values so we should delet this row\n",
    "* the second one contains descriptive values that don't bellow to the information of the dataframe, so we should also drop this information "
   ]
  },
  {
   "cell_type": "code",
   "execution_count": 12,
   "id": "f46e3447",
   "metadata": {},
   "outputs": [],
   "source": [
    "# drop last two rows\n",
    "cardano_hist = cardano_hist[:1370]"
   ]
  },
  {
   "cell_type": "code",
   "execution_count": 13,
   "id": "35309a0f",
   "metadata": {},
   "outputs": [],
   "source": [
    "#change data type\n",
    "for x in ['price','open','high','low']:\n",
    "    cardano_hist[x] = cardano_hist[x].astype(float)"
   ]
  },
  {
   "cell_type": "code",
   "execution_count": 14,
   "id": "c107df9f",
   "metadata": {},
   "outputs": [],
   "source": [
    "#change column name to make it more clear\n",
    "cardano_hist = cardano_hist.rename(columns = {'change %':'change','vol.':'vol' })"
   ]
  },
  {
   "cell_type": "code",
   "execution_count": 15,
   "id": "ea48b952",
   "metadata": {},
   "outputs": [],
   "source": [
    "#convert Date to datatime and create year, month and day column\n",
    "cardano_hist.date = pd.to_datetime(cardano_hist.date)\n",
    "cardano_hist[['year','month','day']] = cardano_hist.date.apply(lambda x: pd.Series(x.strftime(\"%Y-%m-%d\").split(\"-\")))\n",
    "cardano_hist[\"month\"] = cardano_hist[\"month\"].astype(float)\n",
    "cardano_hist[\"day\"] = cardano_hist[\"day\"].astype(float)"
   ]
  },
  {
   "cell_type": "code",
   "execution_count": 16,
   "id": "1e2f90c5",
   "metadata": {},
   "outputs": [],
   "source": [
    "\n",
    "#delete % from string and transform to float\n",
    "cardano_hist['change'] = cardano_hist.change.replace('%', '').astype(float)/100"
   ]
  },
  {
   "cell_type": "markdown",
   "id": "daf8c529",
   "metadata": {},
   "source": [
    "**This fuction were inspired based on the open code from Kaggle: https://www.kaggle.com/jkreyner/script-to-clean-data-set**"
   ]
  },
  {
   "cell_type": "code",
   "execution_count": 17,
   "id": "343658ff",
   "metadata": {},
   "outputs": [],
   "source": [
    "\n",
    "def to_float(x):\n",
    "    \"\"\"\n",
    "        Reformat column to numeric  \n",
    "    Args: \n",
    "        x: Series of Vol to be transformed\n",
    "    \"\"\"    \n",
    "    # transform to numeric base on the string value\n",
    "    if type(x) == float or type(x) == int:\n",
    "        return x\n",
    "    if 'K' in x:\n",
    "        if len(x) > 1:\n",
    "            return float(x.replace('K', '')) * 1000\n",
    "        return 1000.0\n",
    "    if 'M' in x:\n",
    "        if len(x) > 1:\n",
    "            return float(x.replace('M', '')) * 1000000\n",
    "        return 1000000.0\n",
    "    if 'B' in x:\n",
    "        return float(x.replace('B', '')) * 1000000000\n",
    "    return"
   ]
  },
  {
   "cell_type": "code",
   "execution_count": 18,
   "id": "1976c6f7",
   "metadata": {},
   "outputs": [],
   "source": [
    "#transform data type to float\n",
    "cardano_hist['vol'] = cardano_hist['vol'].apply(to_float)"
   ]
  },
  {
   "cell_type": "code",
   "execution_count": 19,
   "id": "2d7223fa",
   "metadata": {},
   "outputs": [
    {
     "name": "stdout",
     "output_type": "stream",
     "text": [
      "date      0\n",
      "price     0\n",
      "open      0\n",
      "high      0\n",
      "low       0\n",
      "vol       5\n",
      "change    0\n",
      "year      0\n",
      "month     0\n",
      "day       0\n",
      "dtype: int64\n"
     ]
    },
    {
     "data": {
      "text/html": [
       "<div>\n",
       "<style scoped>\n",
       "    .dataframe tbody tr th:only-of-type {\n",
       "        vertical-align: middle;\n",
       "    }\n",
       "\n",
       "    .dataframe tbody tr th {\n",
       "        vertical-align: top;\n",
       "    }\n",
       "\n",
       "    .dataframe thead th {\n",
       "        text-align: right;\n",
       "    }\n",
       "</style>\n",
       "<table border=\"1\" class=\"dataframe\">\n",
       "  <thead>\n",
       "    <tr style=\"text-align: right;\">\n",
       "      <th></th>\n",
       "      <th>date</th>\n",
       "      <th>price</th>\n",
       "      <th>open</th>\n",
       "      <th>high</th>\n",
       "      <th>low</th>\n",
       "      <th>vol</th>\n",
       "      <th>change</th>\n",
       "      <th>year</th>\n",
       "      <th>month</th>\n",
       "      <th>day</th>\n",
       "    </tr>\n",
       "  </thead>\n",
       "  <tbody>\n",
       "    <tr>\n",
       "      <th>10</th>\n",
       "      <td>2021-09-20</td>\n",
       "      <td>2.0684</td>\n",
       "      <td>2.2827</td>\n",
       "      <td>2.2884</td>\n",
       "      <td>1.9827</td>\n",
       "      <td>NaN</td>\n",
       "      <td>-0.0939</td>\n",
       "      <td>2021</td>\n",
       "      <td>9.0</td>\n",
       "      <td>20.0</td>\n",
       "    </tr>\n",
       "    <tr>\n",
       "      <th>35</th>\n",
       "      <td>2021-08-26</td>\n",
       "      <td>2.5347</td>\n",
       "      <td>2.7402</td>\n",
       "      <td>2.7846</td>\n",
       "      <td>2.4701</td>\n",
       "      <td>NaN</td>\n",
       "      <td>-0.0750</td>\n",
       "      <td>2021</td>\n",
       "      <td>8.0</td>\n",
       "      <td>26.0</td>\n",
       "    </tr>\n",
       "    <tr>\n",
       "      <th>58</th>\n",
       "      <td>2021-08-03</td>\n",
       "      <td>1.3648</td>\n",
       "      <td>1.3086</td>\n",
       "      <td>1.3822</td>\n",
       "      <td>1.2626</td>\n",
       "      <td>NaN</td>\n",
       "      <td>0.0429</td>\n",
       "      <td>2021</td>\n",
       "      <td>8.0</td>\n",
       "      <td>3.0</td>\n",
       "    </tr>\n",
       "    <tr>\n",
       "      <th>80</th>\n",
       "      <td>2021-07-12</td>\n",
       "      <td>1.3147</td>\n",
       "      <td>1.3479</td>\n",
       "      <td>1.3731</td>\n",
       "      <td>1.2922</td>\n",
       "      <td>NaN</td>\n",
       "      <td>-0.0246</td>\n",
       "      <td>2021</td>\n",
       "      <td>7.0</td>\n",
       "      <td>12.0</td>\n",
       "    </tr>\n",
       "    <tr>\n",
       "      <th>259</th>\n",
       "      <td>2021-01-14</td>\n",
       "      <td>0.3110</td>\n",
       "      <td>0.3127</td>\n",
       "      <td>0.3241</td>\n",
       "      <td>0.2986</td>\n",
       "      <td>NaN</td>\n",
       "      <td>-0.0055</td>\n",
       "      <td>2021</td>\n",
       "      <td>1.0</td>\n",
       "      <td>14.0</td>\n",
       "    </tr>\n",
       "  </tbody>\n",
       "</table>\n",
       "</div>"
      ],
      "text/plain": [
       "          date   price    open    high     low  vol  change  year  month   day\n",
       "10  2021-09-20  2.0684  2.2827  2.2884  1.9827  NaN -0.0939  2021    9.0  20.0\n",
       "35  2021-08-26  2.5347  2.7402  2.7846  2.4701  NaN -0.0750  2021    8.0  26.0\n",
       "58  2021-08-03  1.3648  1.3086  1.3822  1.2626  NaN  0.0429  2021    8.0   3.0\n",
       "80  2021-07-12  1.3147  1.3479  1.3731  1.2922  NaN -0.0246  2021    7.0  12.0\n",
       "259 2021-01-14  0.3110  0.3127  0.3241  0.2986  NaN -0.0055  2021    1.0  14.0"
      ]
     },
     "execution_count": 19,
     "metadata": {},
     "output_type": "execute_result"
    }
   ],
   "source": [
    "# lets check for nan values after this transformations\n",
    "print(cardano_hist.isna().sum())\n",
    "cardano_hist[cardano_hist[\"vol\"].isna()]"
   ]
  },
  {
   "cell_type": "markdown",
   "id": "3a3c0e58",
   "metadata": {},
   "source": [
    "This transformation creates some nan values, and checking in the original dataset it correspond to rows were the value were 0. That is, we had no information about the volumen traded this days, we could replace this nan with the volume of the previous day"
   ]
  },
  {
   "cell_type": "code",
   "execution_count": 20,
   "id": "17b29952",
   "metadata": {},
   "outputs": [],
   "source": [
    "cardano_hist.fillna(method='bfill', inplace = True)"
   ]
  },
  {
   "cell_type": "code",
   "execution_count": 21,
   "id": "092a9e5a",
   "metadata": {},
   "outputs": [
    {
     "name": "stdout",
     "output_type": "stream",
     "text": [
      "date      0\n",
      "price     0\n",
      "open      0\n",
      "high      0\n",
      "low       0\n",
      "vol       0\n",
      "change    0\n",
      "year      0\n",
      "month     0\n",
      "day       0\n",
      "dtype: int64\n"
     ]
    }
   ],
   "source": [
    "print(cardano_hist.isna().sum())"
   ]
  },
  {
   "cell_type": "code",
   "execution_count": 22,
   "id": "d664247d",
   "metadata": {},
   "outputs": [
    {
     "data": {
      "text/html": [
       "<div>\n",
       "<style scoped>\n",
       "    .dataframe tbody tr th:only-of-type {\n",
       "        vertical-align: middle;\n",
       "    }\n",
       "\n",
       "    .dataframe tbody tr th {\n",
       "        vertical-align: top;\n",
       "    }\n",
       "\n",
       "    .dataframe thead th {\n",
       "        text-align: right;\n",
       "    }\n",
       "</style>\n",
       "<table border=\"1\" class=\"dataframe\">\n",
       "  <thead>\n",
       "    <tr style=\"text-align: right;\">\n",
       "      <th></th>\n",
       "      <th>date</th>\n",
       "      <th>price</th>\n",
       "      <th>open</th>\n",
       "      <th>high</th>\n",
       "      <th>low</th>\n",
       "      <th>vol</th>\n",
       "      <th>change</th>\n",
       "      <th>year</th>\n",
       "      <th>month</th>\n",
       "      <th>day</th>\n",
       "    </tr>\n",
       "  </thead>\n",
       "  <tbody>\n",
       "    <tr>\n",
       "      <th>8</th>\n",
       "      <td>2021-09-22</td>\n",
       "      <td>2.2591</td>\n",
       "      <td>1.9842</td>\n",
       "      <td>2.2659</td>\n",
       "      <td>1.9691</td>\n",
       "      <td>564970000.0</td>\n",
       "      <td>0.1392</td>\n",
       "      <td>2021</td>\n",
       "      <td>9.0</td>\n",
       "      <td>22.0</td>\n",
       "    </tr>\n",
       "    <tr>\n",
       "      <th>9</th>\n",
       "      <td>2021-09-21</td>\n",
       "      <td>1.9830</td>\n",
       "      <td>2.0684</td>\n",
       "      <td>2.2239</td>\n",
       "      <td>1.9132</td>\n",
       "      <td>795400000.0</td>\n",
       "      <td>-0.0413</td>\n",
       "      <td>2021</td>\n",
       "      <td>9.0</td>\n",
       "      <td>21.0</td>\n",
       "    </tr>\n",
       "    <tr>\n",
       "      <th>10</th>\n",
       "      <td>2021-09-20</td>\n",
       "      <td>2.0684</td>\n",
       "      <td>2.2827</td>\n",
       "      <td>2.2884</td>\n",
       "      <td>1.9827</td>\n",
       "      <td>222620000.0</td>\n",
       "      <td>-0.0939</td>\n",
       "      <td>2021</td>\n",
       "      <td>9.0</td>\n",
       "      <td>20.0</td>\n",
       "    </tr>\n",
       "    <tr>\n",
       "      <th>11</th>\n",
       "      <td>2021-09-19</td>\n",
       "      <td>2.2827</td>\n",
       "      <td>2.3719</td>\n",
       "      <td>2.3959</td>\n",
       "      <td>2.2612</td>\n",
       "      <td>222620000.0</td>\n",
       "      <td>-0.0376</td>\n",
       "      <td>2021</td>\n",
       "      <td>9.0</td>\n",
       "      <td>19.0</td>\n",
       "    </tr>\n",
       "  </tbody>\n",
       "</table>\n",
       "</div>"
      ],
      "text/plain": [
       "         date   price    open    high     low          vol  change  year  \\\n",
       "8  2021-09-22  2.2591  1.9842  2.2659  1.9691  564970000.0  0.1392  2021   \n",
       "9  2021-09-21  1.9830  2.0684  2.2239  1.9132  795400000.0 -0.0413  2021   \n",
       "10 2021-09-20  2.0684  2.2827  2.2884  1.9827  222620000.0 -0.0939  2021   \n",
       "11 2021-09-19  2.2827  2.3719  2.3959  2.2612  222620000.0 -0.0376  2021   \n",
       "\n",
       "    month   day  \n",
       "8     9.0  22.0  \n",
       "9     9.0  21.0  \n",
       "10    9.0  20.0  \n",
       "11    9.0  19.0  "
      ]
     },
     "execution_count": 22,
     "metadata": {},
     "output_type": "execute_result"
    }
   ],
   "source": [
    "#check that the nan was correctly remplaced\n",
    "cardano_hist.iloc[8:12]"
   ]
  },
  {
   "cell_type": "code",
   "execution_count": 23,
   "id": "d5815a5d",
   "metadata": {},
   "outputs": [
    {
     "data": {
      "text/html": [
       "<div>\n",
       "<style scoped>\n",
       "    .dataframe tbody tr th:only-of-type {\n",
       "        vertical-align: middle;\n",
       "    }\n",
       "\n",
       "    .dataframe tbody tr th {\n",
       "        vertical-align: top;\n",
       "    }\n",
       "\n",
       "    .dataframe thead th {\n",
       "        text-align: right;\n",
       "    }\n",
       "</style>\n",
       "<table border=\"1\" class=\"dataframe\">\n",
       "  <thead>\n",
       "    <tr style=\"text-align: right;\">\n",
       "      <th></th>\n",
       "      <th>price</th>\n",
       "      <th>open</th>\n",
       "      <th>high</th>\n",
       "      <th>low</th>\n",
       "      <th>vol</th>\n",
       "      <th>change</th>\n",
       "      <th>month</th>\n",
       "      <th>day</th>\n",
       "    </tr>\n",
       "  </thead>\n",
       "  <tbody>\n",
       "    <tr>\n",
       "      <th>count</th>\n",
       "      <td>1370.000000</td>\n",
       "      <td>1370.000000</td>\n",
       "      <td>1370.000000</td>\n",
       "      <td>1370.000000</td>\n",
       "      <td>1.370000e+03</td>\n",
       "      <td>1370.000000</td>\n",
       "      <td>1370.000000</td>\n",
       "      <td>1370.000000</td>\n",
       "    </tr>\n",
       "    <tr>\n",
       "      <th>mean</th>\n",
       "      <td>0.372239</td>\n",
       "      <td>0.371315</td>\n",
       "      <td>0.390555</td>\n",
       "      <td>0.350343</td>\n",
       "      <td>4.592991e+08</td>\n",
       "      <td>0.002984</td>\n",
       "      <td>6.226277</td>\n",
       "      <td>15.733577</td>\n",
       "    </tr>\n",
       "    <tr>\n",
       "      <th>std</th>\n",
       "      <td>0.600406</td>\n",
       "      <td>0.598689</td>\n",
       "      <td>0.629400</td>\n",
       "      <td>0.566161</td>\n",
       "      <td>4.663479e+08</td>\n",
       "      <td>0.064444</td>\n",
       "      <td>3.351771</td>\n",
       "      <td>8.806074</td>\n",
       "    </tr>\n",
       "    <tr>\n",
       "      <th>min</th>\n",
       "      <td>0.023200</td>\n",
       "      <td>0.023200</td>\n",
       "      <td>0.026500</td>\n",
       "      <td>0.017800</td>\n",
       "      <td>4.810000e+06</td>\n",
       "      <td>-0.414900</td>\n",
       "      <td>1.000000</td>\n",
       "      <td>1.000000</td>\n",
       "    </tr>\n",
       "    <tr>\n",
       "      <th>25%</th>\n",
       "      <td>0.049800</td>\n",
       "      <td>0.049800</td>\n",
       "      <td>0.051700</td>\n",
       "      <td>0.048025</td>\n",
       "      <td>1.501675e+08</td>\n",
       "      <td>-0.030175</td>\n",
       "      <td>3.000000</td>\n",
       "      <td>8.000000</td>\n",
       "    </tr>\n",
       "    <tr>\n",
       "      <th>50%</th>\n",
       "      <td>0.093750</td>\n",
       "      <td>0.093750</td>\n",
       "      <td>0.097950</td>\n",
       "      <td>0.090600</td>\n",
       "      <td>3.282400e+08</td>\n",
       "      <td>0.000000</td>\n",
       "      <td>6.000000</td>\n",
       "      <td>16.000000</td>\n",
       "    </tr>\n",
       "    <tr>\n",
       "      <th>75%</th>\n",
       "      <td>0.296425</td>\n",
       "      <td>0.296425</td>\n",
       "      <td>0.313475</td>\n",
       "      <td>0.279025</td>\n",
       "      <td>5.962575e+08</td>\n",
       "      <td>0.030700</td>\n",
       "      <td>9.000000</td>\n",
       "      <td>23.000000</td>\n",
       "    </tr>\n",
       "    <tr>\n",
       "      <th>max</th>\n",
       "      <td>2.965200</td>\n",
       "      <td>2.965300</td>\n",
       "      <td>3.098900</td>\n",
       "      <td>2.903000</td>\n",
       "      <td>3.070000e+09</td>\n",
       "      <td>0.417300</td>\n",
       "      <td>12.000000</td>\n",
       "      <td>31.000000</td>\n",
       "    </tr>\n",
       "  </tbody>\n",
       "</table>\n",
       "</div>"
      ],
      "text/plain": [
       "             price         open         high          low           vol  \\\n",
       "count  1370.000000  1370.000000  1370.000000  1370.000000  1.370000e+03   \n",
       "mean      0.372239     0.371315     0.390555     0.350343  4.592991e+08   \n",
       "std       0.600406     0.598689     0.629400     0.566161  4.663479e+08   \n",
       "min       0.023200     0.023200     0.026500     0.017800  4.810000e+06   \n",
       "25%       0.049800     0.049800     0.051700     0.048025  1.501675e+08   \n",
       "50%       0.093750     0.093750     0.097950     0.090600  3.282400e+08   \n",
       "75%       0.296425     0.296425     0.313475     0.279025  5.962575e+08   \n",
       "max       2.965200     2.965300     3.098900     2.903000  3.070000e+09   \n",
       "\n",
       "            change        month          day  \n",
       "count  1370.000000  1370.000000  1370.000000  \n",
       "mean      0.002984     6.226277    15.733577  \n",
       "std       0.064444     3.351771     8.806074  \n",
       "min      -0.414900     1.000000     1.000000  \n",
       "25%      -0.030175     3.000000     8.000000  \n",
       "50%       0.000000     6.000000    16.000000  \n",
       "75%       0.030700     9.000000    23.000000  \n",
       "max       0.417300    12.000000    31.000000  "
      ]
     },
     "execution_count": 23,
     "metadata": {},
     "output_type": "execute_result"
    }
   ],
   "source": [
    "cardano_hist.describe()"
   ]
  },
  {
   "cell_type": "code",
   "execution_count": 24,
   "id": "d2aefa43",
   "metadata": {},
   "outputs": [],
   "source": [
    "# sort values in descending order\n",
    "cardano_hist = cardano_hist.sort_values(by=\"date\").reset_index(drop=True)"
   ]
  },
  {
   "cell_type": "markdown",
   "id": "c8de1c00",
   "metadata": {},
   "source": [
    "###  Target variable "
   ]
  },
  {
   "cell_type": "markdown",
   "id": "305f6eb9",
   "metadata": {},
   "source": [
    "The target variables is not a feature included in our data set, so we need to create it.\n",
    "\n",
    "Considering that our main objetive is predict the price tend for the next day our target is %change of the next day transformed to a binary variable where:\n",
    "* 1: the prices increased the next day \n",
    "* 0: the prices decreased the next day (No price change is considered 0)"
   ]
  },
  {
   "cell_type": "code",
   "execution_count": 25,
   "id": "736b0db1",
   "metadata": {},
   "outputs": [],
   "source": [
    "cardano_hist['future_increase'] = np.where(cardano_hist.change.shift(-1).fillna(value=0) > 0,1,0)"
   ]
  },
  {
   "cell_type": "code",
   "execution_count": 26,
   "id": "3a659c82",
   "metadata": {},
   "outputs": [
    {
     "data": {
      "text/html": [
       "<div>\n",
       "<style scoped>\n",
       "    .dataframe tbody tr th:only-of-type {\n",
       "        vertical-align: middle;\n",
       "    }\n",
       "\n",
       "    .dataframe tbody tr th {\n",
       "        vertical-align: top;\n",
       "    }\n",
       "\n",
       "    .dataframe thead th {\n",
       "        text-align: right;\n",
       "    }\n",
       "</style>\n",
       "<table border=\"1\" class=\"dataframe\">\n",
       "  <thead>\n",
       "    <tr style=\"text-align: right;\">\n",
       "      <th></th>\n",
       "      <th>date</th>\n",
       "      <th>price</th>\n",
       "      <th>open</th>\n",
       "      <th>high</th>\n",
       "      <th>low</th>\n",
       "      <th>vol</th>\n",
       "      <th>change</th>\n",
       "      <th>year</th>\n",
       "      <th>month</th>\n",
       "      <th>day</th>\n",
       "      <th>future_increase</th>\n",
       "    </tr>\n",
       "  </thead>\n",
       "  <tbody>\n",
       "    <tr>\n",
       "      <th>0</th>\n",
       "      <td>2017-12-31</td>\n",
       "      <td>0.7100</td>\n",
       "      <td>0.5900</td>\n",
       "      <td>0.7400</td>\n",
       "      <td>0.5900</td>\n",
       "      <td>17220000.0</td>\n",
       "      <td>0.2034</td>\n",
       "      <td>2017</td>\n",
       "      <td>12.0</td>\n",
       "      <td>31.0</td>\n",
       "      <td>0</td>\n",
       "    </tr>\n",
       "    <tr>\n",
       "      <th>1</th>\n",
       "      <td>2018-01-01</td>\n",
       "      <td>0.7022</td>\n",
       "      <td>0.7100</td>\n",
       "      <td>0.7150</td>\n",
       "      <td>0.6320</td>\n",
       "      <td>17950000.0</td>\n",
       "      <td>-0.0110</td>\n",
       "      <td>2018</td>\n",
       "      <td>1.0</td>\n",
       "      <td>1.0</td>\n",
       "      <td>1</td>\n",
       "    </tr>\n",
       "    <tr>\n",
       "      <th>2</th>\n",
       "      <td>2018-01-02</td>\n",
       "      <td>0.7620</td>\n",
       "      <td>0.7022</td>\n",
       "      <td>0.8000</td>\n",
       "      <td>0.6750</td>\n",
       "      <td>10970000.0</td>\n",
       "      <td>0.0852</td>\n",
       "      <td>2018</td>\n",
       "      <td>1.0</td>\n",
       "      <td>2.0</td>\n",
       "      <td>1</td>\n",
       "    </tr>\n",
       "    <tr>\n",
       "      <th>3</th>\n",
       "      <td>2018-01-03</td>\n",
       "      <td>1.0800</td>\n",
       "      <td>0.9782</td>\n",
       "      <td>1.0900</td>\n",
       "      <td>0.8882</td>\n",
       "      <td>20230000.0</td>\n",
       "      <td>0.4173</td>\n",
       "      <td>2018</td>\n",
       "      <td>1.0</td>\n",
       "      <td>3.0</td>\n",
       "      <td>1</td>\n",
       "    </tr>\n",
       "    <tr>\n",
       "      <th>4</th>\n",
       "      <td>2018-01-04</td>\n",
       "      <td>1.1043</td>\n",
       "      <td>1.1000</td>\n",
       "      <td>1.3500</td>\n",
       "      <td>1.0500</td>\n",
       "      <td>19600000.0</td>\n",
       "      <td>0.0225</td>\n",
       "      <td>2018</td>\n",
       "      <td>1.0</td>\n",
       "      <td>4.0</td>\n",
       "      <td>0</td>\n",
       "    </tr>\n",
       "    <tr>\n",
       "      <th>5</th>\n",
       "      <td>2018-01-05</td>\n",
       "      <td>0.9949</td>\n",
       "      <td>1.1800</td>\n",
       "      <td>1.3000</td>\n",
       "      <td>0.9070</td>\n",
       "      <td>18530000.0</td>\n",
       "      <td>-0.0991</td>\n",
       "      <td>2018</td>\n",
       "      <td>1.0</td>\n",
       "      <td>5.0</td>\n",
       "      <td>1</td>\n",
       "    </tr>\n",
       "    <tr>\n",
       "      <th>6</th>\n",
       "      <td>2018-01-06</td>\n",
       "      <td>1.0358</td>\n",
       "      <td>1.0099</td>\n",
       "      <td>1.0830</td>\n",
       "      <td>0.9229</td>\n",
       "      <td>9120000.0</td>\n",
       "      <td>0.0411</td>\n",
       "      <td>2018</td>\n",
       "      <td>1.0</td>\n",
       "      <td>6.0</td>\n",
       "      <td>0</td>\n",
       "    </tr>\n",
       "    <tr>\n",
       "      <th>7</th>\n",
       "      <td>2018-01-07</td>\n",
       "      <td>1.0060</td>\n",
       "      <td>1.0200</td>\n",
       "      <td>1.0534</td>\n",
       "      <td>0.9800</td>\n",
       "      <td>4810000.0</td>\n",
       "      <td>-0.0288</td>\n",
       "      <td>2018</td>\n",
       "      <td>1.0</td>\n",
       "      <td>7.0</td>\n",
       "      <td>0</td>\n",
       "    </tr>\n",
       "    <tr>\n",
       "      <th>8</th>\n",
       "      <td>2018-01-08</td>\n",
       "      <td>0.9000</td>\n",
       "      <td>1.0130</td>\n",
       "      <td>1.0130</td>\n",
       "      <td>0.7520</td>\n",
       "      <td>10970000.0</td>\n",
       "      <td>-0.1054</td>\n",
       "      <td>2018</td>\n",
       "      <td>1.0</td>\n",
       "      <td>8.0</td>\n",
       "      <td>0</td>\n",
       "    </tr>\n",
       "    <tr>\n",
       "      <th>9</th>\n",
       "      <td>2018-01-09</td>\n",
       "      <td>0.8100</td>\n",
       "      <td>0.9000</td>\n",
       "      <td>0.9290</td>\n",
       "      <td>0.7729</td>\n",
       "      <td>7890000.0</td>\n",
       "      <td>-0.1000</td>\n",
       "      <td>2018</td>\n",
       "      <td>1.0</td>\n",
       "      <td>9.0</td>\n",
       "      <td>0</td>\n",
       "    </tr>\n",
       "  </tbody>\n",
       "</table>\n",
       "</div>"
      ],
      "text/plain": [
       "        date   price    open    high     low         vol  change  year  month  \\\n",
       "0 2017-12-31  0.7100  0.5900  0.7400  0.5900  17220000.0  0.2034  2017   12.0   \n",
       "1 2018-01-01  0.7022  0.7100  0.7150  0.6320  17950000.0 -0.0110  2018    1.0   \n",
       "2 2018-01-02  0.7620  0.7022  0.8000  0.6750  10970000.0  0.0852  2018    1.0   \n",
       "3 2018-01-03  1.0800  0.9782  1.0900  0.8882  20230000.0  0.4173  2018    1.0   \n",
       "4 2018-01-04  1.1043  1.1000  1.3500  1.0500  19600000.0  0.0225  2018    1.0   \n",
       "5 2018-01-05  0.9949  1.1800  1.3000  0.9070  18530000.0 -0.0991  2018    1.0   \n",
       "6 2018-01-06  1.0358  1.0099  1.0830  0.9229   9120000.0  0.0411  2018    1.0   \n",
       "7 2018-01-07  1.0060  1.0200  1.0534  0.9800   4810000.0 -0.0288  2018    1.0   \n",
       "8 2018-01-08  0.9000  1.0130  1.0130  0.7520  10970000.0 -0.1054  2018    1.0   \n",
       "9 2018-01-09  0.8100  0.9000  0.9290  0.7729   7890000.0 -0.1000  2018    1.0   \n",
       "\n",
       "    day  future_increase  \n",
       "0  31.0                0  \n",
       "1   1.0                1  \n",
       "2   2.0                1  \n",
       "3   3.0                1  \n",
       "4   4.0                0  \n",
       "5   5.0                1  \n",
       "6   6.0                0  \n",
       "7   7.0                0  \n",
       "8   8.0                0  \n",
       "9   9.0                0  "
      ]
     },
     "execution_count": 26,
     "metadata": {},
     "output_type": "execute_result"
    }
   ],
   "source": [
    "cardano_hist.head(10)"
   ]
  },
  {
   "cell_type": "markdown",
   "id": "7e04916f",
   "metadata": {},
   "source": [
    "All features are ok, we are ready to explore the dataset"
   ]
  },
  {
   "cell_type": "markdown",
   "id": "92d7241e",
   "metadata": {},
   "source": [
    "## Data Exploration"
   ]
  },
  {
   "cell_type": "markdown",
   "id": "432a978d",
   "metadata": {},
   "source": [
    "### Historical Price"
   ]
  },
  {
   "cell_type": "markdown",
   "id": "46e628e2",
   "metadata": {},
   "source": [
    "First let's take a look at the cardano historical prices."
   ]
  },
  {
   "cell_type": "code",
   "execution_count": 27,
   "id": "83a65964",
   "metadata": {},
   "outputs": [
    {
     "data": {
      "image/png": "[encoded data removed]",
      "text/plain": [
       "<Figure size 1080x720 with 1 Axes>"
      ]
     },
     "metadata": {
      "needs_background": "light"
     },
     "output_type": "display_data"
    }
   ],
   "source": [
    "plt.figure(figsize=(15,10))\n",
    "sns.lineplot(data=cardano_hist, x=\"date\", y=\"price\").set_title(\"ADA Historical Price\");"
   ]
  },
  {
   "cell_type": "markdown",
   "id": "e0b9ef55",
   "metadata": {},
   "source": [
    "It is important to see not only the increase in it price but how volatile cardano. Also it has had a lot up rallies and crashes during this period.\n",
    "By visualization I can't no see any strange value, the graph seem prety smooth and continuos. But lets take a closer look to the Dataset"
   ]
  },
  {
   "cell_type": "markdown",
   "id": "11ee1482",
   "metadata": {},
   "source": [
    "### Distribution of Features"
   ]
  },
  {
   "cell_type": "markdown",
   "id": "e90c7102",
   "metadata": {},
   "source": [
    "### Distribution of the target variable"
   ]
  },
  {
   "cell_type": "code",
   "execution_count": 28,
   "id": "7a7b3565",
   "metadata": {},
   "outputs": [
    {
     "data": {
      "image/png": "[encoded data removed]",
      "text/plain": [
       "<Figure size 576x432 with 1 Axes>"
      ]
     },
     "metadata": {
      "needs_background": "light"
     },
     "output_type": "display_data"
    }
   ],
   "source": [
    "\n",
    "# groupby class to get counts\n",
    "df_class = cardano_hist.groupby('future_increase')[\"date\"].count().reset_index().rename(columns = {'date':'count'})\n",
    "# plot the number of users that churned\n",
    "plt.figure(figsize = [8,6])\n",
    "ax = sns.barplot(data = df_class, x = 'future_increase', y='count')\n",
    "plt.title(\"Numbers of classes\");"
   ]
  },
  {
   "cell_type": "markdown",
   "id": "31a308e3",
   "metadata": {},
   "source": [
    "We have a pretty balanced data set! that is really good for classification porpouses!\n",
    "\n",
    "Let's take a look to the other variables:"
   ]
  },
  {
   "cell_type": "code",
   "execution_count": 29,
   "id": "66a19c9d",
   "metadata": {},
   "outputs": [
    {
     "data": {
      "image/png": "[encoded data removed]",
      "text/plain": [
       "<Figure size 576x432 with 1 Axes>"
      ]
     },
     "metadata": {
      "needs_background": "light"
     },
     "output_type": "display_data"
    }
   ],
   "source": [
    "#plot boxplot\n",
    "plt.figure(figsize = [8,6])\n",
    "ax = sns.boxplot(data = cardano_hist, x = 'future_increase', y='vol')\n",
    "plt.title(\"Distribution Volume\");"
   ]
  },
  {
   "cell_type": "markdown",
   "id": "93f401e0",
   "metadata": {},
   "source": [
    "It seems that volumen is a little bit higher when the prices increase, however the distribution is prety similar."
   ]
  },
  {
   "cell_type": "code",
   "execution_count": 30,
   "id": "d43a1edd",
   "metadata": {},
   "outputs": [
    {
     "data": {
      "image/png": "[encoded data removed]",
      "text/plain": [
       "<Figure size 576x432 with 1 Axes>"
      ]
     },
     "metadata": {
      "needs_background": "light"
     },
     "output_type": "display_data"
    }
   ],
   "source": [
    "#plot boxplot\n",
    "plt.figure(figsize = [8,6])\n",
    "ax = sns.boxplot(data = cardano_hist, x = 'future_increase', y='change')\n",
    "plt.title(\"Distribution Price Change\");"
   ]
  },
  {
   "cell_type": "markdown",
   "id": "bcf68e2b",
   "metadata": {},
   "source": [
    "Those distributions are also very similar but we can see that the distribution of \"Future Increases\" has lower values. This is really interesting, it seems that daily crashes are followed by price increases."
   ]
  },
  {
   "cell_type": "code",
   "execution_count": 31,
   "id": "656a06b1",
   "metadata": {},
   "outputs": [
    {
     "data": {
      "image/png": "[encoded data removed]",
      "text/plain": [
       "<Figure size 432x288 with 1 Axes>"
      ]
     },
     "metadata": {
      "needs_background": "light"
     },
     "output_type": "display_data"
    }
   ],
   "source": [
    "sns.boxplot(data=cardano_hist[['price', 'open', 'high', 'low']]).set_title(\"Distribution Price\");"
   ]
  },
  {
   "cell_type": "markdown",
   "id": "835da810",
   "metadata": {},
   "source": [
    "Price has a wide distribution because price has exponentially increased since 2017. This is important to consider cause the values in first years is different compared to recent years. Thus, we must be carefull if we use those variables. "
   ]
  },
  {
   "cell_type": "code",
   "execution_count": 32,
   "id": "58475f35",
   "metadata": {},
   "outputs": [
    {
     "data": {
      "image/png": "[encoded data removed]",
      "text/plain": [
       "<Figure size 720x576 with 1 Axes>"
      ]
     },
     "metadata": {
      "needs_background": "light"
     },
     "output_type": "display_data"
    }
   ],
   "source": [
    "plt.figure(figsize=(10,8))\n",
    "plt.hist(cardano_hist[\"change\"].astype(float), bins = 100)\n",
    "plt.title(\"Distribution of Daily Percentage Change in Price\")\n",
    "plt.xlabel(\"Percentage Change in Price\")\n",
    "plt.ylabel(\"Count\");"
   ]
  },
  {
   "cell_type": "markdown",
   "id": "7eee171d",
   "metadata": {},
   "source": [
    "The distribution of changes is prety symertical around 0"
   ]
  },
  {
   "cell_type": "markdown",
   "id": "2fb7993d",
   "metadata": {},
   "source": [
    "### Monthy return"
   ]
  },
  {
   "cell_type": "code",
   "execution_count": 33,
   "id": "08afbbaf",
   "metadata": {},
   "outputs": [],
   "source": [
    "cardano_hist[\"return\"] = cardano_hist[\"change\"] + 1\n",
    "cardano_hist_month = cardano_hist.groupby([\"year\",\"month\"])[\"return\"].prod().reset_index()\n",
    "cardano_hist_month[\"change\"] = cardano_hist_month[\"return\"] - 1"
   ]
  },
  {
   "cell_type": "code",
   "execution_count": 34,
   "id": "59449039",
   "metadata": {},
   "outputs": [
    {
     "data": {
      "image/png": "[encoded data removed]",
      "text/plain": [
       "<Figure size 1152x432 with 1 Axes>"
      ]
     },
     "metadata": {
      "needs_background": "light"
     },
     "output_type": "display_data"
    }
   ],
   "source": [
    "plt.figure(figsize=(16, 6))\n",
    "ax = sns.barplot(x=\"month\", y=\"change\", data=cardano_hist_month.groupby(\"month\")[\"change\"].mean().reset_index()\n",
    "                 ,palette=\"GnBu_r\").set_title(\"Avg. Monthly Price Increase %\")"
   ]
  },
  {
   "cell_type": "markdown",
   "id": "3dbb8d71",
   "metadata": {},
   "source": [
    "## Feature Engineering"
   ]
  },
  {
   "cell_type": "markdown",
   "id": "dfef5797",
   "metadata": {},
   "source": [
    "As the original dataset only have a few features it is important to build some aditional columns with information about trends, past history and performance. In this project I built the followings variables:"
   ]
  },
  {
   "cell_type": "code",
   "execution_count": 35,
   "id": "f2f297cf",
   "metadata": {},
   "outputs": [],
   "source": [
    "# Convert volumn to 10E9 for simplification\n",
    "cardano_hist[\"vol\"] = cardano_hist[\"vol\"]/1000000000"
   ]
  },
  {
   "cell_type": "code",
   "execution_count": 36,
   "id": "6d667a55",
   "metadata": {},
   "outputs": [],
   "source": [
    "# Exponential moving avergae at 30,50 and 200 days interval\n",
    "cardano_hist['30d_ema_price'] = cardano_hist['price'].ewm(span=30, adjust=False).mean()\n",
    "cardano_hist['50d_ema_price'] = cardano_hist['price'].ewm(span=50, adjust=False).mean()\n",
    "cardano_hist['200d_ema_price'] = cardano_hist['price'].ewm(span=200, adjust=False).mean()"
   ]
  },
  {
   "cell_type": "code",
   "execution_count": 37,
   "id": "549afdb4",
   "metadata": {},
   "outputs": [],
   "source": [
    "# Exponential moving avergae of the volumen at 30,50 and 200 days interval\n",
    "cardano_hist['30d_ema_vol'] = cardano_hist['vol'].ewm(span=30, adjust=False).mean()\n",
    "cardano_hist['50d_ema_vol'] = cardano_hist['vol'].ewm(span=50, adjust=False).mean()\n",
    "cardano_hist['200d_ema_vol'] = cardano_hist['vol'].ewm(span=200, adjust=False).mean()"
   ]
  },
  {
   "cell_type": "code",
   "execution_count": 38,
   "id": "2a4d7ef5",
   "metadata": {},
   "outputs": [],
   "source": [
    "# Corresponding All time High value at the corresponding date\n",
    "ath = [cardano_hist[\"high\"][0]]\n",
    "for i in cardano_hist[\"high\"][1:]:\n",
    "    if i > max(ath):\n",
    "        ath.append(i)\n",
    "    else:\n",
    "        ath.append(max(ath))\n",
    "        \n",
    "cardano_hist[\"ath\"] = ath"
   ]
  },
  {
   "cell_type": "code",
   "execution_count": 39,
   "id": "c3ea4a54",
   "metadata": {},
   "outputs": [],
   "source": [
    "# Rolling minimung price at 30 dat interval\n",
    "cardano_hist[\"30d_roll_low\"] = cardano_hist[\"low\"].rolling(30).min().fillna(cardano_hist[\"low\"])"
   ]
  },
  {
   "cell_type": "markdown",
   "id": "34826898",
   "metadata": {},
   "source": [
    "I am really concern that the nominal value at the beginning years is really small compare to recent year. Thus I will create some relative variable (ratios and relationship) to reduce this differences."
   ]
  },
  {
   "cell_type": "code",
   "execution_count": 40,
   "id": "0c92a2b4",
   "metadata": {},
   "outputs": [],
   "source": [
    "cardano_hist['30d_ema_price_ratio'] = cardano_hist['price']/cardano_hist['30d_ema_price']\n",
    "cardano_hist['50d_ema_price_ratio'] = cardano_hist['price']/cardano_hist['50d_ema_price']\n",
    "cardano_hist['200d_ema_price_ratio'] = cardano_hist['price']/cardano_hist['200d_ema_price']\n",
    "\n",
    "cardano_hist['30d_ema_vol_ratio'] = cardano_hist['vol']/cardano_hist['30d_ema_price']\n",
    "cardano_hist['50d_ema_vol_ratio'] = cardano_hist['vol']/cardano_hist['50d_ema_price']\n",
    "cardano_hist['200d_ema_vol_ratio'] = cardano_hist['vol']/cardano_hist['200d_ema_price']\n",
    "\n",
    "cardano_hist[\"ath_ratio\"] = cardano_hist['price']/cardano_hist[\"ath\"]\n",
    "\n",
    "cardano_hist[\"30d_roll_low_ratio\"] = cardano_hist['price']/cardano_hist[\"30d_roll_low\"] "
   ]
  },
  {
   "cell_type": "markdown",
   "id": "80322b16",
   "metadata": {},
   "source": [
    "### Test Train Split"
   ]
  },
  {
   "cell_type": "code",
   "execution_count": 41,
   "id": "ec0ce204",
   "metadata": {},
   "outputs": [],
   "source": [
    "train = cardano_hist[:max(cardano_hist[cardano_hist[\"date\"]<\"2021-05-01\"].index)+1]\n",
    "test = cardano_hist[max(cardano_hist[cardano_hist[\"date\"]<\"2021-05-01\"].index)+1:]"
   ]
  },
  {
   "cell_type": "code",
   "execution_count": 42,
   "id": "77985cb3",
   "metadata": {},
   "outputs": [
    {
     "data": {
      "text/html": [
       "<div>\n",
       "<style scoped>\n",
       "    .dataframe tbody tr th:only-of-type {\n",
       "        vertical-align: middle;\n",
       "    }\n",
       "\n",
       "    .dataframe tbody tr th {\n",
       "        vertical-align: top;\n",
       "    }\n",
       "\n",
       "    .dataframe thead th {\n",
       "        text-align: right;\n",
       "    }\n",
       "</style>\n",
       "<table border=\"1\" class=\"dataframe\">\n",
       "  <thead>\n",
       "    <tr style=\"text-align: right;\">\n",
       "      <th></th>\n",
       "      <th>date</th>\n",
       "      <th>price</th>\n",
       "      <th>open</th>\n",
       "      <th>high</th>\n",
       "      <th>low</th>\n",
       "      <th>vol</th>\n",
       "      <th>change</th>\n",
       "      <th>year</th>\n",
       "      <th>month</th>\n",
       "      <th>day</th>\n",
       "      <th>...</th>\n",
       "      <th>ath</th>\n",
       "      <th>30d_roll_low</th>\n",
       "      <th>30d_ema_price_ratio</th>\n",
       "      <th>50d_ema_price_ratio</th>\n",
       "      <th>200d_ema_price_ratio</th>\n",
       "      <th>30d_ema_vol_ratio</th>\n",
       "      <th>50d_ema_vol_ratio</th>\n",
       "      <th>200d_ema_vol_ratio</th>\n",
       "      <th>ath_ratio</th>\n",
       "      <th>30d_roll_low_ratio</th>\n",
       "    </tr>\n",
       "  </thead>\n",
       "  <tbody>\n",
       "    <tr>\n",
       "      <th>0</th>\n",
       "      <td>2017-12-31</td>\n",
       "      <td>0.7100</td>\n",
       "      <td>0.5900</td>\n",
       "      <td>0.7400</td>\n",
       "      <td>0.5900</td>\n",
       "      <td>0.01722</td>\n",
       "      <td>0.2034</td>\n",
       "      <td>2017</td>\n",
       "      <td>12.0</td>\n",
       "      <td>31.0</td>\n",
       "      <td>...</td>\n",
       "      <td>0.7400</td>\n",
       "      <td>0.5900</td>\n",
       "      <td>1.000000</td>\n",
       "      <td>1.000000</td>\n",
       "      <td>1.000000</td>\n",
       "      <td>0.024254</td>\n",
       "      <td>0.024254</td>\n",
       "      <td>0.024254</td>\n",
       "      <td>0.959459</td>\n",
       "      <td>1.203390</td>\n",
       "    </tr>\n",
       "    <tr>\n",
       "      <th>1</th>\n",
       "      <td>2018-01-01</td>\n",
       "      <td>0.7022</td>\n",
       "      <td>0.7100</td>\n",
       "      <td>0.7150</td>\n",
       "      <td>0.6320</td>\n",
       "      <td>0.01795</td>\n",
       "      <td>-0.0110</td>\n",
       "      <td>2018</td>\n",
       "      <td>1.0</td>\n",
       "      <td>1.0</td>\n",
       "      <td>...</td>\n",
       "      <td>0.7400</td>\n",
       "      <td>0.6320</td>\n",
       "      <td>0.989716</td>\n",
       "      <td>0.989440</td>\n",
       "      <td>0.989122</td>\n",
       "      <td>0.025300</td>\n",
       "      <td>0.025293</td>\n",
       "      <td>0.025284</td>\n",
       "      <td>0.948919</td>\n",
       "      <td>1.111076</td>\n",
       "    </tr>\n",
       "    <tr>\n",
       "      <th>2</th>\n",
       "      <td>2018-01-02</td>\n",
       "      <td>0.7620</td>\n",
       "      <td>0.7022</td>\n",
       "      <td>0.8000</td>\n",
       "      <td>0.6750</td>\n",
       "      <td>0.01097</td>\n",
       "      <td>0.0852</td>\n",
       "      <td>2018</td>\n",
       "      <td>1.0</td>\n",
       "      <td>2.0</td>\n",
       "      <td>...</td>\n",
       "      <td>0.8000</td>\n",
       "      <td>0.6750</td>\n",
       "      <td>1.068897</td>\n",
       "      <td>1.070608</td>\n",
       "      <td>1.072574</td>\n",
       "      <td>0.015388</td>\n",
       "      <td>0.015413</td>\n",
       "      <td>0.015441</td>\n",
       "      <td>0.952500</td>\n",
       "      <td>1.128889</td>\n",
       "    </tr>\n",
       "    <tr>\n",
       "      <th>3</th>\n",
       "      <td>2018-01-03</td>\n",
       "      <td>1.0800</td>\n",
       "      <td>0.9782</td>\n",
       "      <td>1.0900</td>\n",
       "      <td>0.8882</td>\n",
       "      <td>0.02023</td>\n",
       "      <td>0.4173</td>\n",
       "      <td>2018</td>\n",
       "      <td>1.0</td>\n",
       "      <td>3.0</td>\n",
       "      <td>...</td>\n",
       "      <td>1.0900</td>\n",
       "      <td>0.8882</td>\n",
       "      <td>1.466258</td>\n",
       "      <td>1.487221</td>\n",
       "      <td>1.512356</td>\n",
       "      <td>0.027465</td>\n",
       "      <td>0.027858</td>\n",
       "      <td>0.028329</td>\n",
       "      <td>0.990826</td>\n",
       "      <td>1.215942</td>\n",
       "    </tr>\n",
       "    <tr>\n",
       "      <th>4</th>\n",
       "      <td>2018-01-04</td>\n",
       "      <td>1.1043</td>\n",
       "      <td>1.1000</td>\n",
       "      <td>1.3500</td>\n",
       "      <td>1.0500</td>\n",
       "      <td>0.01960</td>\n",
       "      <td>0.0225</td>\n",
       "      <td>2018</td>\n",
       "      <td>1.0</td>\n",
       "      <td>4.0</td>\n",
       "      <td>...</td>\n",
       "      <td>1.3500</td>\n",
       "      <td>1.0500</td>\n",
       "      <td>1.452465</td>\n",
       "      <td>1.490254</td>\n",
       "      <td>1.538022</td>\n",
       "      <td>0.025780</td>\n",
       "      <td>0.026450</td>\n",
       "      <td>0.027298</td>\n",
       "      <td>0.818000</td>\n",
       "      <td>1.051714</td>\n",
       "    </tr>\n",
       "    <tr>\n",
       "      <th>...</th>\n",
       "      <td>...</td>\n",
       "      <td>...</td>\n",
       "      <td>...</td>\n",
       "      <td>...</td>\n",
       "      <td>...</td>\n",
       "      <td>...</td>\n",
       "      <td>...</td>\n",
       "      <td>...</td>\n",
       "      <td>...</td>\n",
       "      <td>...</td>\n",
       "      <td>...</td>\n",
       "      <td>...</td>\n",
       "      <td>...</td>\n",
       "      <td>...</td>\n",
       "      <td>...</td>\n",
       "      <td>...</td>\n",
       "      <td>...</td>\n",
       "      <td>...</td>\n",
       "      <td>...</td>\n",
       "      <td>...</td>\n",
       "      <td>...</td>\n",
       "    </tr>\n",
       "    <tr>\n",
       "      <th>1212</th>\n",
       "      <td>2021-04-26</td>\n",
       "      <td>1.2345</td>\n",
       "      <td>1.0901</td>\n",
       "      <td>1.2499</td>\n",
       "      <td>1.0820</td>\n",
       "      <td>0.71334</td>\n",
       "      <td>0.1327</td>\n",
       "      <td>2021</td>\n",
       "      <td>4.0</td>\n",
       "      <td>26.0</td>\n",
       "      <td>...</td>\n",
       "      <td>1.5566</td>\n",
       "      <td>0.9438</td>\n",
       "      <td>1.012856</td>\n",
       "      <td>1.054662</td>\n",
       "      <td>1.715623</td>\n",
       "      <td>0.585266</td>\n",
       "      <td>0.609423</td>\n",
       "      <td>0.991351</td>\n",
       "      <td>0.793075</td>\n",
       "      <td>1.308010</td>\n",
       "    </tr>\n",
       "    <tr>\n",
       "      <th>1213</th>\n",
       "      <td>2021-04-27</td>\n",
       "      <td>1.3079</td>\n",
       "      <td>1.2348</td>\n",
       "      <td>1.3326</td>\n",
       "      <td>1.2263</td>\n",
       "      <td>0.57944</td>\n",
       "      <td>0.0595</td>\n",
       "      <td>2021</td>\n",
       "      <td>4.0</td>\n",
       "      <td>27.0</td>\n",
       "      <td>...</td>\n",
       "      <td>1.5566</td>\n",
       "      <td>0.9438</td>\n",
       "      <td>1.068042</td>\n",
       "      <td>1.112250</td>\n",
       "      <td>1.802961</td>\n",
       "      <td>0.473176</td>\n",
       "      <td>0.492761</td>\n",
       "      <td>0.798767</td>\n",
       "      <td>0.840229</td>\n",
       "      <td>1.385781</td>\n",
       "    </tr>\n",
       "    <tr>\n",
       "      <th>1214</th>\n",
       "      <td>2021-04-28</td>\n",
       "      <td>1.3369</td>\n",
       "      <td>1.3075</td>\n",
       "      <td>1.3485</td>\n",
       "      <td>1.2350</td>\n",
       "      <td>0.57549</td>\n",
       "      <td>0.0221</td>\n",
       "      <td>2021</td>\n",
       "      <td>4.0</td>\n",
       "      <td>28.0</td>\n",
       "      <td>...</td>\n",
       "      <td>1.5566</td>\n",
       "      <td>0.9438</td>\n",
       "      <td>1.085301</td>\n",
       "      <td>1.130840</td>\n",
       "      <td>1.827609</td>\n",
       "      <td>0.467185</td>\n",
       "      <td>0.486788</td>\n",
       "      <td>0.786724</td>\n",
       "      <td>0.858859</td>\n",
       "      <td>1.416508</td>\n",
       "    </tr>\n",
       "    <tr>\n",
       "      <th>1215</th>\n",
       "      <td>2021-04-29</td>\n",
       "      <td>1.3070</td>\n",
       "      <td>1.3369</td>\n",
       "      <td>1.4103</td>\n",
       "      <td>1.2681</td>\n",
       "      <td>0.81753</td>\n",
       "      <td>-0.0224</td>\n",
       "      <td>2021</td>\n",
       "      <td>4.0</td>\n",
       "      <td>29.0</td>\n",
       "      <td>...</td>\n",
       "      <td>1.5566</td>\n",
       "      <td>0.9438</td>\n",
       "      <td>1.056867</td>\n",
       "      <td>1.100991</td>\n",
       "      <td>1.772856</td>\n",
       "      <td>0.661072</td>\n",
       "      <td>0.688671</td>\n",
       "      <td>1.108923</td>\n",
       "      <td>0.839651</td>\n",
       "      <td>1.384827</td>\n",
       "    </tr>\n",
       "    <tr>\n",
       "      <th>1216</th>\n",
       "      <td>2021-04-30</td>\n",
       "      <td>1.3521</td>\n",
       "      <td>1.3069</td>\n",
       "      <td>1.3699</td>\n",
       "      <td>1.2876</td>\n",
       "      <td>0.45962</td>\n",
       "      <td>0.0345</td>\n",
       "      <td>2021</td>\n",
       "      <td>4.0</td>\n",
       "      <td>30.0</td>\n",
       "      <td>...</td>\n",
       "      <td>1.5566</td>\n",
       "      <td>0.9438</td>\n",
       "      <td>1.086792</td>\n",
       "      <td>1.132809</td>\n",
       "      <td>1.818936</td>\n",
       "      <td>0.369434</td>\n",
       "      <td>0.385076</td>\n",
       "      <td>0.618312</td>\n",
       "      <td>0.868624</td>\n",
       "      <td>1.432613</td>\n",
       "    </tr>\n",
       "  </tbody>\n",
       "</table>\n",
       "<p>1217 rows × 28 columns</p>\n",
       "</div>"
      ],
      "text/plain": [
       "           date   price    open    high     low      vol  change  year  month  \\\n",
       "0    2017-12-31  0.7100  0.5900  0.7400  0.5900  0.01722  0.2034  2017   12.0   \n",
       "1    2018-01-01  0.7022  0.7100  0.7150  0.6320  0.01795 -0.0110  2018    1.0   \n",
       "2    2018-01-02  0.7620  0.7022  0.8000  0.6750  0.01097  0.0852  2018    1.0   \n",
       "3    2018-01-03  1.0800  0.9782  1.0900  0.8882  0.02023  0.4173  2018    1.0   \n",
       "4    2018-01-04  1.1043  1.1000  1.3500  1.0500  0.01960  0.0225  2018    1.0   \n",
       "...         ...     ...     ...     ...     ...      ...     ...   ...    ...   \n",
       "1212 2021-04-26  1.2345  1.0901  1.2499  1.0820  0.71334  0.1327  2021    4.0   \n",
       "1213 2021-04-27  1.3079  1.2348  1.3326  1.2263  0.57944  0.0595  2021    4.0   \n",
       "1214 2021-04-28  1.3369  1.3075  1.3485  1.2350  0.57549  0.0221  2021    4.0   \n",
       "1215 2021-04-29  1.3070  1.3369  1.4103  1.2681  0.81753 -0.0224  2021    4.0   \n",
       "1216 2021-04-30  1.3521  1.3069  1.3699  1.2876  0.45962  0.0345  2021    4.0   \n",
       "\n",
       "       day  ...     ath  30d_roll_low  30d_ema_price_ratio  \\\n",
       "0     31.0  ...  0.7400        0.5900             1.000000   \n",
       "1      1.0  ...  0.7400        0.6320             0.989716   \n",
       "2      2.0  ...  0.8000        0.6750             1.068897   \n",
       "3      3.0  ...  1.0900        0.8882             1.466258   \n",
       "4      4.0  ...  1.3500        1.0500             1.452465   \n",
       "...    ...  ...     ...           ...                  ...   \n",
       "1212  26.0  ...  1.5566        0.9438             1.012856   \n",
       "1213  27.0  ...  1.5566        0.9438             1.068042   \n",
       "1214  28.0  ...  1.5566        0.9438             1.085301   \n",
       "1215  29.0  ...  1.5566        0.9438             1.056867   \n",
       "1216  30.0  ...  1.5566        0.9438             1.086792   \n",
       "\n",
       "      50d_ema_price_ratio  200d_ema_price_ratio  30d_ema_vol_ratio  \\\n",
       "0                1.000000              1.000000           0.024254   \n",
       "1                0.989440              0.989122           0.025300   \n",
       "2                1.070608              1.072574           0.015388   \n",
       "3                1.487221              1.512356           0.027465   \n",
       "4                1.490254              1.538022           0.025780   \n",
       "...                   ...                   ...                ...   \n",
       "1212             1.054662              1.715623           0.585266   \n",
       "1213             1.112250              1.802961           0.473176   \n",
       "1214             1.130840              1.827609           0.467185   \n",
       "1215             1.100991              1.772856           0.661072   \n",
       "1216             1.132809              1.818936           0.369434   \n",
       "\n",
       "      50d_ema_vol_ratio  200d_ema_vol_ratio  ath_ratio  30d_roll_low_ratio  \n",
       "0              0.024254            0.024254   0.959459            1.203390  \n",
       "1              0.025293            0.025284   0.948919            1.111076  \n",
       "2              0.015413            0.015441   0.952500            1.128889  \n",
       "3              0.027858            0.028329   0.990826            1.215942  \n",
       "4              0.026450            0.027298   0.818000            1.051714  \n",
       "...                 ...                 ...        ...                 ...  \n",
       "1212           0.609423            0.991351   0.793075            1.308010  \n",
       "1213           0.492761            0.798767   0.840229            1.385781  \n",
       "1214           0.486788            0.786724   0.858859            1.416508  \n",
       "1215           0.688671            1.108923   0.839651            1.384827  \n",
       "1216           0.385076            0.618312   0.868624            1.432613  \n",
       "\n",
       "[1217 rows x 28 columns]"
      ]
     },
     "execution_count": 42,
     "metadata": {},
     "output_type": "execute_result"
    }
   ],
   "source": [
    "train"
   ]
  },
  {
   "cell_type": "code",
   "execution_count": 43,
   "id": "9ce4cf8b",
   "metadata": {},
   "outputs": [
    {
     "data": {
      "image/png": "[encoded data removed]",
      "text/plain": [
       "<Figure size 432x288 with 1 Axes>"
      ]
     },
     "metadata": {
      "needs_background": "light"
     },
     "output_type": "display_data"
    }
   ],
   "source": [
    "train['future_increase'].value_counts().plot(kind='bar');"
   ]
  },
  {
   "cell_type": "markdown",
   "id": "f4dbb144",
   "metadata": {},
   "source": [
    "The train dataset continues being balanced"
   ]
  },
  {
   "cell_type": "code",
   "execution_count": 44,
   "id": "abfdac24",
   "metadata": {},
   "outputs": [
    {
     "data": {
      "text/html": [
       "<div>\n",
       "<style scoped>\n",
       "    .dataframe tbody tr th:only-of-type {\n",
       "        vertical-align: middle;\n",
       "    }\n",
       "\n",
       "    .dataframe tbody tr th {\n",
       "        vertical-align: top;\n",
       "    }\n",
       "\n",
       "    .dataframe thead th {\n",
       "        text-align: right;\n",
       "    }\n",
       "</style>\n",
       "<table border=\"1\" class=\"dataframe\">\n",
       "  <thead>\n",
       "    <tr style=\"text-align: right;\">\n",
       "      <th></th>\n",
       "      <th>date</th>\n",
       "      <th>price</th>\n",
       "      <th>open</th>\n",
       "      <th>high</th>\n",
       "      <th>low</th>\n",
       "      <th>vol</th>\n",
       "      <th>change</th>\n",
       "      <th>year</th>\n",
       "      <th>month</th>\n",
       "      <th>day</th>\n",
       "      <th>...</th>\n",
       "      <th>ath</th>\n",
       "      <th>30d_roll_low</th>\n",
       "      <th>30d_ema_price_ratio</th>\n",
       "      <th>50d_ema_price_ratio</th>\n",
       "      <th>200d_ema_price_ratio</th>\n",
       "      <th>30d_ema_vol_ratio</th>\n",
       "      <th>50d_ema_vol_ratio</th>\n",
       "      <th>200d_ema_vol_ratio</th>\n",
       "      <th>ath_ratio</th>\n",
       "      <th>30d_roll_low_ratio</th>\n",
       "    </tr>\n",
       "  </thead>\n",
       "  <tbody>\n",
       "    <tr>\n",
       "      <th>1217</th>\n",
       "      <td>2021-05-01</td>\n",
       "      <td>1.3518</td>\n",
       "      <td>1.3521</td>\n",
       "      <td>1.3676</td>\n",
       "      <td>1.3168</td>\n",
       "      <td>0.31778</td>\n",
       "      <td>-0.0002</td>\n",
       "      <td>2021</td>\n",
       "      <td>5.0</td>\n",
       "      <td>1.0</td>\n",
       "      <td>...</td>\n",
       "      <td>1.5566</td>\n",
       "      <td>0.9438</td>\n",
       "      <td>1.080517</td>\n",
       "      <td>1.126700</td>\n",
       "      <td>1.803841</td>\n",
       "      <td>0.254007</td>\n",
       "      <td>0.264864</td>\n",
       "      <td>0.424045</td>\n",
       "      <td>0.868431</td>\n",
       "      <td>1.432295</td>\n",
       "    </tr>\n",
       "    <tr>\n",
       "      <th>1218</th>\n",
       "      <td>2021-05-02</td>\n",
       "      <td>1.3266</td>\n",
       "      <td>1.3514</td>\n",
       "      <td>1.3546</td>\n",
       "      <td>1.2952</td>\n",
       "      <td>0.32532</td>\n",
       "      <td>-0.0187</td>\n",
       "      <td>2021</td>\n",
       "      <td>5.0</td>\n",
       "      <td>2.0</td>\n",
       "      <td>...</td>\n",
       "      <td>1.5566</td>\n",
       "      <td>0.9438</td>\n",
       "      <td>1.056260</td>\n",
       "      <td>1.101132</td>\n",
       "      <td>1.756751</td>\n",
       "      <td>0.259025</td>\n",
       "      <td>0.270029</td>\n",
       "      <td>0.430805</td>\n",
       "      <td>0.852242</td>\n",
       "      <td>1.405594</td>\n",
       "    </tr>\n",
       "    <tr>\n",
       "      <th>1219</th>\n",
       "      <td>2021-05-03</td>\n",
       "      <td>1.3622</td>\n",
       "      <td>1.3267</td>\n",
       "      <td>1.3799</td>\n",
       "      <td>1.3215</td>\n",
       "      <td>0.39015</td>\n",
       "      <td>0.0268</td>\n",
       "      <td>2021</td>\n",
       "      <td>5.0</td>\n",
       "      <td>3.0</td>\n",
       "      <td>...</td>\n",
       "      <td>1.5566</td>\n",
       "      <td>0.9438</td>\n",
       "      <td>1.078717</td>\n",
       "      <td>1.124917</td>\n",
       "      <td>1.789579</td>\n",
       "      <td>0.308957</td>\n",
       "      <td>0.322189</td>\n",
       "      <td>0.512556</td>\n",
       "      <td>0.875112</td>\n",
       "      <td>1.443314</td>\n",
       "    </tr>\n",
       "    <tr>\n",
       "      <th>1220</th>\n",
       "      <td>2021-05-04</td>\n",
       "      <td>1.2890</td>\n",
       "      <td>1.2793</td>\n",
       "      <td>1.3074</td>\n",
       "      <td>1.2757</td>\n",
       "      <td>0.58518</td>\n",
       "      <td>-0.0537</td>\n",
       "      <td>2021</td>\n",
       "      <td>5.0</td>\n",
       "      <td>4.0</td>\n",
       "      <td>...</td>\n",
       "      <td>1.5566</td>\n",
       "      <td>0.9438</td>\n",
       "      <td>1.019386</td>\n",
       "      <td>1.061783</td>\n",
       "      <td>1.681809</td>\n",
       "      <td>0.462781</td>\n",
       "      <td>0.482028</td>\n",
       "      <td>0.763508</td>\n",
       "      <td>0.828087</td>\n",
       "      <td>1.365755</td>\n",
       "    </tr>\n",
       "    <tr>\n",
       "      <th>1221</th>\n",
       "      <td>2021-05-05</td>\n",
       "      <td>1.4780</td>\n",
       "      <td>1.2900</td>\n",
       "      <td>1.4931</td>\n",
       "      <td>1.2900</td>\n",
       "      <td>0.78315</td>\n",
       "      <td>0.1466</td>\n",
       "      <td>2021</td>\n",
       "      <td>5.0</td>\n",
       "      <td>5.0</td>\n",
       "      <td>...</td>\n",
       "      <td>1.5566</td>\n",
       "      <td>0.9438</td>\n",
       "      <td>1.156258</td>\n",
       "      <td>1.207173</td>\n",
       "      <td>1.910754</td>\n",
       "      <td>0.612668</td>\n",
       "      <td>0.639646</td>\n",
       "      <td>1.012454</td>\n",
       "      <td>0.949505</td>\n",
       "      <td>1.566010</td>\n",
       "    </tr>\n",
       "    <tr>\n",
       "      <th>...</th>\n",
       "      <td>...</td>\n",
       "      <td>...</td>\n",
       "      <td>...</td>\n",
       "      <td>...</td>\n",
       "      <td>...</td>\n",
       "      <td>...</td>\n",
       "      <td>...</td>\n",
       "      <td>...</td>\n",
       "      <td>...</td>\n",
       "      <td>...</td>\n",
       "      <td>...</td>\n",
       "      <td>...</td>\n",
       "      <td>...</td>\n",
       "      <td>...</td>\n",
       "      <td>...</td>\n",
       "      <td>...</td>\n",
       "      <td>...</td>\n",
       "      <td>...</td>\n",
       "      <td>...</td>\n",
       "      <td>...</td>\n",
       "      <td>...</td>\n",
       "    </tr>\n",
       "    <tr>\n",
       "      <th>1365</th>\n",
       "      <td>2021-09-26</td>\n",
       "      <td>2.2084</td>\n",
       "      <td>2.2985</td>\n",
       "      <td>2.2999</td>\n",
       "      <td>2.1490</td>\n",
       "      <td>0.45294</td>\n",
       "      <td>-0.0392</td>\n",
       "      <td>2021</td>\n",
       "      <td>9.0</td>\n",
       "      <td>26.0</td>\n",
       "      <td>...</td>\n",
       "      <td>3.0989</td>\n",
       "      <td>1.9132</td>\n",
       "      <td>0.935243</td>\n",
       "      <td>0.969701</td>\n",
       "      <td>1.328414</td>\n",
       "      <td>0.191817</td>\n",
       "      <td>0.198884</td>\n",
       "      <td>0.272456</td>\n",
       "      <td>0.712640</td>\n",
       "      <td>1.154296</td>\n",
       "    </tr>\n",
       "    <tr>\n",
       "      <th>1366</th>\n",
       "      <td>2021-09-27</td>\n",
       "      <td>2.1307</td>\n",
       "      <td>2.2090</td>\n",
       "      <td>2.2726</td>\n",
       "      <td>2.1293</td>\n",
       "      <td>0.28851</td>\n",
       "      <td>-0.0352</td>\n",
       "      <td>2021</td>\n",
       "      <td>9.0</td>\n",
       "      <td>27.0</td>\n",
       "      <td>...</td>\n",
       "      <td>3.0989</td>\n",
       "      <td>1.9132</td>\n",
       "      <td>0.908059</td>\n",
       "      <td>0.937953</td>\n",
       "      <td>1.278093</td>\n",
       "      <td>0.122957</td>\n",
       "      <td>0.127005</td>\n",
       "      <td>0.173062</td>\n",
       "      <td>0.687567</td>\n",
       "      <td>1.113684</td>\n",
       "    </tr>\n",
       "    <tr>\n",
       "      <th>1367</th>\n",
       "      <td>2021-09-28</td>\n",
       "      <td>2.0367</td>\n",
       "      <td>2.1312</td>\n",
       "      <td>2.1716</td>\n",
       "      <td>2.0300</td>\n",
       "      <td>0.28931</td>\n",
       "      <td>-0.0441</td>\n",
       "      <td>2021</td>\n",
       "      <td>9.0</td>\n",
       "      <td>28.0</td>\n",
       "      <td>...</td>\n",
       "      <td>3.0989</td>\n",
       "      <td>1.9132</td>\n",
       "      <td>0.875454</td>\n",
       "      <td>0.900224</td>\n",
       "      <td>1.219018</td>\n",
       "      <td>0.124357</td>\n",
       "      <td>0.127875</td>\n",
       "      <td>0.173160</td>\n",
       "      <td>0.657233</td>\n",
       "      <td>1.064552</td>\n",
       "    </tr>\n",
       "    <tr>\n",
       "      <th>1368</th>\n",
       "      <td>2021-09-29</td>\n",
       "      <td>2.0658</td>\n",
       "      <td>2.0370</td>\n",
       "      <td>2.1424</td>\n",
       "      <td>2.0220</td>\n",
       "      <td>0.27269</td>\n",
       "      <td>0.0143</td>\n",
       "      <td>2021</td>\n",
       "      <td>9.0</td>\n",
       "      <td>29.0</td>\n",
       "      <td>...</td>\n",
       "      <td>3.0989</td>\n",
       "      <td>1.9132</td>\n",
       "      <td>0.894427</td>\n",
       "      <td>0.916210</td>\n",
       "      <td>1.233534</td>\n",
       "      <td>0.118066</td>\n",
       "      <td>0.120942</td>\n",
       "      <td>0.162829</td>\n",
       "      <td>0.666624</td>\n",
       "      <td>1.079762</td>\n",
       "    </tr>\n",
       "    <tr>\n",
       "      <th>1369</th>\n",
       "      <td>2021-09-30</td>\n",
       "      <td>2.1164</td>\n",
       "      <td>2.0655</td>\n",
       "      <td>2.1349</td>\n",
       "      <td>2.0515</td>\n",
       "      <td>0.25007</td>\n",
       "      <td>0.0245</td>\n",
       "      <td>2021</td>\n",
       "      <td>9.0</td>\n",
       "      <td>30.0</td>\n",
       "      <td>...</td>\n",
       "      <td>3.0989</td>\n",
       "      <td>1.9132</td>\n",
       "      <td>0.921308</td>\n",
       "      <td>0.940915</td>\n",
       "      <td>1.260440</td>\n",
       "      <td>0.108860</td>\n",
       "      <td>0.111177</td>\n",
       "      <td>0.148931</td>\n",
       "      <td>0.682952</td>\n",
       "      <td>1.106209</td>\n",
       "    </tr>\n",
       "  </tbody>\n",
       "</table>\n",
       "<p>153 rows × 28 columns</p>\n",
       "</div>"
      ],
      "text/plain": [
       "           date   price    open    high     low      vol  change  year  month  \\\n",
       "1217 2021-05-01  1.3518  1.3521  1.3676  1.3168  0.31778 -0.0002  2021    5.0   \n",
       "1218 2021-05-02  1.3266  1.3514  1.3546  1.2952  0.32532 -0.0187  2021    5.0   \n",
       "1219 2021-05-03  1.3622  1.3267  1.3799  1.3215  0.39015  0.0268  2021    5.0   \n",
       "1220 2021-05-04  1.2890  1.2793  1.3074  1.2757  0.58518 -0.0537  2021    5.0   \n",
       "1221 2021-05-05  1.4780  1.2900  1.4931  1.2900  0.78315  0.1466  2021    5.0   \n",
       "...         ...     ...     ...     ...     ...      ...     ...   ...    ...   \n",
       "1365 2021-09-26  2.2084  2.2985  2.2999  2.1490  0.45294 -0.0392  2021    9.0   \n",
       "1366 2021-09-27  2.1307  2.2090  2.2726  2.1293  0.28851 -0.0352  2021    9.0   \n",
       "1367 2021-09-28  2.0367  2.1312  2.1716  2.0300  0.28931 -0.0441  2021    9.0   \n",
       "1368 2021-09-29  2.0658  2.0370  2.1424  2.0220  0.27269  0.0143  2021    9.0   \n",
       "1369 2021-09-30  2.1164  2.0655  2.1349  2.0515  0.25007  0.0245  2021    9.0   \n",
       "\n",
       "       day  ...     ath  30d_roll_low  30d_ema_price_ratio  \\\n",
       "1217   1.0  ...  1.5566        0.9438             1.080517   \n",
       "1218   2.0  ...  1.5566        0.9438             1.056260   \n",
       "1219   3.0  ...  1.5566        0.9438             1.078717   \n",
       "1220   4.0  ...  1.5566        0.9438             1.019386   \n",
       "1221   5.0  ...  1.5566        0.9438             1.156258   \n",
       "...    ...  ...     ...           ...                  ...   \n",
       "1365  26.0  ...  3.0989        1.9132             0.935243   \n",
       "1366  27.0  ...  3.0989        1.9132             0.908059   \n",
       "1367  28.0  ...  3.0989        1.9132             0.875454   \n",
       "1368  29.0  ...  3.0989        1.9132             0.894427   \n",
       "1369  30.0  ...  3.0989        1.9132             0.921308   \n",
       "\n",
       "      50d_ema_price_ratio  200d_ema_price_ratio  30d_ema_vol_ratio  \\\n",
       "1217             1.126700              1.803841           0.254007   \n",
       "1218             1.101132              1.756751           0.259025   \n",
       "1219             1.124917              1.789579           0.308957   \n",
       "1220             1.061783              1.681809           0.462781   \n",
       "1221             1.207173              1.910754           0.612668   \n",
       "...                   ...                   ...                ...   \n",
       "1365             0.969701              1.328414           0.191817   \n",
       "1366             0.937953              1.278093           0.122957   \n",
       "1367             0.900224              1.219018           0.124357   \n",
       "1368             0.916210              1.233534           0.118066   \n",
       "1369             0.940915              1.260440           0.108860   \n",
       "\n",
       "      50d_ema_vol_ratio  200d_ema_vol_ratio  ath_ratio  30d_roll_low_ratio  \n",
       "1217           0.264864            0.424045   0.868431            1.432295  \n",
       "1218           0.270029            0.430805   0.852242            1.405594  \n",
       "1219           0.322189            0.512556   0.875112            1.443314  \n",
       "1220           0.482028            0.763508   0.828087            1.365755  \n",
       "1221           0.639646            1.012454   0.949505            1.566010  \n",
       "...                 ...                 ...        ...                 ...  \n",
       "1365           0.198884            0.272456   0.712640            1.154296  \n",
       "1366           0.127005            0.173062   0.687567            1.113684  \n",
       "1367           0.127875            0.173160   0.657233            1.064552  \n",
       "1368           0.120942            0.162829   0.666624            1.079762  \n",
       "1369           0.111177            0.148931   0.682952            1.106209  \n",
       "\n",
       "[153 rows x 28 columns]"
      ]
     },
     "execution_count": 44,
     "metadata": {},
     "output_type": "execute_result"
    }
   ],
   "source": [
    "test"
   ]
  },
  {
   "cell_type": "code",
   "execution_count": 45,
   "id": "f63dd50f",
   "metadata": {},
   "outputs": [
    {
     "data": {
      "image/png": "[encoded data removed]",
      "text/plain": [
       "<Figure size 432x288 with 1 Axes>"
      ]
     },
     "metadata": {
      "needs_background": "light"
     },
     "output_type": "display_data"
    }
   ],
   "source": [
    "test['future_increase'].value_counts().plot(kind='bar');"
   ]
  },
  {
   "cell_type": "markdown",
   "id": "e88d65d9",
   "metadata": {},
   "source": [
    "The train dataset continues being balanced"
   ]
  },
  {
   "cell_type": "code",
   "execution_count": 46,
   "id": "fed27f5e",
   "metadata": {},
   "outputs": [
    {
     "data": {
      "image/png": "[encoded data removed]",
      "text/plain": [
       "<Figure size 720x504 with 1 Axes>"
      ]
     },
     "metadata": {
      "needs_background": "light"
     },
     "output_type": "display_data"
    }
   ],
   "source": [
    "plt.figure(figsize=(10,7))\n",
    "sns.lineplot(data=train, x=\"date\", y=\"price\").set_title(\"ADA Train Series\");"
   ]
  },
  {
   "cell_type": "code",
   "execution_count": 47,
   "id": "b0b76dcb",
   "metadata": {},
   "outputs": [
    {
     "data": {
      "image/png": "[encoded data removed]",
      "text/plain": [
       "<Figure size 720x504 with 1 Axes>"
      ]
     },
     "metadata": {
      "needs_background": "light"
     },
     "output_type": "display_data"
    }
   ],
   "source": [
    "plt.figure(figsize=(10,7))\n",
    "sns.lineplot(data=test, x=\"date\", y=\"price\").set_title(\"ADA Test Series\");"
   ]
  },
  {
   "cell_type": "code",
   "execution_count": 48,
   "id": "4446cff6",
   "metadata": {},
   "outputs": [
    {
     "data": {
      "image/png": "[encoded data removed]",
      "text/plain": [
       "<Figure size 720x504 with 1 Axes>"
      ]
     },
     "metadata": {
      "needs_background": "light"
     },
     "output_type": "display_data"
    }
   ],
   "source": [
    "plt.figure(figsize=(10,7))\n",
    "sns.lineplot(data=train, x=\"date\", y=\"price\", label=\"Train\")\n",
    "sns.lineplot(data=test, x=\"date\", y=\"price\", color='c', label=\"Test\").set_title(\"Test and Train Series\")\n",
    "plt.show();"
   ]
  },
  {
   "cell_type": "code",
   "execution_count": 49,
   "id": "ddfc6f9f",
   "metadata": {},
   "outputs": [],
   "source": [
    "relative_features = [\"change\",'30d_ema_price_ratio','50d_ema_price_ratio','200d_ema_price_ratio','30d_ema_vol_ratio',\n",
    "             '50d_ema_vol_ratio', '200d_ema_vol_ratio','ath_ratio','30d_roll_low_ratio']\n",
    "\n",
    "#relative_features = ['price','vol','change','month','day']\n",
    "X_train = train[relative_features]\n",
    "y_train = train['future_increase']\n",
    "\n",
    "X_test = test[relative_features]\n",
    "y_test = test['future_increase']"
   ]
  },
  {
   "cell_type": "markdown",
   "id": "3950c909",
   "metadata": {},
   "source": [
    "## Modeling"
   ]
  },
  {
   "cell_type": "markdown",
   "id": "be21c156",
   "metadata": {},
   "source": [
    "Now we have created our features dataFrame with only numeric variables, we split the full dataset into train and test sets. We then tested out different machine learning classification algorithms, including:"
   ]
  },
  {
   "cell_type": "markdown",
   "id": "6a335799",
   "metadata": {},
   "source": [
    "### Logistic Regression"
   ]
  },
  {
   "cell_type": "code",
   "execution_count": 50,
   "id": "9f708cd1",
   "metadata": {},
   "outputs": [],
   "source": [
    "#class_weight = 'balanced'\n",
    "logreg = LogisticRegression()\n",
    "logreg.fit(X_train, y_train)\n",
    "y_pred_lr = logreg.predict(X_test)\n",
    "y_pred_train_lr = logreg.predict(X_train)"
   ]
  },
  {
   "cell_type": "code",
   "execution_count": 51,
   "id": "1e715afc",
   "metadata": {},
   "outputs": [
    {
     "name": "stdout",
     "output_type": "stream",
     "text": [
      "Accuracy Train: 0.5406737880032868\n",
      "Accuracy Test: 0.47058823529411764\n"
     ]
    }
   ],
   "source": [
    "print(\"Accuracy Train:\",logreg.score(X_train, y_train))\n",
    "print(\"Accuracy Test:\",logreg.score(X_test, y_test))"
   ]
  },
  {
   "cell_type": "code",
   "execution_count": 52,
   "id": "7341f31d",
   "metadata": {},
   "outputs": [
    {
     "data": {
      "image/png": "[encoded data removed]",
      "text/plain": [
       "<Figure size 432x288 with 2 Axes>"
      ]
     },
     "metadata": {
      "needs_background": "light"
     },
     "output_type": "display_data"
    }
   ],
   "source": [
    "cmf = confusion_matrix(y_test, y_pred_lr)\n",
    "sns.heatmap(cmf, annot=True).set(xlabel='Predictions', ylabel='True Values')\n",
    "plt.title(\"Confusion Matrix\", fontsize =14);"
   ]
  },
  {
   "cell_type": "code",
   "execution_count": 53,
   "id": "9d26b375",
   "metadata": {},
   "outputs": [
    {
     "data": {
      "text/html": [
       "<div>\n",
       "<style scoped>\n",
       "    .dataframe tbody tr th:only-of-type {\n",
       "        vertical-align: middle;\n",
       "    }\n",
       "\n",
       "    .dataframe tbody tr th {\n",
       "        vertical-align: top;\n",
       "    }\n",
       "\n",
       "    .dataframe thead th {\n",
       "        text-align: right;\n",
       "    }\n",
       "</style>\n",
       "<table border=\"1\" class=\"dataframe\">\n",
       "  <thead>\n",
       "    <tr style=\"text-align: right;\">\n",
       "      <th></th>\n",
       "      <th>precision</th>\n",
       "      <th>recall</th>\n",
       "      <th>f1-score</th>\n",
       "    </tr>\n",
       "  </thead>\n",
       "  <tbody>\n",
       "    <tr>\n",
       "      <th>0</th>\n",
       "      <td>0.472222</td>\n",
       "      <td>0.931507</td>\n",
       "      <td>0.626728</td>\n",
       "    </tr>\n",
       "    <tr>\n",
       "      <th>1</th>\n",
       "      <td>0.444444</td>\n",
       "      <td>0.050000</td>\n",
       "      <td>0.089888</td>\n",
       "    </tr>\n",
       "    <tr>\n",
       "      <th>accuracy</th>\n",
       "      <td>0.470588</td>\n",
       "      <td>0.470588</td>\n",
       "      <td>0.470588</td>\n",
       "    </tr>\n",
       "  </tbody>\n",
       "</table>\n",
       "</div>"
      ],
      "text/plain": [
       "          precision    recall  f1-score\n",
       "0          0.472222  0.931507  0.626728\n",
       "1          0.444444  0.050000  0.089888\n",
       "accuracy   0.470588  0.470588  0.470588"
      ]
     },
     "execution_count": 53,
     "metadata": {},
     "output_type": "execute_result"
    }
   ],
   "source": [
    "report = classification_report(y_test, y_pred_lr, output_dict=True)\n",
    "report_lr = pd.DataFrame(report).transpose()\n",
    "report_lr[[\"precision\",\"recall\",\"f1-score\"]][:3]"
   ]
  },
  {
   "cell_type": "code",
   "execution_count": 54,
   "id": "298f835d",
   "metadata": {},
   "outputs": [
    {
     "name": "stdout",
     "output_type": "stream",
     "text": [
      "AUC Random Forest 0.4696917808219178\n"
     ]
    }
   ],
   "source": [
    "proba_lr = logreg.predict_proba(X_test)\n",
    "print(\"AUC Random Forest\",roc_auc_score(y_test, proba_lr[:, 1]))"
   ]
  },
  {
   "cell_type": "markdown",
   "id": "55ec6ddd",
   "metadata": {},
   "source": [
    "That was a bad model. Most of the prediction were classified as \"0\". \n",
    "Thus specificity is high but recall is low. Lets try another machine learning methods."
   ]
  },
  {
   "cell_type": "markdown",
   "id": "4163f428",
   "metadata": {},
   "source": [
    "### Random Forest"
   ]
  },
  {
   "cell_type": "code",
   "execution_count": 55,
   "id": "44c98e30",
   "metadata": {},
   "outputs": [],
   "source": [
    "rand_f = RandomForestClassifier()\n",
    "#class_weight = 'balanced'\n",
    "rand_f = rand_f.fit(X_train,y_train)"
   ]
  },
  {
   "cell_type": "code",
   "execution_count": 56,
   "id": "c2e5acb5",
   "metadata": {},
   "outputs": [],
   "source": [
    "y_pred_rf = rand_f.predict(X_test)\n",
    "y_pred__train_rf = rand_f.predict(X_train)"
   ]
  },
  {
   "cell_type": "code",
   "execution_count": 57,
   "id": "196727a3",
   "metadata": {},
   "outputs": [
    {
     "name": "stdout",
     "output_type": "stream",
     "text": [
      "Accuracy Train: 1.0\n",
      "Accuracy Test: 0.5294117647058824\n"
     ]
    }
   ],
   "source": [
    "print(\"Accuracy Train:\",accuracy_score(y_train, y_pred__train_rf))\n",
    "print(\"Accuracy Test:\",accuracy_score(y_test, y_pred_rf))"
   ]
  },
  {
   "cell_type": "code",
   "execution_count": 58,
   "id": "b705ec6f",
   "metadata": {},
   "outputs": [
    {
     "data": {
      "image/png": "[encoded data removed]",
      "text/plain": [
       "<Figure size 432x288 with 2 Axes>"
      ]
     },
     "metadata": {
      "needs_background": "light"
     },
     "output_type": "display_data"
    }
   ],
   "source": [
    "cmf = confusion_matrix(y_test, y_pred_rf)\n",
    "sns.heatmap(cmf, annot=True).set(xlabel='Predictions', ylabel='True Values')\n",
    "plt.title(\"Confusion Matrix\", fontsize =14);"
   ]
  },
  {
   "cell_type": "code",
   "execution_count": 59,
   "id": "e424fac9",
   "metadata": {},
   "outputs": [
    {
     "data": {
      "text/html": [
       "<div>\n",
       "<style scoped>\n",
       "    .dataframe tbody tr th:only-of-type {\n",
       "        vertical-align: middle;\n",
       "    }\n",
       "\n",
       "    .dataframe tbody tr th {\n",
       "        vertical-align: top;\n",
       "    }\n",
       "\n",
       "    .dataframe thead th {\n",
       "        text-align: right;\n",
       "    }\n",
       "</style>\n",
       "<table border=\"1\" class=\"dataframe\">\n",
       "  <thead>\n",
       "    <tr style=\"text-align: right;\">\n",
       "      <th></th>\n",
       "      <th>precision</th>\n",
       "      <th>recall</th>\n",
       "      <th>f1-score</th>\n",
       "    </tr>\n",
       "  </thead>\n",
       "  <tbody>\n",
       "    <tr>\n",
       "      <th>0</th>\n",
       "      <td>0.504587</td>\n",
       "      <td>0.753425</td>\n",
       "      <td>0.604396</td>\n",
       "    </tr>\n",
       "    <tr>\n",
       "      <th>1</th>\n",
       "      <td>0.590909</td>\n",
       "      <td>0.325000</td>\n",
       "      <td>0.419355</td>\n",
       "    </tr>\n",
       "    <tr>\n",
       "      <th>accuracy</th>\n",
       "      <td>0.529412</td>\n",
       "      <td>0.529412</td>\n",
       "      <td>0.529412</td>\n",
       "    </tr>\n",
       "    <tr>\n",
       "      <th>macro avg</th>\n",
       "      <td>0.547748</td>\n",
       "      <td>0.539212</td>\n",
       "      <td>0.511875</td>\n",
       "    </tr>\n",
       "    <tr>\n",
       "      <th>weighted avg</th>\n",
       "      <td>0.549723</td>\n",
       "      <td>0.529412</td>\n",
       "      <td>0.507642</td>\n",
       "    </tr>\n",
       "  </tbody>\n",
       "</table>\n",
       "</div>"
      ],
      "text/plain": [
       "              precision    recall  f1-score\n",
       "0              0.504587  0.753425  0.604396\n",
       "1              0.590909  0.325000  0.419355\n",
       "accuracy       0.529412  0.529412  0.529412\n",
       "macro avg      0.547748  0.539212  0.511875\n",
       "weighted avg   0.549723  0.529412  0.507642"
      ]
     },
     "execution_count": 59,
     "metadata": {},
     "output_type": "execute_result"
    }
   ],
   "source": [
    "report = classification_report(y_test, y_pred_rf, output_dict=True)\n",
    "report_rf = pd.DataFrame(report).transpose()\n",
    "report_rf[[\"precision\",\"recall\",\"f1-score\"]]"
   ]
  },
  {
   "cell_type": "code",
   "execution_count": 60,
   "id": "c70d84a8",
   "metadata": {},
   "outputs": [
    {
     "name": "stdout",
     "output_type": "stream",
     "text": [
      "AUC Random Forest 0.5539383561643836\n"
     ]
    }
   ],
   "source": [
    "proba_rf = rand_f.predict_proba(X_test)\n",
    "print(\"AUC Random Forest\",roc_auc_score(y_test, proba_rf[:, 1]))"
   ]
  },
  {
   "cell_type": "markdown",
   "id": "966d7675",
   "metadata": {},
   "source": [
    "I obtained a model better than a logistic regression, however it has still pretty low accuracy and recall. Still most of the predictions are classified as \"0\""
   ]
  },
  {
   "cell_type": "markdown",
   "id": "a30e8df5",
   "metadata": {},
   "source": [
    "### XGBoost Classifier"
   ]
  },
  {
   "cell_type": "code",
   "execution_count": 61,
   "id": "d03d76ab",
   "metadata": {},
   "outputs": [],
   "source": [
    "xgb_model = XGBClassifier(eval_metric='auc')\n",
    "xgboost_m = xgb_model.fit(X_train, y_train)"
   ]
  },
  {
   "cell_type": "code",
   "execution_count": 62,
   "id": "a2051e46",
   "metadata": {},
   "outputs": [],
   "source": [
    "y_pred_XG = xgboost_m.predict(X_test)\n",
    "y_pred_train_XG = xgboost_m.predict(X_train)"
   ]
  },
  {
   "cell_type": "code",
   "execution_count": 63,
   "id": "b37da50d",
   "metadata": {},
   "outputs": [
    {
     "name": "stdout",
     "output_type": "stream",
     "text": [
      "Accuracy Train: 0.9983566146261298\n",
      "Accuracy Test: 0.5490196078431373\n"
     ]
    }
   ],
   "source": [
    "print(\"Accuracy Train:\",accuracy_score(y_train, y_pred_train_XG))\n",
    "print(\"Accuracy Test:\",accuracy_score(y_test, y_pred_XG))"
   ]
  },
  {
   "cell_type": "code",
   "execution_count": 64,
   "id": "a9f8cf23",
   "metadata": {},
   "outputs": [
    {
     "data": {
      "image/png": "[encoded data removed]",
      "text/plain": [
       "<Figure size 432x288 with 2 Axes>"
      ]
     },
     "metadata": {
      "needs_background": "light"
     },
     "output_type": "display_data"
    }
   ],
   "source": [
    "cmf = confusion_matrix(y_test, y_pred_XG)\n",
    "sns.heatmap(cmf, annot=True).set(xlabel='Predictions', ylabel='True Values')\n",
    "plt.title(\"Confusion Matrix\", fontsize =14);"
   ]
  },
  {
   "cell_type": "code",
   "execution_count": 77,
   "id": "c08fbdb5",
   "metadata": {},
   "outputs": [
    {
     "data": {
      "text/html": [
       "<div>\n",
       "<style scoped>\n",
       "    .dataframe tbody tr th:only-of-type {\n",
       "        vertical-align: middle;\n",
       "    }\n",
       "\n",
       "    .dataframe tbody tr th {\n",
       "        vertical-align: top;\n",
       "    }\n",
       "\n",
       "    .dataframe thead th {\n",
       "        text-align: right;\n",
       "    }\n",
       "</style>\n",
       "<table border=\"1\" class=\"dataframe\">\n",
       "  <thead>\n",
       "    <tr style=\"text-align: right;\">\n",
       "      <th></th>\n",
       "      <th>precision</th>\n",
       "      <th>recall</th>\n",
       "      <th>f1-score</th>\n",
       "    </tr>\n",
       "  </thead>\n",
       "  <tbody>\n",
       "    <tr>\n",
       "      <th>0</th>\n",
       "      <td>0.612245</td>\n",
       "      <td>0.410959</td>\n",
       "      <td>0.491803</td>\n",
       "    </tr>\n",
       "    <tr>\n",
       "      <th>1</th>\n",
       "      <td>0.586538</td>\n",
       "      <td>0.762500</td>\n",
       "      <td>0.663043</td>\n",
       "    </tr>\n",
       "    <tr>\n",
       "      <th>accuracy</th>\n",
       "      <td>0.594771</td>\n",
       "      <td>0.594771</td>\n",
       "      <td>0.594771</td>\n",
       "    </tr>\n",
       "    <tr>\n",
       "      <th>macro avg</th>\n",
       "      <td>0.599392</td>\n",
       "      <td>0.586729</td>\n",
       "      <td>0.577423</td>\n",
       "    </tr>\n",
       "    <tr>\n",
       "      <th>weighted avg</th>\n",
       "      <td>0.598804</td>\n",
       "      <td>0.594771</td>\n",
       "      <td>0.581341</td>\n",
       "    </tr>\n",
       "  </tbody>\n",
       "</table>\n",
       "</div>"
      ],
      "text/plain": [
       "              precision    recall  f1-score\n",
       "0              0.612245  0.410959  0.491803\n",
       "1              0.586538  0.762500  0.663043\n",
       "accuracy       0.594771  0.594771  0.594771\n",
       "macro avg      0.599392  0.586729  0.577423\n",
       "weighted avg   0.598804  0.594771  0.581341"
      ]
     },
     "execution_count": 77,
     "metadata": {},
     "output_type": "execute_result"
    }
   ],
   "source": [
    "report = classification_report(y_test, y_pred_XG, output_dict=True)\n",
    "report_xgm = pd.DataFrame(report).transpose()\n",
    "report_xgm[[\"precision\",\"recall\",\"f1-score\"]]"
   ]
  },
  {
   "cell_type": "code",
   "execution_count": 78,
   "id": "e8d6b675",
   "metadata": {},
   "outputs": [
    {
     "name": "stdout",
     "output_type": "stream",
     "text": [
      "AUC Xgboost 0.5751712328767122\n"
     ]
    }
   ],
   "source": [
    "proba_xg = xgboost_m.predict_proba(X_test)\n",
    "print(\"AUC Xgboost\",roc_auc_score(y_test, proba_xg[:, 1]))"
   ]
  },
  {
   "cell_type": "markdown",
   "id": "9fbf732c",
   "metadata": {},
   "source": [
    "The results were better than the previous models. However the metrics are still low. I will tune the parameters of the XGBoost to obtain the best model possible, however we can see that may be crptocurrency market prediction is a tough task due to its extreme volatility."
   ]
  },
  {
   "cell_type": "markdown",
   "id": "65931e43",
   "metadata": {},
   "source": [
    "## Model Tuning"
   ]
  },
  {
   "cell_type": "code",
   "execution_count": 112,
   "id": "2d7ce45b",
   "metadata": {},
   "outputs": [],
   "source": [
    "params = { 'max_depth': [3, 5, 6, 10],\n",
    "           'learning_rate': [0.1,0.2, 0.5,1],\n",
    "           'reg_lambda': [0,0.1,0.5,1,2,10],\n",
    "           'n_estimators': [100, 300, 500],\n",
    "         \"gamma\": [1,2,3]\n",
    "         }\n",
    "\n",
    "xgb_cl = xgb.XGBClassifier(objective=\"binary:logistic\",eval_metric='auc')\n",
    "\n",
    "random_search = RandomizedSearchCV(estimator=xgb_cl,\n",
    "                         param_distributions=params,\n",
    "                         scoring='accuracy',\n",
    "                         n_iter=25,\n",
    "                         verbose=1)"
   ]
  },
  {
   "cell_type": "code",
   "execution_count": 110,
   "id": "82737418",
   "metadata": {},
   "outputs": [
    {
     "name": "stdout",
     "output_type": "stream",
     "text": [
      "Fitting 5 folds for each of 25 candidates, totalling 125 fits\n"
     ]
    }
   ],
   "source": [
    "random_search.fit(X_train, y_train)\n",
    "parameters = random_search.best_params_"
   ]
  },
  {
   "cell_type": "code",
   "execution_count": 95,
   "id": "cdecbfc2",
   "metadata": {},
   "outputs": [
    {
     "data": {
      "text/plain": [
       "{'reg_lambda': 1,\n",
       " 'n_estimators': 500,\n",
       " 'max_depth': 10,\n",
       " 'learning_rate': 1,\n",
       " 'gamma': 3}"
      ]
     },
     "execution_count": 95,
     "metadata": {},
     "output_type": "execute_result"
    }
   ],
   "source": [
    "parameters"
   ]
  },
  {
   "cell_type": "code",
   "execution_count": 96,
   "id": "3feccc51",
   "metadata": {},
   "outputs": [],
   "source": [
    "xgb_model = XGBClassifier(reg_lambda=1, n_estimators=500, max_depth=10, learning_rate=1,gamma = 3,objective=\"binary:logistic\",eval_metric='auc')\n",
    "xgboost_mrs = xgb_model.fit(X_train, y_train)"
   ]
  },
  {
   "cell_type": "code",
   "execution_count": 97,
   "id": "180ba68e",
   "metadata": {},
   "outputs": [],
   "source": [
    "y_pred_XG = xgboost_mrs.predict(X_test)\n",
    "y_pred_train_XG = xgboost_mrs.predict(X_train)"
   ]
  },
  {
   "cell_type": "code",
   "execution_count": 98,
   "id": "d8213912",
   "metadata": {},
   "outputs": [
    {
     "name": "stdout",
     "output_type": "stream",
     "text": [
      "Accuracy Train: 0.9317995069843878\n",
      "Accuracy Test: 0.5816993464052288\n"
     ]
    }
   ],
   "source": [
    "print(\"Accuracy Train:\",accuracy_score(y_train, y_pred_train_XG))\n",
    "print(\"Accuracy Test:\",accuracy_score(y_test, y_pred_XG))"
   ]
  },
  {
   "cell_type": "code",
   "execution_count": 99,
   "id": "bf12747c",
   "metadata": {},
   "outputs": [
    {
     "data": {
      "image/png": "[encoded data removed]",
      "text/plain": [
       "<Figure size 432x288 with 2 Axes>"
      ]
     },
     "metadata": {
      "needs_background": "light"
     },
     "output_type": "display_data"
    }
   ],
   "source": [
    "cmf = confusion_matrix(y_test, y_pred_XG)\n",
    "sns.heatmap(cmf, annot=True).set(xlabel='Predictions', ylabel='True Values')\n",
    "plt.title(\"Confusion Matrix\", fontsize =14);"
   ]
  },
  {
   "cell_type": "code",
   "execution_count": 100,
   "id": "31e01cc4",
   "metadata": {},
   "outputs": [
    {
     "data": {
      "text/html": [
       "<div>\n",
       "<style scoped>\n",
       "    .dataframe tbody tr th:only-of-type {\n",
       "        vertical-align: middle;\n",
       "    }\n",
       "\n",
       "    .dataframe tbody tr th {\n",
       "        vertical-align: top;\n",
       "    }\n",
       "\n",
       "    .dataframe thead th {\n",
       "        text-align: right;\n",
       "    }\n",
       "</style>\n",
       "<table border=\"1\" class=\"dataframe\">\n",
       "  <thead>\n",
       "    <tr style=\"text-align: right;\">\n",
       "      <th></th>\n",
       "      <th>precision</th>\n",
       "      <th>recall</th>\n",
       "      <th>f1-score</th>\n",
       "    </tr>\n",
       "  </thead>\n",
       "  <tbody>\n",
       "    <tr>\n",
       "      <th>0</th>\n",
       "      <td>0.536585</td>\n",
       "      <td>0.904110</td>\n",
       "      <td>0.673469</td>\n",
       "    </tr>\n",
       "    <tr>\n",
       "      <th>1</th>\n",
       "      <td>0.766667</td>\n",
       "      <td>0.287500</td>\n",
       "      <td>0.418182</td>\n",
       "    </tr>\n",
       "    <tr>\n",
       "      <th>accuracy</th>\n",
       "      <td>0.581699</td>\n",
       "      <td>0.581699</td>\n",
       "      <td>0.581699</td>\n",
       "    </tr>\n",
       "    <tr>\n",
       "      <th>macro avg</th>\n",
       "      <td>0.651626</td>\n",
       "      <td>0.595805</td>\n",
       "      <td>0.545826</td>\n",
       "    </tr>\n",
       "    <tr>\n",
       "      <th>weighted avg</th>\n",
       "      <td>0.656889</td>\n",
       "      <td>0.581699</td>\n",
       "      <td>0.539986</td>\n",
       "    </tr>\n",
       "  </tbody>\n",
       "</table>\n",
       "</div>"
      ],
      "text/plain": [
       "              precision    recall  f1-score\n",
       "0              0.536585  0.904110  0.673469\n",
       "1              0.766667  0.287500  0.418182\n",
       "accuracy       0.581699  0.581699  0.581699\n",
       "macro avg      0.651626  0.595805  0.545826\n",
       "weighted avg   0.656889  0.581699  0.539986"
      ]
     },
     "execution_count": 100,
     "metadata": {},
     "output_type": "execute_result"
    }
   ],
   "source": [
    "report = classification_report(y_test, y_pred_XG, output_dict=True)\n",
    "report_xgmtun = pd.DataFrame(report).transpose()\n",
    "report_xgmtun[[\"precision\",\"recall\",\"f1-score\"]]"
   ]
  },
  {
   "cell_type": "code",
   "execution_count": 101,
   "id": "e51eddd2",
   "metadata": {},
   "outputs": [
    {
     "name": "stdout",
     "output_type": "stream",
     "text": [
      "AUC Xgboost Tuned 0.6023972602739727\n"
     ]
    }
   ],
   "source": [
    "proba_xg = xgboost_mrs.predict_proba(X_test)\n",
    "print(\"AUC Xgboost Tuned\",roc_auc_score(y_test, proba_xg[:, 1]))"
   ]
  },
  {
   "cell_type": "code",
   "execution_count": 76,
   "id": "3d8f0f58",
   "metadata": {},
   "outputs": [
    {
     "data": {
      "image/png": "[encoded data removed]",
      "text/plain": [
       "<Figure size 432x288 with 1 Axes>"
      ]
     },
     "metadata": {
      "needs_background": "light"
     },
     "output_type": "display_data"
    }
   ],
   "source": [
    "feat_importances = pd.Series(xgboost_mrs.feature_importances_, index=X_train.columns).sort_values(ascending = False)\n",
    "feat_importances.plot(kind='barh').invert_yaxis()\n",
    "plt.title(\"Variable Importance\", fontsize =14);"
   ]
  },
  {
   "cell_type": "code",
   "execution_count": null,
   "id": "d0fbe37a",
   "metadata": {},
   "outputs": [],
   "source": []
  }
 ],
 "metadata": {
  "kernelspec": {
   "display_name": "Python 3 (ipykernel)",
   "language": "python",
   "name": "python3"
  },
  "language_info": {
   "codemirror_mode": {
    "name": "ipython",
    "version": 3
   },
   "file_extension": ".py",
   "mimetype": "text/x-python",
   "name": "python",
   "nbconvert_exporter": "python",
   "pygments_lexer": "ipython3",
   "version": "3.9.7"
  }
 },
 "nbformat": 4,
 "nbformat_minor": 5
}
