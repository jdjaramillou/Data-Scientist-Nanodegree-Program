{
 "cells": [
  {
   "cell_type": "markdown",
   "id": "372b7549",
   "metadata": {},
   "source": [
    "# Cardano Price Trend Prediction"
   ]
  },
  {
   "cell_type": "code",
   "execution_count": 1,
   "id": "7e43727b",
   "metadata": {},
   "outputs": [],
   "source": [
    "# import of libraries\n",
    "import pandas as pd\n",
    "import numpy as np\n",
    "import seaborn as sns\n",
    "import matplotlib.pyplot as plt"
   ]
  },
  {
   "cell_type": "code",
   "execution_count": 2,
   "id": "f7eb3c65",
   "metadata": {},
   "outputs": [],
   "source": [
    "#Model libraries\n",
    "from sklearn.linear_model import LogisticRegression\n",
    "from sklearn.ensemble import RandomForestClassifier\n",
    "from xgboost import XGBClassifier\n",
    "import xgboost as xgb\n",
    "from sklearn.model_selection import RandomizedSearchCV"
   ]
  },
  {
   "cell_type": "code",
   "execution_count": 3,
   "id": "a1ce9f33",
   "metadata": {},
   "outputs": [],
   "source": [
    "#Metric Libraries\n",
    "from sklearn.metrics import confusion_matrix\n",
    "from sklearn.metrics import precision_score\n",
    "from sklearn.metrics import recall_score\n",
    "from sklearn.metrics import f1_score\n",
    "from sklearn.metrics import accuracy_score\n",
    "from sklearn.metrics import roc_auc_score\n",
    "from sklearn.metrics import classification_report"
   ]
  },
  {
   "cell_type": "code",
   "execution_count": 4,
   "id": "bcd4da55",
   "metadata": {},
   "outputs": [],
   "source": [
    "import warnings\n",
    "warnings.filterwarnings(\"ignore\")"
   ]
  },
  {
   "cell_type": "markdown",
   "id": "d3353ae5",
   "metadata": {},
   "source": [
    "**The dataset was extracted from investing.com**\n",
    "\n",
    "The datasets were downloaded from www.investing.com and it contains the following features:\n",
    "\n",
    " - **Date:**\tDaily date of the crypto information\n",
    " - **Price:**\tUSD prices of the crypto currency\n",
    " - **Open:**\tOpening price of crypto currency (USD)\n",
    " - **High:**\tHighest price of crypto currency (USD)\n",
    " - **Low:** \tLowest price of crypto currency (USD)\n",
    " - **Vol.:**\tVolume of crypto traded on the given date\n",
    " - **Change%:**\tPercentage of the change in crypto currency prices relative to the previous day"
   ]
  },
  {
   "cell_type": "code",
   "execution_count": 5,
   "id": "f0aa40be",
   "metadata": {},
   "outputs": [],
   "source": [
    "cardano_hist = pd.read_csv('data/Cardano Historical Data.csv')\n",
    "\n",
    "#columns to lower case\n",
    "cardano_hist.columns = cardano_hist.columns.str.lower()"
   ]
  },
  {
   "cell_type": "code",
   "execution_count": 6,
   "id": "69fe0bdd",
   "metadata": {},
   "outputs": [
    {
     "data": {
      "text/html": [
       "<div>\n",
       "<style scoped>\n",
       "    .dataframe tbody tr th:only-of-type {\n",
       "        vertical-align: middle;\n",
       "    }\n",
       "\n",
       "    .dataframe tbody tr th {\n",
       "        vertical-align: top;\n",
       "    }\n",
       "\n",
       "    .dataframe thead th {\n",
       "        text-align: right;\n",
       "    }\n",
       "</style>\n",
       "<table border=\"1\" class=\"dataframe\">\n",
       "  <thead>\n",
       "    <tr style=\"text-align: right;\">\n",
       "      <th></th>\n",
       "      <th>date</th>\n",
       "      <th>price</th>\n",
       "      <th>open</th>\n",
       "      <th>high</th>\n",
       "      <th>low</th>\n",
       "      <th>vol.</th>\n",
       "      <th>change %</th>\n",
       "    </tr>\n",
       "  </thead>\n",
       "  <tbody>\n",
       "    <tr>\n",
       "      <th>0</th>\n",
       "      <td>Sep 30, 2021</td>\n",
       "      <td>2.1164</td>\n",
       "      <td>2.0655</td>\n",
       "      <td>2.1349</td>\n",
       "      <td>2.0515</td>\n",
       "      <td>250.07M</td>\n",
       "      <td>2.45</td>\n",
       "    </tr>\n",
       "    <tr>\n",
       "      <th>1</th>\n",
       "      <td>Sep 29, 2021</td>\n",
       "      <td>2.0658</td>\n",
       "      <td>2.0370</td>\n",
       "      <td>2.1424</td>\n",
       "      <td>2.0220</td>\n",
       "      <td>272.69M</td>\n",
       "      <td>1.43</td>\n",
       "    </tr>\n",
       "    <tr>\n",
       "      <th>2</th>\n",
       "      <td>Sep 28, 2021</td>\n",
       "      <td>2.0367</td>\n",
       "      <td>2.1312</td>\n",
       "      <td>2.1716</td>\n",
       "      <td>2.0300</td>\n",
       "      <td>289.31M</td>\n",
       "      <td>-4.41</td>\n",
       "    </tr>\n",
       "    <tr>\n",
       "      <th>3</th>\n",
       "      <td>Sep 27, 2021</td>\n",
       "      <td>2.1307</td>\n",
       "      <td>2.2090</td>\n",
       "      <td>2.2726</td>\n",
       "      <td>2.1293</td>\n",
       "      <td>288.51M</td>\n",
       "      <td>-3.52</td>\n",
       "    </tr>\n",
       "    <tr>\n",
       "      <th>4</th>\n",
       "      <td>Sep 26, 2021</td>\n",
       "      <td>2.2084</td>\n",
       "      <td>2.2985</td>\n",
       "      <td>2.2999</td>\n",
       "      <td>2.1490</td>\n",
       "      <td>452.94M</td>\n",
       "      <td>-3.92</td>\n",
       "    </tr>\n",
       "  </tbody>\n",
       "</table>\n",
       "</div>"
      ],
      "text/plain": [
       "           date   price    open    high     low     vol.  change %\n",
       "0  Sep 30, 2021  2.1164  2.0655  2.1349  2.0515  250.07M      2.45\n",
       "1  Sep 29, 2021  2.0658  2.0370  2.1424  2.0220  272.69M      1.43\n",
       "2  Sep 28, 2021  2.0367  2.1312  2.1716  2.0300  289.31M     -4.41\n",
       "3  Sep 27, 2021  2.1307  2.2090  2.2726  2.1293  288.51M     -3.52\n",
       "4  Sep 26, 2021  2.2084  2.2985  2.2999  2.1490  452.94M     -3.92"
      ]
     },
     "execution_count": 6,
     "metadata": {},
     "output_type": "execute_result"
    }
   ],
   "source": [
    "#Check  rows and columns\n",
    "cardano_hist.head(5)"
   ]
  },
  {
   "cell_type": "code",
   "execution_count": 7,
   "id": "1b722390",
   "metadata": {},
   "outputs": [
    {
     "data": {
      "text/plain": [
       "date         object\n",
       "price        object\n",
       "open         object\n",
       "high         object\n",
       "low          object\n",
       "vol.         object\n",
       "change %    float64\n",
       "dtype: object"
      ]
     },
     "execution_count": 7,
     "metadata": {},
     "output_type": "execute_result"
    }
   ],
   "source": [
    "cardano_hist.dtypes"
   ]
  },
  {
   "cell_type": "code",
   "execution_count": 8,
   "id": "731eb4a0",
   "metadata": {},
   "outputs": [
    {
     "name": "stdout",
     "output_type": "stream",
     "text": [
      "(1372, 7)\n"
     ]
    }
   ],
   "source": [
    "print(cardano_hist.shape)"
   ]
  },
  {
   "cell_type": "code",
   "execution_count": 9,
   "id": "c3fc560e",
   "metadata": {},
   "outputs": [
    {
     "data": {
      "text/plain": [
       "date        2\n",
       "price       1\n",
       "open        1\n",
       "high        1\n",
       "low         1\n",
       "vol.        1\n",
       "change %    2\n",
       "dtype: int64"
      ]
     },
     "execution_count": 9,
     "metadata": {},
     "output_type": "execute_result"
    }
   ],
   "source": [
    "# Check for Nan values\n",
    "cardano_hist.isna().sum()"
   ]
  },
  {
   "cell_type": "markdown",
   "id": "ec19ef91",
   "metadata": {},
   "source": [
    "* Out of 1372 rows, a few has nan values, later we will take a closer look to correct this values\n",
    "* Most of the features were imported as a string value, an some of them have charaters that need to be transformed"
   ]
  },
  {
   "cell_type": "markdown",
   "id": "876c64d4",
   "metadata": {},
   "source": [
    "## Data Cleansing"
   ]
  },
  {
   "cell_type": "code",
   "execution_count": 10,
   "id": "cb342d2b",
   "metadata": {},
   "outputs": [
    {
     "data": {
      "text/html": [
       "<div>\n",
       "<style scoped>\n",
       "    .dataframe tbody tr th:only-of-type {\n",
       "        vertical-align: middle;\n",
       "    }\n",
       "\n",
       "    .dataframe tbody tr th {\n",
       "        vertical-align: top;\n",
       "    }\n",
       "\n",
       "    .dataframe thead th {\n",
       "        text-align: right;\n",
       "    }\n",
       "</style>\n",
       "<table border=\"1\" class=\"dataframe\">\n",
       "  <thead>\n",
       "    <tr style=\"text-align: right;\">\n",
       "      <th></th>\n",
       "      <th>date</th>\n",
       "      <th>price</th>\n",
       "      <th>open</th>\n",
       "      <th>high</th>\n",
       "      <th>low</th>\n",
       "      <th>vol.</th>\n",
       "      <th>change %</th>\n",
       "    </tr>\n",
       "  </thead>\n",
       "  <tbody>\n",
       "    <tr>\n",
       "      <th>1370</th>\n",
       "      <td>NaN</td>\n",
       "      <td>NaN</td>\n",
       "      <td>NaN</td>\n",
       "      <td>NaN</td>\n",
       "      <td>NaN</td>\n",
       "      <td>NaN</td>\n",
       "      <td>NaN</td>\n",
       "    </tr>\n",
       "    <tr>\n",
       "      <th>1371</th>\n",
       "      <td>NaN</td>\n",
       "      <td>Highest:3.0989</td>\n",
       "      <td>Lowest:0.0178</td>\n",
       "      <td>Difference:3.0812</td>\n",
       "      <td>Average:0.3722</td>\n",
       "      <td>Change %:258.7039</td>\n",
       "      <td>NaN</td>\n",
       "    </tr>\n",
       "  </tbody>\n",
       "</table>\n",
       "</div>"
      ],
      "text/plain": [
       "     date           price           open               high             low  \\\n",
       "1370  NaN             NaN            NaN                NaN             NaN   \n",
       "1371  NaN  Highest:3.0989  Lowest:0.0178  Difference:3.0812  Average:0.3722   \n",
       "\n",
       "                   vol.  change %  \n",
       "1370                NaN       NaN  \n",
       "1371  Change %:258.7039       NaN  "
      ]
     },
     "execution_count": 10,
     "metadata": {},
     "output_type": "execute_result"
    }
   ],
   "source": [
    "cardano_hist[cardano_hist[\"date\"].isna()]"
   ]
  },
  {
   "cell_type": "code",
   "execution_count": 11,
   "id": "5620e3c4",
   "metadata": {},
   "outputs": [
    {
     "data": {
      "text/html": [
       "<div>\n",
       "<style scoped>\n",
       "    .dataframe tbody tr th:only-of-type {\n",
       "        vertical-align: middle;\n",
       "    }\n",
       "\n",
       "    .dataframe tbody tr th {\n",
       "        vertical-align: top;\n",
       "    }\n",
       "\n",
       "    .dataframe thead th {\n",
       "        text-align: right;\n",
       "    }\n",
       "</style>\n",
       "<table border=\"1\" class=\"dataframe\">\n",
       "  <thead>\n",
       "    <tr style=\"text-align: right;\">\n",
       "      <th></th>\n",
       "      <th>date</th>\n",
       "      <th>price</th>\n",
       "      <th>open</th>\n",
       "      <th>high</th>\n",
       "      <th>low</th>\n",
       "      <th>vol.</th>\n",
       "      <th>change %</th>\n",
       "    </tr>\n",
       "  </thead>\n",
       "  <tbody>\n",
       "    <tr>\n",
       "      <th>1367</th>\n",
       "      <td>Jan 02, 2018</td>\n",
       "      <td>0.7620</td>\n",
       "      <td>0.7022</td>\n",
       "      <td>0.8000</td>\n",
       "      <td>0.6750</td>\n",
       "      <td>10.97M</td>\n",
       "      <td>8.52</td>\n",
       "    </tr>\n",
       "    <tr>\n",
       "      <th>1368</th>\n",
       "      <td>Jan 01, 2018</td>\n",
       "      <td>0.7022</td>\n",
       "      <td>0.7100</td>\n",
       "      <td>0.7150</td>\n",
       "      <td>0.6320</td>\n",
       "      <td>17.95M</td>\n",
       "      <td>-1.10</td>\n",
       "    </tr>\n",
       "    <tr>\n",
       "      <th>1369</th>\n",
       "      <td>Dec 31, 2017</td>\n",
       "      <td>0.7100</td>\n",
       "      <td>0.5900</td>\n",
       "      <td>0.7400</td>\n",
       "      <td>0.5900</td>\n",
       "      <td>17.22M</td>\n",
       "      <td>20.34</td>\n",
       "    </tr>\n",
       "    <tr>\n",
       "      <th>1370</th>\n",
       "      <td>NaN</td>\n",
       "      <td>NaN</td>\n",
       "      <td>NaN</td>\n",
       "      <td>NaN</td>\n",
       "      <td>NaN</td>\n",
       "      <td>NaN</td>\n",
       "      <td>NaN</td>\n",
       "    </tr>\n",
       "    <tr>\n",
       "      <th>1371</th>\n",
       "      <td>NaN</td>\n",
       "      <td>Highest:3.0989</td>\n",
       "      <td>Lowest:0.0178</td>\n",
       "      <td>Difference:3.0812</td>\n",
       "      <td>Average:0.3722</td>\n",
       "      <td>Change %:258.7039</td>\n",
       "      <td>NaN</td>\n",
       "    </tr>\n",
       "  </tbody>\n",
       "</table>\n",
       "</div>"
      ],
      "text/plain": [
       "              date           price           open               high  \\\n",
       "1367  Jan 02, 2018          0.7620         0.7022             0.8000   \n",
       "1368  Jan 01, 2018          0.7022         0.7100             0.7150   \n",
       "1369  Dec 31, 2017          0.7100         0.5900             0.7400   \n",
       "1370           NaN             NaN            NaN                NaN   \n",
       "1371           NaN  Highest:3.0989  Lowest:0.0178  Difference:3.0812   \n",
       "\n",
       "                 low               vol.  change %  \n",
       "1367          0.6750             10.97M      8.52  \n",
       "1368          0.6320             17.95M     -1.10  \n",
       "1369          0.5900             17.22M     20.34  \n",
       "1370             NaN                NaN       NaN  \n",
       "1371  Average:0.3722  Change %:258.7039       NaN  "
      ]
     },
     "execution_count": 11,
     "metadata": {},
     "output_type": "execute_result"
    }
   ],
   "source": [
    "cardano_hist.tail(5)"
   ]
  },
  {
   "cell_type": "markdown",
   "id": "c85fdbec",
   "metadata": {},
   "source": [
    "The missing values correspond to thw last two rows.\n",
    "* the first one has all missing values so we should delet this row\n",
    "* the second one contains descriptive values that don't bellow to the information of the dataframe, so we should also drop this information "
   ]
  },
  {
   "cell_type": "code",
   "execution_count": 12,
   "id": "408c7178",
   "metadata": {},
   "outputs": [],
   "source": [
    "# drop last two rows\n",
    "cardano_hist = cardano_hist[:1370]"
   ]
  },
  {
   "cell_type": "code",
   "execution_count": 13,
   "id": "eb8e02fb",
   "metadata": {},
   "outputs": [],
   "source": [
    "#change data type\n",
    "for x in ['price','open','high','low']:\n",
    "    cardano_hist[x] = cardano_hist[x].astype(float)"
   ]
  },
  {
   "cell_type": "code",
   "execution_count": 14,
   "id": "d2c1cf29",
   "metadata": {},
   "outputs": [],
   "source": [
    "#change column name to make it more clear\n",
    "cardano_hist = cardano_hist.rename(columns = {'change %':'change','vol.':'vol' })"
   ]
  },
  {
   "cell_type": "code",
   "execution_count": 15,
   "id": "93a88691",
   "metadata": {},
   "outputs": [],
   "source": [
    "#convert Date to datatime and create year, month and day column\n",
    "cardano_hist.date = pd.to_datetime(cardano_hist.date)\n",
    "cardano_hist[['year','month','day']] = cardano_hist.date.apply(lambda x: pd.Series(x.strftime(\"%Y-%m-%d\").split(\"-\")))\n",
    "cardano_hist[\"month\"] = cardano_hist[\"month\"].astype(float)\n",
    "cardano_hist[\"day\"] = cardano_hist[\"day\"].astype(float)"
   ]
  },
  {
   "cell_type": "code",
   "execution_count": 16,
   "id": "5b166387",
   "metadata": {},
   "outputs": [],
   "source": [
    "\n",
    "#delete % from string and transform to float\n",
    "cardano_hist['change'] = cardano_hist.change.replace('%', '').astype(float)/100"
   ]
  },
  {
   "cell_type": "markdown",
   "id": "40e687bd",
   "metadata": {},
   "source": [
    "**This fuction were inspired based on the open code from Kaggle: https://www.kaggle.com/jkreyner/script-to-clean-data-set**"
   ]
  },
  {
   "cell_type": "code",
   "execution_count": 17,
   "id": "bd22b112",
   "metadata": {},
   "outputs": [],
   "source": [
    "\n",
    "def to_float(x):\n",
    "    \"\"\"\n",
    "        Reformat column to numeric  \n",
    "    Args: \n",
    "        x: Series of Vol to be transformed\n",
    "    \"\"\"    \n",
    "    # transform to numeric base on the string value\n",
    "    if type(x) == float or type(x) == int:\n",
    "        return x\n",
    "    if 'K' in x:\n",
    "        if len(x) > 1:\n",
    "            return float(x.replace('K', '')) * 1000\n",
    "        return 1000.0\n",
    "    if 'M' in x:\n",
    "        if len(x) > 1:\n",
    "            return float(x.replace('M', '')) * 1000000\n",
    "        return 1000000.0\n",
    "    if 'B' in x:\n",
    "        return float(x.replace('B', '')) * 1000000000\n",
    "    return"
   ]
  },
  {
   "cell_type": "code",
   "execution_count": 18,
   "id": "9fd82755",
   "metadata": {},
   "outputs": [],
   "source": [
    "#transform data type to float\n",
    "cardano_hist['vol'] = cardano_hist['vol'].apply(to_float)"
   ]
  },
  {
   "cell_type": "code",
   "execution_count": 19,
   "id": "d39d928c",
   "metadata": {},
   "outputs": [
    {
     "name": "stdout",
     "output_type": "stream",
     "text": [
      "date      0\n",
      "price     0\n",
      "open      0\n",
      "high      0\n",
      "low       0\n",
      "vol       5\n",
      "change    0\n",
      "year      0\n",
      "month     0\n",
      "day       0\n",
      "dtype: int64\n"
     ]
    },
    {
     "data": {
      "text/html": [
       "<div>\n",
       "<style scoped>\n",
       "    .dataframe tbody tr th:only-of-type {\n",
       "        vertical-align: middle;\n",
       "    }\n",
       "\n",
       "    .dataframe tbody tr th {\n",
       "        vertical-align: top;\n",
       "    }\n",
       "\n",
       "    .dataframe thead th {\n",
       "        text-align: right;\n",
       "    }\n",
       "</style>\n",
       "<table border=\"1\" class=\"dataframe\">\n",
       "  <thead>\n",
       "    <tr style=\"text-align: right;\">\n",
       "      <th></th>\n",
       "      <th>date</th>\n",
       "      <th>price</th>\n",
       "      <th>open</th>\n",
       "      <th>high</th>\n",
       "      <th>low</th>\n",
       "      <th>vol</th>\n",
       "      <th>change</th>\n",
       "      <th>year</th>\n",
       "      <th>month</th>\n",
       "      <th>day</th>\n",
       "    </tr>\n",
       "  </thead>\n",
       "  <tbody>\n",
       "    <tr>\n",
       "      <th>10</th>\n",
       "      <td>2021-09-20</td>\n",
       "      <td>2.0684</td>\n",
       "      <td>2.2827</td>\n",
       "      <td>2.2884</td>\n",
       "      <td>1.9827</td>\n",
       "      <td>NaN</td>\n",
       "      <td>-0.0939</td>\n",
       "      <td>2021</td>\n",
       "      <td>9.0</td>\n",
       "      <td>20.0</td>\n",
       "    </tr>\n",
       "    <tr>\n",
       "      <th>35</th>\n",
       "      <td>2021-08-26</td>\n",
       "      <td>2.5347</td>\n",
       "      <td>2.7402</td>\n",
       "      <td>2.7846</td>\n",
       "      <td>2.4701</td>\n",
       "      <td>NaN</td>\n",
       "      <td>-0.0750</td>\n",
       "      <td>2021</td>\n",
       "      <td>8.0</td>\n",
       "      <td>26.0</td>\n",
       "    </tr>\n",
       "    <tr>\n",
       "      <th>58</th>\n",
       "      <td>2021-08-03</td>\n",
       "      <td>1.3648</td>\n",
       "      <td>1.3086</td>\n",
       "      <td>1.3822</td>\n",
       "      <td>1.2626</td>\n",
       "      <td>NaN</td>\n",
       "      <td>0.0429</td>\n",
       "      <td>2021</td>\n",
       "      <td>8.0</td>\n",
       "      <td>3.0</td>\n",
       "    </tr>\n",
       "    <tr>\n",
       "      <th>80</th>\n",
       "      <td>2021-07-12</td>\n",
       "      <td>1.3147</td>\n",
       "      <td>1.3479</td>\n",
       "      <td>1.3731</td>\n",
       "      <td>1.2922</td>\n",
       "      <td>NaN</td>\n",
       "      <td>-0.0246</td>\n",
       "      <td>2021</td>\n",
       "      <td>7.0</td>\n",
       "      <td>12.0</td>\n",
       "    </tr>\n",
       "    <tr>\n",
       "      <th>259</th>\n",
       "      <td>2021-01-14</td>\n",
       "      <td>0.3110</td>\n",
       "      <td>0.3127</td>\n",
       "      <td>0.3241</td>\n",
       "      <td>0.2986</td>\n",
       "      <td>NaN</td>\n",
       "      <td>-0.0055</td>\n",
       "      <td>2021</td>\n",
       "      <td>1.0</td>\n",
       "      <td>14.0</td>\n",
       "    </tr>\n",
       "  </tbody>\n",
       "</table>\n",
       "</div>"
      ],
      "text/plain": [
       "          date   price    open    high     low  vol  change  year  month   day\n",
       "10  2021-09-20  2.0684  2.2827  2.2884  1.9827  NaN -0.0939  2021    9.0  20.0\n",
       "35  2021-08-26  2.5347  2.7402  2.7846  2.4701  NaN -0.0750  2021    8.0  26.0\n",
       "58  2021-08-03  1.3648  1.3086  1.3822  1.2626  NaN  0.0429  2021    8.0   3.0\n",
       "80  2021-07-12  1.3147  1.3479  1.3731  1.2922  NaN -0.0246  2021    7.0  12.0\n",
       "259 2021-01-14  0.3110  0.3127  0.3241  0.2986  NaN -0.0055  2021    1.0  14.0"
      ]
     },
     "execution_count": 19,
     "metadata": {},
     "output_type": "execute_result"
    }
   ],
   "source": [
    "# lets check for nan values after this transformations\n",
    "print(cardano_hist.isna().sum())\n",
    "cardano_hist[cardano_hist[\"vol\"].isna()]"
   ]
  },
  {
   "cell_type": "markdown",
   "id": "a577809a",
   "metadata": {},
   "source": [
    "This transformation creates some nan values, and checking in the original dataset it correspond to rows were the value were 0. That is, we had no information about the volumen traded this days, we could replace this nan with the volume of the previous day"
   ]
  },
  {
   "cell_type": "code",
   "execution_count": 20,
   "id": "e5e53db3",
   "metadata": {},
   "outputs": [],
   "source": [
    "cardano_hist.fillna(method='bfill', inplace = True)"
   ]
  },
  {
   "cell_type": "code",
   "execution_count": 21,
   "id": "539387fc",
   "metadata": {},
   "outputs": [
    {
     "name": "stdout",
     "output_type": "stream",
     "text": [
      "date      0\n",
      "price     0\n",
      "open      0\n",
      "high      0\n",
      "low       0\n",
      "vol       0\n",
      "change    0\n",
      "year      0\n",
      "month     0\n",
      "day       0\n",
      "dtype: int64\n"
     ]
    }
   ],
   "source": [
    "print(cardano_hist.isna().sum())"
   ]
  },
  {
   "cell_type": "code",
   "execution_count": 22,
   "id": "5bd55a5f",
   "metadata": {},
   "outputs": [
    {
     "data": {
      "text/html": [
       "<div>\n",
       "<style scoped>\n",
       "    .dataframe tbody tr th:only-of-type {\n",
       "        vertical-align: middle;\n",
       "    }\n",
       "\n",
       "    .dataframe tbody tr th {\n",
       "        vertical-align: top;\n",
       "    }\n",
       "\n",
       "    .dataframe thead th {\n",
       "        text-align: right;\n",
       "    }\n",
       "</style>\n",
       "<table border=\"1\" class=\"dataframe\">\n",
       "  <thead>\n",
       "    <tr style=\"text-align: right;\">\n",
       "      <th></th>\n",
       "      <th>date</th>\n",
       "      <th>price</th>\n",
       "      <th>open</th>\n",
       "      <th>high</th>\n",
       "      <th>low</th>\n",
       "      <th>vol</th>\n",
       "      <th>change</th>\n",
       "      <th>year</th>\n",
       "      <th>month</th>\n",
       "      <th>day</th>\n",
       "    </tr>\n",
       "  </thead>\n",
       "  <tbody>\n",
       "    <tr>\n",
       "      <th>8</th>\n",
       "      <td>2021-09-22</td>\n",
       "      <td>2.2591</td>\n",
       "      <td>1.9842</td>\n",
       "      <td>2.2659</td>\n",
       "      <td>1.9691</td>\n",
       "      <td>564970000.0</td>\n",
       "      <td>0.1392</td>\n",
       "      <td>2021</td>\n",
       "      <td>9.0</td>\n",
       "      <td>22.0</td>\n",
       "    </tr>\n",
       "    <tr>\n",
       "      <th>9</th>\n",
       "      <td>2021-09-21</td>\n",
       "      <td>1.9830</td>\n",
       "      <td>2.0684</td>\n",
       "      <td>2.2239</td>\n",
       "      <td>1.9132</td>\n",
       "      <td>795400000.0</td>\n",
       "      <td>-0.0413</td>\n",
       "      <td>2021</td>\n",
       "      <td>9.0</td>\n",
       "      <td>21.0</td>\n",
       "    </tr>\n",
       "    <tr>\n",
       "      <th>10</th>\n",
       "      <td>2021-09-20</td>\n",
       "      <td>2.0684</td>\n",
       "      <td>2.2827</td>\n",
       "      <td>2.2884</td>\n",
       "      <td>1.9827</td>\n",
       "      <td>222620000.0</td>\n",
       "      <td>-0.0939</td>\n",
       "      <td>2021</td>\n",
       "      <td>9.0</td>\n",
       "      <td>20.0</td>\n",
       "    </tr>\n",
       "    <tr>\n",
       "      <th>11</th>\n",
       "      <td>2021-09-19</td>\n",
       "      <td>2.2827</td>\n",
       "      <td>2.3719</td>\n",
       "      <td>2.3959</td>\n",
       "      <td>2.2612</td>\n",
       "      <td>222620000.0</td>\n",
       "      <td>-0.0376</td>\n",
       "      <td>2021</td>\n",
       "      <td>9.0</td>\n",
       "      <td>19.0</td>\n",
       "    </tr>\n",
       "  </tbody>\n",
       "</table>\n",
       "</div>"
      ],
      "text/plain": [
       "         date   price    open    high     low          vol  change  year  \\\n",
       "8  2021-09-22  2.2591  1.9842  2.2659  1.9691  564970000.0  0.1392  2021   \n",
       "9  2021-09-21  1.9830  2.0684  2.2239  1.9132  795400000.0 -0.0413  2021   \n",
       "10 2021-09-20  2.0684  2.2827  2.2884  1.9827  222620000.0 -0.0939  2021   \n",
       "11 2021-09-19  2.2827  2.3719  2.3959  2.2612  222620000.0 -0.0376  2021   \n",
       "\n",
       "    month   day  \n",
       "8     9.0  22.0  \n",
       "9     9.0  21.0  \n",
       "10    9.0  20.0  \n",
       "11    9.0  19.0  "
      ]
     },
     "execution_count": 22,
     "metadata": {},
     "output_type": "execute_result"
    }
   ],
   "source": [
    "#check that the nan was correctly remplaced\n",
    "cardano_hist.iloc[8:12]"
   ]
  },
  {
   "cell_type": "code",
   "execution_count": 23,
   "id": "d4771de8",
   "metadata": {},
   "outputs": [
    {
     "data": {
      "text/html": [
       "<div>\n",
       "<style scoped>\n",
       "    .dataframe tbody tr th:only-of-type {\n",
       "        vertical-align: middle;\n",
       "    }\n",
       "\n",
       "    .dataframe tbody tr th {\n",
       "        vertical-align: top;\n",
       "    }\n",
       "\n",
       "    .dataframe thead th {\n",
       "        text-align: right;\n",
       "    }\n",
       "</style>\n",
       "<table border=\"1\" class=\"dataframe\">\n",
       "  <thead>\n",
       "    <tr style=\"text-align: right;\">\n",
       "      <th></th>\n",
       "      <th>price</th>\n",
       "      <th>open</th>\n",
       "      <th>high</th>\n",
       "      <th>low</th>\n",
       "      <th>vol</th>\n",
       "      <th>change</th>\n",
       "      <th>month</th>\n",
       "      <th>day</th>\n",
       "    </tr>\n",
       "  </thead>\n",
       "  <tbody>\n",
       "    <tr>\n",
       "      <th>count</th>\n",
       "      <td>1370.000000</td>\n",
       "      <td>1370.000000</td>\n",
       "      <td>1370.000000</td>\n",
       "      <td>1370.000000</td>\n",
       "      <td>1.370000e+03</td>\n",
       "      <td>1370.000000</td>\n",
       "      <td>1370.000000</td>\n",
       "      <td>1370.000000</td>\n",
       "    </tr>\n",
       "    <tr>\n",
       "      <th>mean</th>\n",
       "      <td>0.372239</td>\n",
       "      <td>0.371315</td>\n",
       "      <td>0.390555</td>\n",
       "      <td>0.350343</td>\n",
       "      <td>4.592991e+08</td>\n",
       "      <td>0.002984</td>\n",
       "      <td>6.226277</td>\n",
       "      <td>15.733577</td>\n",
       "    </tr>\n",
       "    <tr>\n",
       "      <th>std</th>\n",
       "      <td>0.600406</td>\n",
       "      <td>0.598689</td>\n",
       "      <td>0.629400</td>\n",
       "      <td>0.566161</td>\n",
       "      <td>4.663479e+08</td>\n",
       "      <td>0.064444</td>\n",
       "      <td>3.351771</td>\n",
       "      <td>8.806074</td>\n",
       "    </tr>\n",
       "    <tr>\n",
       "      <th>min</th>\n",
       "      <td>0.023200</td>\n",
       "      <td>0.023200</td>\n",
       "      <td>0.026500</td>\n",
       "      <td>0.017800</td>\n",
       "      <td>4.810000e+06</td>\n",
       "      <td>-0.414900</td>\n",
       "      <td>1.000000</td>\n",
       "      <td>1.000000</td>\n",
       "    </tr>\n",
       "    <tr>\n",
       "      <th>25%</th>\n",
       "      <td>0.049800</td>\n",
       "      <td>0.049800</td>\n",
       "      <td>0.051700</td>\n",
       "      <td>0.048025</td>\n",
       "      <td>1.501675e+08</td>\n",
       "      <td>-0.030175</td>\n",
       "      <td>3.000000</td>\n",
       "      <td>8.000000</td>\n",
       "    </tr>\n",
       "    <tr>\n",
       "      <th>50%</th>\n",
       "      <td>0.093750</td>\n",
       "      <td>0.093750</td>\n",
       "      <td>0.097950</td>\n",
       "      <td>0.090600</td>\n",
       "      <td>3.282400e+08</td>\n",
       "      <td>0.000000</td>\n",
       "      <td>6.000000</td>\n",
       "      <td>16.000000</td>\n",
       "    </tr>\n",
       "    <tr>\n",
       "      <th>75%</th>\n",
       "      <td>0.296425</td>\n",
       "      <td>0.296425</td>\n",
       "      <td>0.313475</td>\n",
       "      <td>0.279025</td>\n",
       "      <td>5.962575e+08</td>\n",
       "      <td>0.030700</td>\n",
       "      <td>9.000000</td>\n",
       "      <td>23.000000</td>\n",
       "    </tr>\n",
       "    <tr>\n",
       "      <th>max</th>\n",
       "      <td>2.965200</td>\n",
       "      <td>2.965300</td>\n",
       "      <td>3.098900</td>\n",
       "      <td>2.903000</td>\n",
       "      <td>3.070000e+09</td>\n",
       "      <td>0.417300</td>\n",
       "      <td>12.000000</td>\n",
       "      <td>31.000000</td>\n",
       "    </tr>\n",
       "  </tbody>\n",
       "</table>\n",
       "</div>"
      ],
      "text/plain": [
       "             price         open         high          low           vol  \\\n",
       "count  1370.000000  1370.000000  1370.000000  1370.000000  1.370000e+03   \n",
       "mean      0.372239     0.371315     0.390555     0.350343  4.592991e+08   \n",
       "std       0.600406     0.598689     0.629400     0.566161  4.663479e+08   \n",
       "min       0.023200     0.023200     0.026500     0.017800  4.810000e+06   \n",
       "25%       0.049800     0.049800     0.051700     0.048025  1.501675e+08   \n",
       "50%       0.093750     0.093750     0.097950     0.090600  3.282400e+08   \n",
       "75%       0.296425     0.296425     0.313475     0.279025  5.962575e+08   \n",
       "max       2.965200     2.965300     3.098900     2.903000  3.070000e+09   \n",
       "\n",
       "            change        month          day  \n",
       "count  1370.000000  1370.000000  1370.000000  \n",
       "mean      0.002984     6.226277    15.733577  \n",
       "std       0.064444     3.351771     8.806074  \n",
       "min      -0.414900     1.000000     1.000000  \n",
       "25%      -0.030175     3.000000     8.000000  \n",
       "50%       0.000000     6.000000    16.000000  \n",
       "75%       0.030700     9.000000    23.000000  \n",
       "max       0.417300    12.000000    31.000000  "
      ]
     },
     "execution_count": 23,
     "metadata": {},
     "output_type": "execute_result"
    }
   ],
   "source": [
    "cardano_hist.describe()"
   ]
  },
  {
   "cell_type": "markdown",
   "id": "1f661852",
   "metadata": {},
   "source": [
    "###  Target variable "
   ]
  },
  {
   "cell_type": "markdown",
   "id": "7dda196d",
   "metadata": {},
   "source": [
    "The target variables is not a feature included in our data set, so we need to create it.\n",
    "\n",
    "Considering that our main objetive is predict the price tend for the next day our target is %change of the next day transformed to a binary variable where:\n",
    "* 1: the prices increased the next day \n",
    "* 0: the prices decreased the next day (No price change is considered 0)"
   ]
  },
  {
   "cell_type": "code",
   "execution_count": 24,
   "id": "2e744519",
   "metadata": {},
   "outputs": [],
   "source": [
    "cardano_hist['future_increase'] = np.where(cardano_hist.change.shift(1).fillna(value=0) > 0,1,0)"
   ]
  },
  {
   "cell_type": "code",
   "execution_count": 25,
   "id": "a3c7e477",
   "metadata": {},
   "outputs": [
    {
     "data": {
      "text/html": [
       "<div>\n",
       "<style scoped>\n",
       "    .dataframe tbody tr th:only-of-type {\n",
       "        vertical-align: middle;\n",
       "    }\n",
       "\n",
       "    .dataframe tbody tr th {\n",
       "        vertical-align: top;\n",
       "    }\n",
       "\n",
       "    .dataframe thead th {\n",
       "        text-align: right;\n",
       "    }\n",
       "</style>\n",
       "<table border=\"1\" class=\"dataframe\">\n",
       "  <thead>\n",
       "    <tr style=\"text-align: right;\">\n",
       "      <th></th>\n",
       "      <th>date</th>\n",
       "      <th>price</th>\n",
       "      <th>open</th>\n",
       "      <th>high</th>\n",
       "      <th>low</th>\n",
       "      <th>vol</th>\n",
       "      <th>change</th>\n",
       "      <th>year</th>\n",
       "      <th>month</th>\n",
       "      <th>day</th>\n",
       "      <th>future_increase</th>\n",
       "    </tr>\n",
       "  </thead>\n",
       "  <tbody>\n",
       "    <tr>\n",
       "      <th>0</th>\n",
       "      <td>2021-09-30</td>\n",
       "      <td>2.1164</td>\n",
       "      <td>2.0655</td>\n",
       "      <td>2.1349</td>\n",
       "      <td>2.0515</td>\n",
       "      <td>250070000.0</td>\n",
       "      <td>0.0245</td>\n",
       "      <td>2021</td>\n",
       "      <td>9.0</td>\n",
       "      <td>30.0</td>\n",
       "      <td>0</td>\n",
       "    </tr>\n",
       "    <tr>\n",
       "      <th>1</th>\n",
       "      <td>2021-09-29</td>\n",
       "      <td>2.0658</td>\n",
       "      <td>2.0370</td>\n",
       "      <td>2.1424</td>\n",
       "      <td>2.0220</td>\n",
       "      <td>272690000.0</td>\n",
       "      <td>0.0143</td>\n",
       "      <td>2021</td>\n",
       "      <td>9.0</td>\n",
       "      <td>29.0</td>\n",
       "      <td>1</td>\n",
       "    </tr>\n",
       "    <tr>\n",
       "      <th>2</th>\n",
       "      <td>2021-09-28</td>\n",
       "      <td>2.0367</td>\n",
       "      <td>2.1312</td>\n",
       "      <td>2.1716</td>\n",
       "      <td>2.0300</td>\n",
       "      <td>289310000.0</td>\n",
       "      <td>-0.0441</td>\n",
       "      <td>2021</td>\n",
       "      <td>9.0</td>\n",
       "      <td>28.0</td>\n",
       "      <td>1</td>\n",
       "    </tr>\n",
       "    <tr>\n",
       "      <th>3</th>\n",
       "      <td>2021-09-27</td>\n",
       "      <td>2.1307</td>\n",
       "      <td>2.2090</td>\n",
       "      <td>2.2726</td>\n",
       "      <td>2.1293</td>\n",
       "      <td>288510000.0</td>\n",
       "      <td>-0.0352</td>\n",
       "      <td>2021</td>\n",
       "      <td>9.0</td>\n",
       "      <td>27.0</td>\n",
       "      <td>0</td>\n",
       "    </tr>\n",
       "    <tr>\n",
       "      <th>4</th>\n",
       "      <td>2021-09-26</td>\n",
       "      <td>2.2084</td>\n",
       "      <td>2.2985</td>\n",
       "      <td>2.2999</td>\n",
       "      <td>2.1490</td>\n",
       "      <td>452940000.0</td>\n",
       "      <td>-0.0392</td>\n",
       "      <td>2021</td>\n",
       "      <td>9.0</td>\n",
       "      <td>26.0</td>\n",
       "      <td>0</td>\n",
       "    </tr>\n",
       "    <tr>\n",
       "      <th>5</th>\n",
       "      <td>2021-09-25</td>\n",
       "      <td>2.2985</td>\n",
       "      <td>2.2780</td>\n",
       "      <td>2.4553</td>\n",
       "      <td>2.2395</td>\n",
       "      <td>649940000.0</td>\n",
       "      <td>0.0090</td>\n",
       "      <td>2021</td>\n",
       "      <td>9.0</td>\n",
       "      <td>25.0</td>\n",
       "      <td>0</td>\n",
       "    </tr>\n",
       "    <tr>\n",
       "      <th>6</th>\n",
       "      <td>2021-09-24</td>\n",
       "      <td>2.2780</td>\n",
       "      <td>2.3277</td>\n",
       "      <td>2.3436</td>\n",
       "      <td>2.0700</td>\n",
       "      <td>656060000.0</td>\n",
       "      <td>-0.0213</td>\n",
       "      <td>2021</td>\n",
       "      <td>9.0</td>\n",
       "      <td>24.0</td>\n",
       "      <td>1</td>\n",
       "    </tr>\n",
       "    <tr>\n",
       "      <th>7</th>\n",
       "      <td>2021-09-23</td>\n",
       "      <td>2.3277</td>\n",
       "      <td>2.2577</td>\n",
       "      <td>2.3442</td>\n",
       "      <td>2.1808</td>\n",
       "      <td>355130000.0</td>\n",
       "      <td>0.0303</td>\n",
       "      <td>2021</td>\n",
       "      <td>9.0</td>\n",
       "      <td>23.0</td>\n",
       "      <td>0</td>\n",
       "    </tr>\n",
       "    <tr>\n",
       "      <th>8</th>\n",
       "      <td>2021-09-22</td>\n",
       "      <td>2.2591</td>\n",
       "      <td>1.9842</td>\n",
       "      <td>2.2659</td>\n",
       "      <td>1.9691</td>\n",
       "      <td>564970000.0</td>\n",
       "      <td>0.1392</td>\n",
       "      <td>2021</td>\n",
       "      <td>9.0</td>\n",
       "      <td>22.0</td>\n",
       "      <td>1</td>\n",
       "    </tr>\n",
       "    <tr>\n",
       "      <th>9</th>\n",
       "      <td>2021-09-21</td>\n",
       "      <td>1.9830</td>\n",
       "      <td>2.0684</td>\n",
       "      <td>2.2239</td>\n",
       "      <td>1.9132</td>\n",
       "      <td>795400000.0</td>\n",
       "      <td>-0.0413</td>\n",
       "      <td>2021</td>\n",
       "      <td>9.0</td>\n",
       "      <td>21.0</td>\n",
       "      <td>1</td>\n",
       "    </tr>\n",
       "  </tbody>\n",
       "</table>\n",
       "</div>"
      ],
      "text/plain": [
       "        date   price    open    high     low          vol  change  year  \\\n",
       "0 2021-09-30  2.1164  2.0655  2.1349  2.0515  250070000.0  0.0245  2021   \n",
       "1 2021-09-29  2.0658  2.0370  2.1424  2.0220  272690000.0  0.0143  2021   \n",
       "2 2021-09-28  2.0367  2.1312  2.1716  2.0300  289310000.0 -0.0441  2021   \n",
       "3 2021-09-27  2.1307  2.2090  2.2726  2.1293  288510000.0 -0.0352  2021   \n",
       "4 2021-09-26  2.2084  2.2985  2.2999  2.1490  452940000.0 -0.0392  2021   \n",
       "5 2021-09-25  2.2985  2.2780  2.4553  2.2395  649940000.0  0.0090  2021   \n",
       "6 2021-09-24  2.2780  2.3277  2.3436  2.0700  656060000.0 -0.0213  2021   \n",
       "7 2021-09-23  2.3277  2.2577  2.3442  2.1808  355130000.0  0.0303  2021   \n",
       "8 2021-09-22  2.2591  1.9842  2.2659  1.9691  564970000.0  0.1392  2021   \n",
       "9 2021-09-21  1.9830  2.0684  2.2239  1.9132  795400000.0 -0.0413  2021   \n",
       "\n",
       "   month   day  future_increase  \n",
       "0    9.0  30.0                0  \n",
       "1    9.0  29.0                1  \n",
       "2    9.0  28.0                1  \n",
       "3    9.0  27.0                0  \n",
       "4    9.0  26.0                0  \n",
       "5    9.0  25.0                0  \n",
       "6    9.0  24.0                1  \n",
       "7    9.0  23.0                0  \n",
       "8    9.0  22.0                1  \n",
       "9    9.0  21.0                1  "
      ]
     },
     "execution_count": 25,
     "metadata": {},
     "output_type": "execute_result"
    }
   ],
   "source": [
    "cardano_hist.head(10)"
   ]
  },
  {
   "cell_type": "markdown",
   "id": "105da4f0",
   "metadata": {},
   "source": [
    "All features are ok, we are ready to explore the dataset"
   ]
  },
  {
   "cell_type": "markdown",
   "id": "0d874034",
   "metadata": {},
   "source": [
    "## Data Exploration"
   ]
  },
  {
   "cell_type": "markdown",
   "id": "7a97cd23",
   "metadata": {},
   "source": [
    "### Historical Price"
   ]
  },
  {
   "cell_type": "markdown",
   "id": "6d3533cb",
   "metadata": {},
   "source": [
    "First let's take a look at the cardano historical prices."
   ]
  },
  {
   "cell_type": "code",
   "execution_count": 26,
   "id": "c63fa7ae",
   "metadata": {},
   "outputs": [
    {
     "data": {
      "image/png": "[encoded data removed]",
      "text/plain": [
       "<Figure size 1080x720 with 1 Axes>"
      ]
     },
     "metadata": {
      "needs_background": "light"
     },
     "output_type": "display_data"
    }
   ],
   "source": [
    "plt.figure(figsize=(15,10))\n",
    "sns.lineplot(data=cardano_hist, x=\"date\", y=\"price\").set_title(\"ADA Historical Price\");"
   ]
  },
  {
   "cell_type": "markdown",
   "id": "c8f0808a",
   "metadata": {},
   "source": [
    "It is important to see not only the increase in it price but how volatile cardano. Also it has had a lot up rallies and crashes during this period.\n",
    "By visualization I can't no see any strange value, the graph seem prety smooth and continuos. But lets take a closer look to the Dataset"
   ]
  },
  {
   "cell_type": "markdown",
   "id": "ed0beb3c",
   "metadata": {},
   "source": [
    "### Distribution of Features"
   ]
  },
  {
   "cell_type": "markdown",
   "id": "8bbc3c0e",
   "metadata": {},
   "source": [
    "### Distribution of the target variable"
   ]
  },
  {
   "cell_type": "code",
   "execution_count": 27,
   "id": "09296f7e",
   "metadata": {},
   "outputs": [
    {
     "data": {
      "image/png": "[encoded data removed]",
      "text/plain": [
       "<Figure size 576x432 with 1 Axes>"
      ]
     },
     "metadata": {
      "needs_background": "light"
     },
     "output_type": "display_data"
    }
   ],
   "source": [
    "\n",
    "# groupby class to get counts\n",
    "df_class = cardano_hist.groupby('future_increase')[\"date\"].count().reset_index().rename(columns = {'date':'count'})\n",
    "# plot the number of users that churned\n",
    "plt.figure(figsize = [8,6])\n",
    "ax = sns.barplot(data = df_class, x = 'future_increase', y='count')\n",
    "plt.title(\"Numbers of classes\");"
   ]
  },
  {
   "cell_type": "markdown",
   "id": "6eed0b90",
   "metadata": {},
   "source": [
    "We have a pretty balanced data set! that is really good for classification porpouses!\n",
    "\n",
    "Let's take a look to the other variables:"
   ]
  },
  {
   "cell_type": "code",
   "execution_count": 28,
   "id": "00e3adff",
   "metadata": {},
   "outputs": [
    {
     "data": {
      "image/png": "[encoded data removed]",
      "text/plain": [
       "<Figure size 576x432 with 1 Axes>"
      ]
     },
     "metadata": {
      "needs_background": "light"
     },
     "output_type": "display_data"
    }
   ],
   "source": [
    "#plot boxplot\n",
    "plt.figure(figsize = [8,6])\n",
    "ax = sns.boxplot(data = cardano_hist, x = 'future_increase', y='vol')\n",
    "plt.title(\"Distribution Volume\");"
   ]
  },
  {
   "cell_type": "markdown",
   "id": "8d581343",
   "metadata": {},
   "source": [
    "It seems that volumen is a little bit higher when the prices increase, however the distribution is prety similar."
   ]
  },
  {
   "cell_type": "code",
   "execution_count": 29,
   "id": "fc0d178a",
   "metadata": {},
   "outputs": [
    {
     "data": {
      "image/png": "[encoded data removed]",
      "text/plain": [
       "<Figure size 576x432 with 1 Axes>"
      ]
     },
     "metadata": {
      "needs_background": "light"
     },
     "output_type": "display_data"
    }
   ],
   "source": [
    "#plot boxplot\n",
    "plt.figure(figsize = [8,6])\n",
    "ax = sns.boxplot(data = cardano_hist, x = 'future_increase', y='change')\n",
    "plt.title(\"Distribution Volume\");"
   ]
  },
  {
   "cell_type": "markdown",
   "id": "1fb92a8c",
   "metadata": {},
   "source": [
    "Those distributions are also very similar but we can see that the distribution of \"Future Increases\" has lower values. This is really interesting, it seems that daily crashes are followed by price increases."
   ]
  },
  {
   "cell_type": "code",
   "execution_count": 30,
   "id": "f1a8562f",
   "metadata": {},
   "outputs": [
    {
     "data": {
      "image/png": "[encoded data removed]",
      "text/plain": [
       "<Figure size 432x288 with 1 Axes>"
      ]
     },
     "metadata": {
      "needs_background": "light"
     },
     "output_type": "display_data"
    }
   ],
   "source": [
    "sns.boxplot(data=cardano_hist[['price', 'open', 'high', 'low']]).set_title(\"Distribution Price\");"
   ]
  },
  {
   "cell_type": "markdown",
   "id": "6e146012",
   "metadata": {},
   "source": [
    "Price has a wide distribution because price has exponentially increased since 2017. This is important to consider cause the values in first years is different compared to recent years. Thus, we must be carefull if we use those variables. "
   ]
  },
  {
   "cell_type": "code",
   "execution_count": 31,
   "id": "5654e5ed",
   "metadata": {},
   "outputs": [
    {
     "data": {
      "image/png": "[encoded data removed]",
      "text/plain": [
       "<Figure size 720x576 with 1 Axes>"
      ]
     },
     "metadata": {
      "needs_background": "light"
     },
     "output_type": "display_data"
    }
   ],
   "source": [
    "plt.figure(figsize=(10,8))\n",
    "plt.hist(cardano_hist[\"change\"].astype(float), bins = 100)\n",
    "plt.title(\"Distribution of Daily Percentage Change in Price\")\n",
    "plt.xlabel(\"Percentage Change in Price\")\n",
    "plt.ylabel(\"Count\");"
   ]
  },
  {
   "cell_type": "markdown",
   "id": "5b1a171c",
   "metadata": {},
   "source": [
    "The distribution of changes is prety symertical around 0"
   ]
  },
  {
   "cell_type": "markdown",
   "id": "9d66994d",
   "metadata": {},
   "source": [
    "### Monthy return"
   ]
  },
  {
   "cell_type": "code",
   "execution_count": 32,
   "id": "a5fc9ba0",
   "metadata": {},
   "outputs": [],
   "source": [
    "cardano_hist[\"return\"] = cardano_hist[\"change\"] + 1\n",
    "cardano_hist_month = cardano_hist.groupby([\"year\",\"month\"])[\"return\"].prod().reset_index()\n",
    "cardano_hist_month[\"change\"] = cardano_hist_month[\"return\"] - 1"
   ]
  },
  {
   "cell_type": "code",
   "execution_count": 33,
   "id": "541d8423",
   "metadata": {},
   "outputs": [
    {
     "data": {
      "image/png": "[encoded data removed]",
      "text/plain": [
       "<Figure size 1152x432 with 1 Axes>"
      ]
     },
     "metadata": {
      "needs_background": "light"
     },
     "output_type": "display_data"
    }
   ],
   "source": [
    "plt.figure(figsize=(16, 6))\n",
    "ax = sns.barplot(x=\"month\", y=\"change\", data=cardano_hist_month.groupby(\"month\")[\"change\"].mean().reset_index()\n",
    "                 ,palette=\"GnBu_r\").set_title(\"Avg. Monthly Price Increase %\")"
   ]
  },
  {
   "cell_type": "markdown",
   "id": "0b480b72",
   "metadata": {},
   "source": [
    "### Correlation with previous return"
   ]
  },
  {
   "cell_type": "code",
   "execution_count": 34,
   "id": "6d8ce6eb",
   "metadata": {},
   "outputs": [
    {
     "data": {
      "text/plain": [
       "-0.07750721408532102"
      ]
     },
     "execution_count": 34,
     "metadata": {},
     "output_type": "execute_result"
    }
   ],
   "source": [
    "cardano_hist['change_lag'] = cardano_hist.change.shift(-1).fillna(value=0)\n",
    "cardano_hist[\"change\"].corr(cardano_hist[\"change_lag\"], method='spearman', min_periods=None)"
   ]
  },
  {
   "cell_type": "markdown",
   "id": "1581daa0",
   "metadata": {},
   "source": [
    "## Feature Engineering"
   ]
  },
  {
   "cell_type": "code",
   "execution_count": null,
   "id": "e31b8287",
   "metadata": {},
   "outputs": [],
   "source": []
  },
  {
   "cell_type": "code",
   "execution_count": null,
   "id": "bcbf8b8f",
   "metadata": {},
   "outputs": [],
   "source": []
  },
  {
   "cell_type": "code",
   "execution_count": null,
   "id": "39b12d85",
   "metadata": {},
   "outputs": [],
   "source": []
  },
  {
   "cell_type": "code",
   "execution_count": null,
   "id": "98ec2b4a",
   "metadata": {},
   "outputs": [],
   "source": []
  },
  {
   "cell_type": "code",
   "execution_count": null,
   "id": "d7bdeb52",
   "metadata": {},
   "outputs": [],
   "source": []
  },
  {
   "cell_type": "code",
   "execution_count": null,
   "id": "25c21161",
   "metadata": {},
   "outputs": [],
   "source": []
  },
  {
   "cell_type": "code",
   "execution_count": null,
   "id": "801907bd",
   "metadata": {},
   "outputs": [],
   "source": []
  },
  {
   "cell_type": "code",
   "execution_count": null,
   "id": "64118e56",
   "metadata": {},
   "outputs": [],
   "source": []
  },
  {
   "cell_type": "markdown",
   "id": "934a4f29",
   "metadata": {},
   "source": [
    "### Test Train Split"
   ]
  },
  {
   "cell_type": "code",
   "execution_count": 35,
   "id": "6627387b",
   "metadata": {},
   "outputs": [],
   "source": [
    "train = cardano_hist[cardano_hist[cardano_hist[\"date\"]<\"2021-05-01\"].index[0]:]\n",
    "test = cardano_hist[:cardano_hist[cardano_hist[\"date\"]<\"2021-05-01\"].index[0]]"
   ]
  },
  {
   "cell_type": "code",
   "execution_count": 36,
   "id": "bb089236",
   "metadata": {},
   "outputs": [
    {
     "data": {
      "text/html": [
       "<div>\n",
       "<style scoped>\n",
       "    .dataframe tbody tr th:only-of-type {\n",
       "        vertical-align: middle;\n",
       "    }\n",
       "\n",
       "    .dataframe tbody tr th {\n",
       "        vertical-align: top;\n",
       "    }\n",
       "\n",
       "    .dataframe thead th {\n",
       "        text-align: right;\n",
       "    }\n",
       "</style>\n",
       "<table border=\"1\" class=\"dataframe\">\n",
       "  <thead>\n",
       "    <tr style=\"text-align: right;\">\n",
       "      <th></th>\n",
       "      <th>date</th>\n",
       "      <th>price</th>\n",
       "      <th>open</th>\n",
       "      <th>high</th>\n",
       "      <th>low</th>\n",
       "      <th>vol</th>\n",
       "      <th>change</th>\n",
       "      <th>year</th>\n",
       "      <th>month</th>\n",
       "      <th>day</th>\n",
       "      <th>future_increase</th>\n",
       "      <th>return</th>\n",
       "      <th>change_lag</th>\n",
       "    </tr>\n",
       "  </thead>\n",
       "  <tbody>\n",
       "    <tr>\n",
       "      <th>153</th>\n",
       "      <td>2021-04-30</td>\n",
       "      <td>1.3521</td>\n",
       "      <td>1.3069</td>\n",
       "      <td>1.3699</td>\n",
       "      <td>1.2876</td>\n",
       "      <td>459620000.0</td>\n",
       "      <td>0.0345</td>\n",
       "      <td>2021</td>\n",
       "      <td>4.0</td>\n",
       "      <td>30.0</td>\n",
       "      <td>0</td>\n",
       "      <td>1.0345</td>\n",
       "      <td>-0.0224</td>\n",
       "    </tr>\n",
       "    <tr>\n",
       "      <th>154</th>\n",
       "      <td>2021-04-29</td>\n",
       "      <td>1.3070</td>\n",
       "      <td>1.3369</td>\n",
       "      <td>1.4103</td>\n",
       "      <td>1.2681</td>\n",
       "      <td>817530000.0</td>\n",
       "      <td>-0.0224</td>\n",
       "      <td>2021</td>\n",
       "      <td>4.0</td>\n",
       "      <td>29.0</td>\n",
       "      <td>1</td>\n",
       "      <td>0.9776</td>\n",
       "      <td>0.0221</td>\n",
       "    </tr>\n",
       "    <tr>\n",
       "      <th>155</th>\n",
       "      <td>2021-04-28</td>\n",
       "      <td>1.3369</td>\n",
       "      <td>1.3075</td>\n",
       "      <td>1.3485</td>\n",
       "      <td>1.2350</td>\n",
       "      <td>575490000.0</td>\n",
       "      <td>0.0221</td>\n",
       "      <td>2021</td>\n",
       "      <td>4.0</td>\n",
       "      <td>28.0</td>\n",
       "      <td>0</td>\n",
       "      <td>1.0221</td>\n",
       "      <td>0.0595</td>\n",
       "    </tr>\n",
       "    <tr>\n",
       "      <th>156</th>\n",
       "      <td>2021-04-27</td>\n",
       "      <td>1.3079</td>\n",
       "      <td>1.2348</td>\n",
       "      <td>1.3326</td>\n",
       "      <td>1.2263</td>\n",
       "      <td>579440000.0</td>\n",
       "      <td>0.0595</td>\n",
       "      <td>2021</td>\n",
       "      <td>4.0</td>\n",
       "      <td>27.0</td>\n",
       "      <td>1</td>\n",
       "      <td>1.0595</td>\n",
       "      <td>0.1327</td>\n",
       "    </tr>\n",
       "    <tr>\n",
       "      <th>157</th>\n",
       "      <td>2021-04-26</td>\n",
       "      <td>1.2345</td>\n",
       "      <td>1.0901</td>\n",
       "      <td>1.2499</td>\n",
       "      <td>1.0820</td>\n",
       "      <td>713340000.0</td>\n",
       "      <td>0.1327</td>\n",
       "      <td>2021</td>\n",
       "      <td>4.0</td>\n",
       "      <td>26.0</td>\n",
       "      <td>1</td>\n",
       "      <td>1.1327</td>\n",
       "      <td>-0.0111</td>\n",
       "    </tr>\n",
       "    <tr>\n",
       "      <th>...</th>\n",
       "      <td>...</td>\n",
       "      <td>...</td>\n",
       "      <td>...</td>\n",
       "      <td>...</td>\n",
       "      <td>...</td>\n",
       "      <td>...</td>\n",
       "      <td>...</td>\n",
       "      <td>...</td>\n",
       "      <td>...</td>\n",
       "      <td>...</td>\n",
       "      <td>...</td>\n",
       "      <td>...</td>\n",
       "      <td>...</td>\n",
       "    </tr>\n",
       "    <tr>\n",
       "      <th>1365</th>\n",
       "      <td>2018-01-04</td>\n",
       "      <td>1.1043</td>\n",
       "      <td>1.1000</td>\n",
       "      <td>1.3500</td>\n",
       "      <td>1.0500</td>\n",
       "      <td>19600000.0</td>\n",
       "      <td>0.0225</td>\n",
       "      <td>2018</td>\n",
       "      <td>1.0</td>\n",
       "      <td>4.0</td>\n",
       "      <td>0</td>\n",
       "      <td>1.0225</td>\n",
       "      <td>0.4173</td>\n",
       "    </tr>\n",
       "    <tr>\n",
       "      <th>1366</th>\n",
       "      <td>2018-01-03</td>\n",
       "      <td>1.0800</td>\n",
       "      <td>0.9782</td>\n",
       "      <td>1.0900</td>\n",
       "      <td>0.8882</td>\n",
       "      <td>20230000.0</td>\n",
       "      <td>0.4173</td>\n",
       "      <td>2018</td>\n",
       "      <td>1.0</td>\n",
       "      <td>3.0</td>\n",
       "      <td>1</td>\n",
       "      <td>1.4173</td>\n",
       "      <td>0.0852</td>\n",
       "    </tr>\n",
       "    <tr>\n",
       "      <th>1367</th>\n",
       "      <td>2018-01-02</td>\n",
       "      <td>0.7620</td>\n",
       "      <td>0.7022</td>\n",
       "      <td>0.8000</td>\n",
       "      <td>0.6750</td>\n",
       "      <td>10970000.0</td>\n",
       "      <td>0.0852</td>\n",
       "      <td>2018</td>\n",
       "      <td>1.0</td>\n",
       "      <td>2.0</td>\n",
       "      <td>1</td>\n",
       "      <td>1.0852</td>\n",
       "      <td>-0.0110</td>\n",
       "    </tr>\n",
       "    <tr>\n",
       "      <th>1368</th>\n",
       "      <td>2018-01-01</td>\n",
       "      <td>0.7022</td>\n",
       "      <td>0.7100</td>\n",
       "      <td>0.7150</td>\n",
       "      <td>0.6320</td>\n",
       "      <td>17950000.0</td>\n",
       "      <td>-0.0110</td>\n",
       "      <td>2018</td>\n",
       "      <td>1.0</td>\n",
       "      <td>1.0</td>\n",
       "      <td>1</td>\n",
       "      <td>0.9890</td>\n",
       "      <td>0.2034</td>\n",
       "    </tr>\n",
       "    <tr>\n",
       "      <th>1369</th>\n",
       "      <td>2017-12-31</td>\n",
       "      <td>0.7100</td>\n",
       "      <td>0.5900</td>\n",
       "      <td>0.7400</td>\n",
       "      <td>0.5900</td>\n",
       "      <td>17220000.0</td>\n",
       "      <td>0.2034</td>\n",
       "      <td>2017</td>\n",
       "      <td>12.0</td>\n",
       "      <td>31.0</td>\n",
       "      <td>0</td>\n",
       "      <td>1.2034</td>\n",
       "      <td>0.0000</td>\n",
       "    </tr>\n",
       "  </tbody>\n",
       "</table>\n",
       "<p>1217 rows × 13 columns</p>\n",
       "</div>"
      ],
      "text/plain": [
       "           date   price    open    high     low          vol  change  year  \\\n",
       "153  2021-04-30  1.3521  1.3069  1.3699  1.2876  459620000.0  0.0345  2021   \n",
       "154  2021-04-29  1.3070  1.3369  1.4103  1.2681  817530000.0 -0.0224  2021   \n",
       "155  2021-04-28  1.3369  1.3075  1.3485  1.2350  575490000.0  0.0221  2021   \n",
       "156  2021-04-27  1.3079  1.2348  1.3326  1.2263  579440000.0  0.0595  2021   \n",
       "157  2021-04-26  1.2345  1.0901  1.2499  1.0820  713340000.0  0.1327  2021   \n",
       "...         ...     ...     ...     ...     ...          ...     ...   ...   \n",
       "1365 2018-01-04  1.1043  1.1000  1.3500  1.0500   19600000.0  0.0225  2018   \n",
       "1366 2018-01-03  1.0800  0.9782  1.0900  0.8882   20230000.0  0.4173  2018   \n",
       "1367 2018-01-02  0.7620  0.7022  0.8000  0.6750   10970000.0  0.0852  2018   \n",
       "1368 2018-01-01  0.7022  0.7100  0.7150  0.6320   17950000.0 -0.0110  2018   \n",
       "1369 2017-12-31  0.7100  0.5900  0.7400  0.5900   17220000.0  0.2034  2017   \n",
       "\n",
       "      month   day  future_increase  return  change_lag  \n",
       "153     4.0  30.0                0  1.0345     -0.0224  \n",
       "154     4.0  29.0                1  0.9776      0.0221  \n",
       "155     4.0  28.0                0  1.0221      0.0595  \n",
       "156     4.0  27.0                1  1.0595      0.1327  \n",
       "157     4.0  26.0                1  1.1327     -0.0111  \n",
       "...     ...   ...              ...     ...         ...  \n",
       "1365    1.0   4.0                0  1.0225      0.4173  \n",
       "1366    1.0   3.0                1  1.4173      0.0852  \n",
       "1367    1.0   2.0                1  1.0852     -0.0110  \n",
       "1368    1.0   1.0                1  0.9890      0.2034  \n",
       "1369   12.0  31.0                0  1.2034      0.0000  \n",
       "\n",
       "[1217 rows x 13 columns]"
      ]
     },
     "execution_count": 36,
     "metadata": {},
     "output_type": "execute_result"
    }
   ],
   "source": [
    "train"
   ]
  },
  {
   "cell_type": "code",
   "execution_count": 37,
   "id": "fb0e40ac",
   "metadata": {},
   "outputs": [
    {
     "data": {
      "image/png": "[encoded data removed]",
      "text/plain": [
       "<Figure size 432x288 with 1 Axes>"
      ]
     },
     "metadata": {
      "needs_background": "light"
     },
     "output_type": "display_data"
    }
   ],
   "source": [
    "train['future_increase'].value_counts().plot(kind='bar');"
   ]
  },
  {
   "cell_type": "code",
   "execution_count": 38,
   "id": "21f02bd1",
   "metadata": {},
   "outputs": [
    {
     "data": {
      "text/html": [
       "<div>\n",
       "<style scoped>\n",
       "    .dataframe tbody tr th:only-of-type {\n",
       "        vertical-align: middle;\n",
       "    }\n",
       "\n",
       "    .dataframe tbody tr th {\n",
       "        vertical-align: top;\n",
       "    }\n",
       "\n",
       "    .dataframe thead th {\n",
       "        text-align: right;\n",
       "    }\n",
       "</style>\n",
       "<table border=\"1\" class=\"dataframe\">\n",
       "  <thead>\n",
       "    <tr style=\"text-align: right;\">\n",
       "      <th></th>\n",
       "      <th>date</th>\n",
       "      <th>price</th>\n",
       "      <th>open</th>\n",
       "      <th>high</th>\n",
       "      <th>low</th>\n",
       "      <th>vol</th>\n",
       "      <th>change</th>\n",
       "      <th>year</th>\n",
       "      <th>month</th>\n",
       "      <th>day</th>\n",
       "      <th>future_increase</th>\n",
       "      <th>return</th>\n",
       "      <th>change_lag</th>\n",
       "    </tr>\n",
       "  </thead>\n",
       "  <tbody>\n",
       "    <tr>\n",
       "      <th>0</th>\n",
       "      <td>2021-09-30</td>\n",
       "      <td>2.1164</td>\n",
       "      <td>2.0655</td>\n",
       "      <td>2.1349</td>\n",
       "      <td>2.0515</td>\n",
       "      <td>250070000.0</td>\n",
       "      <td>0.0245</td>\n",
       "      <td>2021</td>\n",
       "      <td>9.0</td>\n",
       "      <td>30.0</td>\n",
       "      <td>0</td>\n",
       "      <td>1.0245</td>\n",
       "      <td>0.0143</td>\n",
       "    </tr>\n",
       "    <tr>\n",
       "      <th>1</th>\n",
       "      <td>2021-09-29</td>\n",
       "      <td>2.0658</td>\n",
       "      <td>2.0370</td>\n",
       "      <td>2.1424</td>\n",
       "      <td>2.0220</td>\n",
       "      <td>272690000.0</td>\n",
       "      <td>0.0143</td>\n",
       "      <td>2021</td>\n",
       "      <td>9.0</td>\n",
       "      <td>29.0</td>\n",
       "      <td>1</td>\n",
       "      <td>1.0143</td>\n",
       "      <td>-0.0441</td>\n",
       "    </tr>\n",
       "    <tr>\n",
       "      <th>2</th>\n",
       "      <td>2021-09-28</td>\n",
       "      <td>2.0367</td>\n",
       "      <td>2.1312</td>\n",
       "      <td>2.1716</td>\n",
       "      <td>2.0300</td>\n",
       "      <td>289310000.0</td>\n",
       "      <td>-0.0441</td>\n",
       "      <td>2021</td>\n",
       "      <td>9.0</td>\n",
       "      <td>28.0</td>\n",
       "      <td>1</td>\n",
       "      <td>0.9559</td>\n",
       "      <td>-0.0352</td>\n",
       "    </tr>\n",
       "    <tr>\n",
       "      <th>3</th>\n",
       "      <td>2021-09-27</td>\n",
       "      <td>2.1307</td>\n",
       "      <td>2.2090</td>\n",
       "      <td>2.2726</td>\n",
       "      <td>2.1293</td>\n",
       "      <td>288510000.0</td>\n",
       "      <td>-0.0352</td>\n",
       "      <td>2021</td>\n",
       "      <td>9.0</td>\n",
       "      <td>27.0</td>\n",
       "      <td>0</td>\n",
       "      <td>0.9648</td>\n",
       "      <td>-0.0392</td>\n",
       "    </tr>\n",
       "    <tr>\n",
       "      <th>4</th>\n",
       "      <td>2021-09-26</td>\n",
       "      <td>2.2084</td>\n",
       "      <td>2.2985</td>\n",
       "      <td>2.2999</td>\n",
       "      <td>2.1490</td>\n",
       "      <td>452940000.0</td>\n",
       "      <td>-0.0392</td>\n",
       "      <td>2021</td>\n",
       "      <td>9.0</td>\n",
       "      <td>26.0</td>\n",
       "      <td>0</td>\n",
       "      <td>0.9608</td>\n",
       "      <td>0.0090</td>\n",
       "    </tr>\n",
       "    <tr>\n",
       "      <th>...</th>\n",
       "      <td>...</td>\n",
       "      <td>...</td>\n",
       "      <td>...</td>\n",
       "      <td>...</td>\n",
       "      <td>...</td>\n",
       "      <td>...</td>\n",
       "      <td>...</td>\n",
       "      <td>...</td>\n",
       "      <td>...</td>\n",
       "      <td>...</td>\n",
       "      <td>...</td>\n",
       "      <td>...</td>\n",
       "      <td>...</td>\n",
       "    </tr>\n",
       "    <tr>\n",
       "      <th>148</th>\n",
       "      <td>2021-05-05</td>\n",
       "      <td>1.4780</td>\n",
       "      <td>1.2900</td>\n",
       "      <td>1.4931</td>\n",
       "      <td>1.2900</td>\n",
       "      <td>783150000.0</td>\n",
       "      <td>0.1466</td>\n",
       "      <td>2021</td>\n",
       "      <td>5.0</td>\n",
       "      <td>5.0</td>\n",
       "      <td>1</td>\n",
       "      <td>1.1466</td>\n",
       "      <td>-0.0537</td>\n",
       "    </tr>\n",
       "    <tr>\n",
       "      <th>149</th>\n",
       "      <td>2021-05-04</td>\n",
       "      <td>1.2890</td>\n",
       "      <td>1.2793</td>\n",
       "      <td>1.3074</td>\n",
       "      <td>1.2757</td>\n",
       "      <td>585180000.0</td>\n",
       "      <td>-0.0537</td>\n",
       "      <td>2021</td>\n",
       "      <td>5.0</td>\n",
       "      <td>4.0</td>\n",
       "      <td>1</td>\n",
       "      <td>0.9463</td>\n",
       "      <td>0.0268</td>\n",
       "    </tr>\n",
       "    <tr>\n",
       "      <th>150</th>\n",
       "      <td>2021-05-03</td>\n",
       "      <td>1.3622</td>\n",
       "      <td>1.3267</td>\n",
       "      <td>1.3799</td>\n",
       "      <td>1.3215</td>\n",
       "      <td>390150000.0</td>\n",
       "      <td>0.0268</td>\n",
       "      <td>2021</td>\n",
       "      <td>5.0</td>\n",
       "      <td>3.0</td>\n",
       "      <td>0</td>\n",
       "      <td>1.0268</td>\n",
       "      <td>-0.0187</td>\n",
       "    </tr>\n",
       "    <tr>\n",
       "      <th>151</th>\n",
       "      <td>2021-05-02</td>\n",
       "      <td>1.3266</td>\n",
       "      <td>1.3514</td>\n",
       "      <td>1.3546</td>\n",
       "      <td>1.2952</td>\n",
       "      <td>325320000.0</td>\n",
       "      <td>-0.0187</td>\n",
       "      <td>2021</td>\n",
       "      <td>5.0</td>\n",
       "      <td>2.0</td>\n",
       "      <td>1</td>\n",
       "      <td>0.9813</td>\n",
       "      <td>-0.0002</td>\n",
       "    </tr>\n",
       "    <tr>\n",
       "      <th>152</th>\n",
       "      <td>2021-05-01</td>\n",
       "      <td>1.3518</td>\n",
       "      <td>1.3521</td>\n",
       "      <td>1.3676</td>\n",
       "      <td>1.3168</td>\n",
       "      <td>317780000.0</td>\n",
       "      <td>-0.0002</td>\n",
       "      <td>2021</td>\n",
       "      <td>5.0</td>\n",
       "      <td>1.0</td>\n",
       "      <td>0</td>\n",
       "      <td>0.9998</td>\n",
       "      <td>0.0345</td>\n",
       "    </tr>\n",
       "  </tbody>\n",
       "</table>\n",
       "<p>153 rows × 13 columns</p>\n",
       "</div>"
      ],
      "text/plain": [
       "          date   price    open    high     low          vol  change  year  \\\n",
       "0   2021-09-30  2.1164  2.0655  2.1349  2.0515  250070000.0  0.0245  2021   \n",
       "1   2021-09-29  2.0658  2.0370  2.1424  2.0220  272690000.0  0.0143  2021   \n",
       "2   2021-09-28  2.0367  2.1312  2.1716  2.0300  289310000.0 -0.0441  2021   \n",
       "3   2021-09-27  2.1307  2.2090  2.2726  2.1293  288510000.0 -0.0352  2021   \n",
       "4   2021-09-26  2.2084  2.2985  2.2999  2.1490  452940000.0 -0.0392  2021   \n",
       "..         ...     ...     ...     ...     ...          ...     ...   ...   \n",
       "148 2021-05-05  1.4780  1.2900  1.4931  1.2900  783150000.0  0.1466  2021   \n",
       "149 2021-05-04  1.2890  1.2793  1.3074  1.2757  585180000.0 -0.0537  2021   \n",
       "150 2021-05-03  1.3622  1.3267  1.3799  1.3215  390150000.0  0.0268  2021   \n",
       "151 2021-05-02  1.3266  1.3514  1.3546  1.2952  325320000.0 -0.0187  2021   \n",
       "152 2021-05-01  1.3518  1.3521  1.3676  1.3168  317780000.0 -0.0002  2021   \n",
       "\n",
       "     month   day  future_increase  return  change_lag  \n",
       "0      9.0  30.0                0  1.0245      0.0143  \n",
       "1      9.0  29.0                1  1.0143     -0.0441  \n",
       "2      9.0  28.0                1  0.9559     -0.0352  \n",
       "3      9.0  27.0                0  0.9648     -0.0392  \n",
       "4      9.0  26.0                0  0.9608      0.0090  \n",
       "..     ...   ...              ...     ...         ...  \n",
       "148    5.0   5.0                1  1.1466     -0.0537  \n",
       "149    5.0   4.0                1  0.9463      0.0268  \n",
       "150    5.0   3.0                0  1.0268     -0.0187  \n",
       "151    5.0   2.0                1  0.9813     -0.0002  \n",
       "152    5.0   1.0                0  0.9998      0.0345  \n",
       "\n",
       "[153 rows x 13 columns]"
      ]
     },
     "execution_count": 38,
     "metadata": {},
     "output_type": "execute_result"
    }
   ],
   "source": [
    "test"
   ]
  },
  {
   "cell_type": "code",
   "execution_count": 39,
   "id": "f7261f55",
   "metadata": {},
   "outputs": [
    {
     "data": {
      "image/png": "[encoded data removed]",
      "text/plain": [
       "<Figure size 432x288 with 1 Axes>"
      ]
     },
     "metadata": {
      "needs_background": "light"
     },
     "output_type": "display_data"
    }
   ],
   "source": [
    "test['future_increase'].value_counts().plot(kind='bar');"
   ]
  },
  {
   "cell_type": "code",
   "execution_count": 40,
   "id": "65e2e459",
   "metadata": {},
   "outputs": [
    {
     "data": {
      "image/png": "[encoded data removed]",
      "text/plain": [
       "<Figure size 720x504 with 1 Axes>"
      ]
     },
     "metadata": {
      "needs_background": "light"
     },
     "output_type": "display_data"
    }
   ],
   "source": [
    "plt.figure(figsize=(10,7))\n",
    "sns.lineplot(data=train, x=\"date\", y=\"price\").set_title(\"ADA Train Series\");"
   ]
  },
  {
   "cell_type": "code",
   "execution_count": 41,
   "id": "c8cb4aaa",
   "metadata": {},
   "outputs": [
    {
     "data": {
      "image/png": "[encoded data removed]",
      "text/plain": [
       "<Figure size 720x504 with 1 Axes>"
      ]
     },
     "metadata": {
      "needs_background": "light"
     },
     "output_type": "display_data"
    }
   ],
   "source": [
    "plt.figure(figsize=(10,7))\n",
    "sns.lineplot(data=test, x=\"date\", y=\"price\").set_title(\"ADA Test Series\");"
   ]
  },
  {
   "cell_type": "code",
   "execution_count": 42,
   "id": "c12050b4",
   "metadata": {},
   "outputs": [
    {
     "data": {
      "image/png": "[encoded data removed]",
      "text/plain": [
       "<Figure size 720x504 with 1 Axes>"
      ]
     },
     "metadata": {
      "needs_background": "light"
     },
     "output_type": "display_data"
    }
   ],
   "source": [
    "plt.figure(figsize=(10,7))\n",
    "sns.lineplot(data=train, x=\"date\", y=\"price\", label=\"Train\")\n",
    "sns.lineplot(data=test, x=\"date\", y=\"price\", color='c', label=\"Test\").set_title(\"Test and Train Series\")\n",
    "plt.show();"
   ]
  },
  {
   "cell_type": "code",
   "execution_count": 43,
   "id": "777376d1",
   "metadata": {},
   "outputs": [],
   "source": [
    "X_train = train[['price','vol','change','month','day']]\n",
    "y_train = train['future_increase']\n",
    "\n",
    "X_test = test[['price','vol','change','month','day']]\n",
    "y_test = test['future_increase']"
   ]
  },
  {
   "cell_type": "markdown",
   "id": "5aa55dba",
   "metadata": {},
   "source": [
    "## Modeling"
   ]
  },
  {
   "cell_type": "markdown",
   "id": "d3caf57c",
   "metadata": {},
   "source": [
    "Now we have created our features dataFrame with only numeric variables, we split the full dataset into train and test sets. We then tested out different machine learning classification algorithms, including:"
   ]
  },
  {
   "cell_type": "code",
   "execution_count": null,
   "id": "0750e27d",
   "metadata": {},
   "outputs": [],
   "source": []
  },
  {
   "cell_type": "code",
   "execution_count": null,
   "id": "cae9b74b",
   "metadata": {},
   "outputs": [],
   "source": [
    "\n"
   ]
  },
  {
   "cell_type": "code",
   "execution_count": null,
   "id": "cd09911d",
   "metadata": {},
   "outputs": [],
   "source": []
  },
  {
   "cell_type": "markdown",
   "id": "5e55b7f6",
   "metadata": {},
   "source": [
    "### Logistic Regression"
   ]
  },
  {
   "cell_type": "code",
   "execution_count": 44,
   "id": "d4f94b91",
   "metadata": {},
   "outputs": [],
   "source": [
    "#class_weight = 'balanced'\n",
    "logreg = LogisticRegression()\n",
    "logreg.fit(X_train, y_train)\n",
    "y_pred_lr = logreg.predict(X_test)"
   ]
  },
  {
   "cell_type": "code",
   "execution_count": 45,
   "id": "c4ec4d06",
   "metadata": {},
   "outputs": [
    {
     "data": {
      "image/png": "[encoded data removed]",
      "text/plain": [
       "<Figure size 432x288 with 2 Axes>"
      ]
     },
     "metadata": {
      "needs_background": "light"
     },
     "output_type": "display_data"
    }
   ],
   "source": [
    "cmf = confusion_matrix(y_test, y_pred_lr)\n",
    "sns.heatmap(cmf, annot=True).set(xlabel='Predictions', ylabel='True Values');"
   ]
  },
  {
   "cell_type": "code",
   "execution_count": 46,
   "id": "e916cfc4",
   "metadata": {},
   "outputs": [
    {
     "name": "stdout",
     "output_type": "stream",
     "text": [
      "f1_score:  0.6866952789699572\n",
      "recall:  1.0\n",
      "precision:  0.5228758169934641\n",
      "accuracy:  0.5228758169934641\n"
     ]
    }
   ],
   "source": [
    "print(\"f1_score: \", f1_score(y_test, y_pred_lr))\n",
    "print(\"recall: \", recall_score(y_test, y_pred_lr))\n",
    "print(\"precision: \", precision_score(y_test, y_pred_lr))\n",
    "print(\"accuracy: \", accuracy_score(y_test, y_pred_lr))"
   ]
  },
  {
   "cell_type": "code",
   "execution_count": 47,
   "id": "d5942bf3",
   "metadata": {},
   "outputs": [
    {
     "name": "stdout",
     "output_type": "stream",
     "text": [
      "              precision    recall  f1-score   support\n",
      "\n",
      "           0       0.00      0.00      0.00        73\n",
      "           1       0.52      1.00      0.69        80\n",
      "\n",
      "    accuracy                           0.52       153\n",
      "   macro avg       0.26      0.50      0.34       153\n",
      "weighted avg       0.27      0.52      0.36       153\n",
      "\n"
     ]
    }
   ],
   "source": [
    "print(classification_report(y_test, y_pred_lr))"
   ]
  },
  {
   "cell_type": "markdown",
   "id": "986a1b0f",
   "metadata": {},
   "source": [
    "### Random Forest"
   ]
  },
  {
   "cell_type": "code",
   "execution_count": 48,
   "id": "76d7fded",
   "metadata": {},
   "outputs": [
    {
     "name": "stdout",
     "output_type": "stream",
     "text": [
      "building tree 1 of 175\n",
      "building tree 2 of 175\n",
      "building tree 3 of 175\n",
      "building tree 4 of 175\n",
      "building tree 5 of 175\n",
      "building tree 6 of 175\n",
      "building tree 7 of 175\n",
      "building tree 8 of 175\n",
      "building tree 9 of 175\n",
      "building tree 10 of 175\n",
      "building tree 11 of 175\n",
      "building tree 12 of 175\n",
      "building tree 13 of 175\n",
      "building tree 14 of 175\n",
      "building tree 15 of 175\n",
      "building tree 16 of 175\n",
      "building tree 17 of 175\n",
      "building tree 18 of 175\n",
      "building tree 19 of 175\n",
      "building tree 20 of 175\n",
      "building tree 21 of 175\n",
      "building tree 22 of 175\n",
      "building tree 23 of 175\n",
      "building tree 24 of 175\n",
      "building tree 25 of 175\n",
      "building tree 26 of 175\n",
      "building tree 27 of 175\n",
      "building tree 28 of 175\n",
      "building tree 29 of 175\n",
      "building tree 30 of 175\n",
      "building tree 31 of 175\n",
      "building tree 32 of 175\n",
      "building tree 33 of 175\n",
      "building tree 34 of 175\n",
      "building tree 35 of 175\n",
      "building tree 36 of 175\n",
      "building tree 37 of 175\n",
      "building tree 38 of 175\n",
      "building tree 39 of 175\n",
      "building tree 40 of 175\n",
      "building tree 41 of 175\n",
      "building tree 42 of 175\n",
      "building tree 43 of 175\n",
      "building tree 44 of 175\n",
      "building tree 45 of 175\n",
      "building tree 46 of 175\n",
      "building tree 47 of 175\n",
      "building tree 48 of 175\n",
      "building tree 49 of 175\n",
      "building tree 50 of 175\n",
      "building tree 51 of 175\n",
      "building tree 52 of 175\n",
      "building tree 53 of 175\n",
      "building tree 54 of 175\n",
      "building tree 55 of 175\n",
      "building tree 56 of 175\n",
      "building tree 57 of 175\n",
      "building tree 58 of 175\n",
      "building tree 59 of 175\n",
      "building tree 60 of 175\n",
      "building tree 61 of 175\n",
      "building tree 62 of 175\n",
      "building tree 63 of 175\n",
      "building tree 64 of 175\n",
      "building tree 65 of 175\n",
      "building tree 66 of 175\n",
      "building tree 67 of 175\n",
      "building tree 68 of 175\n",
      "building tree 69 of 175\n",
      "building tree 70 of 175\n",
      "building tree 71 of 175\n",
      "building tree 72 of 175\n",
      "building tree 73 of 175\n",
      "building tree 74 of 175\n",
      "building tree 75 of 175\n",
      "building tree 76 of 175\n",
      "building tree 77 of 175\n",
      "building tree 78 of 175\n",
      "building tree 79 of 175\n",
      "building tree 80 of 175\n",
      "building tree 81 of 175\n",
      "building tree 82 of 175\n",
      "building tree 83 of 175\n",
      "building tree 84 of 175\n",
      "building tree 85 of 175\n",
      "building tree 86 of 175\n",
      "building tree 87 of 175\n",
      "building tree 88 of 175\n",
      "building tree 89 of 175\n",
      "building tree 90 of 175\n",
      "building tree 91 of 175\n",
      "building tree 92 of 175\n",
      "building tree 93 of 175\n",
      "building tree 94 of 175\n"
     ]
    },
    {
     "name": "stderr",
     "output_type": "stream",
     "text": [
      "[Parallel(n_jobs=1)]: Using backend SequentialBackend with 1 concurrent workers.\n",
      "[Parallel(n_jobs=1)]: Done   1 out of   1 | elapsed:    0.0s remaining:    0.0s\n"
     ]
    },
    {
     "name": "stdout",
     "output_type": "stream",
     "text": [
      "building tree 95 of 175\n",
      "building tree 96 of 175\n",
      "building tree 97 of 175\n",
      "building tree 98 of 175\n",
      "building tree 99 of 175\n",
      "building tree 100 of 175\n",
      "building tree 101 of 175\n",
      "building tree 102 of 175\n",
      "building tree 103 of 175\n",
      "building tree 104 of 175\n",
      "building tree 105 of 175\n",
      "building tree 106 of 175\n",
      "building tree 107 of 175\n",
      "building tree 108 of 175\n",
      "building tree 109 of 175\n",
      "building tree 110 of 175\n",
      "building tree 111 of 175\n",
      "building tree 112 of 175\n",
      "building tree 113 of 175\n",
      "building tree 114 of 175\n",
      "building tree 115 of 175\n",
      "building tree 116 of 175\n",
      "building tree 117 of 175\n",
      "building tree 118 of 175\n",
      "building tree 119 of 175\n",
      "building tree 120 of 175\n",
      "building tree 121 of 175\n",
      "building tree 122 of 175\n",
      "building tree 123 of 175\n",
      "building tree 124 of 175\n",
      "building tree 125 of 175\n",
      "building tree 126 of 175\n",
      "building tree 127 of 175\n",
      "building tree 128 of 175\n",
      "building tree 129 of 175\n",
      "building tree 130 of 175\n",
      "building tree 131 of 175\n",
      "building tree 132 of 175\n",
      "building tree 133 of 175\n",
      "building tree 134 of 175\n",
      "building tree 135 of 175\n",
      "building tree 136 of 175\n",
      "building tree 137 of 175\n",
      "building tree 138 of 175\n",
      "building tree 139 of 175\n",
      "building tree 140 of 175\n",
      "building tree 141 of 175\n",
      "building tree 142 of 175\n",
      "building tree 143 of 175\n",
      "building tree 144 of 175\n",
      "building tree 145 of 175\n",
      "building tree 146 of 175\n",
      "building tree 147 of 175\n",
      "building tree 148 of 175\n",
      "building tree 149 of 175\n",
      "building tree 150 of 175\n",
      "building tree 151 of 175\n",
      "building tree 152 of 175\n",
      "building tree 153 of 175\n",
      "building tree 154 of 175\n",
      "building tree 155 of 175\n",
      "building tree 156 of 175\n",
      "building tree 157 of 175\n",
      "building tree 158 of 175\n",
      "building tree 159 of 175\n",
      "building tree 160 of 175\n",
      "building tree 161 of 175\n",
      "building tree 162 of 175\n",
      "building tree 163 of 175\n",
      "building tree 164 of 175\n",
      "building tree 165 of 175\n",
      "building tree 166 of 175\n",
      "building tree 167 of 175\n",
      "building tree 168 of 175\n",
      "building tree 169 of 175\n",
      "building tree 170 of 175\n",
      "building tree 171 of 175\n",
      "building tree 172 of 175\n",
      "building tree 173 of 175\n",
      "building tree 174 of 175\n",
      "building tree 175 of 175\n"
     ]
    },
    {
     "name": "stderr",
     "output_type": "stream",
     "text": [
      "[Parallel(n_jobs=1)]: Done 175 out of 175 | elapsed:    0.2s finished\n"
     ]
    }
   ],
   "source": [
    "rand_f = RandomForestClassifier(n_estimators=175,\n",
    "    random_state=1337,\n",
    "    max_depth=10,\n",
    "    min_samples_leaf=1,\n",
    "    verbose=2,class_weight = 'balanced')\n",
    "#class_weight = 'balanced'\n",
    "rand_f = rand_f.fit(X_train,y_train)"
   ]
  },
  {
   "cell_type": "code",
   "execution_count": 49,
   "id": "862f246b",
   "metadata": {},
   "outputs": [
    {
     "name": "stderr",
     "output_type": "stream",
     "text": [
      "[Parallel(n_jobs=1)]: Using backend SequentialBackend with 1 concurrent workers.\n",
      "[Parallel(n_jobs=1)]: Done   1 out of   1 | elapsed:    0.0s remaining:    0.0s\n",
      "[Parallel(n_jobs=1)]: Done 175 out of 175 | elapsed:    0.0s finished\n"
     ]
    }
   ],
   "source": [
    "y_pred_rf = rand_f.predict(X_test)"
   ]
  },
  {
   "cell_type": "code",
   "execution_count": 50,
   "id": "8815cdcf",
   "metadata": {},
   "outputs": [
    {
     "data": {
      "image/png": "[encoded data removed]",
      "text/plain": [
       "<Figure size 432x288 with 2 Axes>"
      ]
     },
     "metadata": {
      "needs_background": "light"
     },
     "output_type": "display_data"
    }
   ],
   "source": [
    "cmf = confusion_matrix(y_test, y_pred_rf)\n",
    "sns.heatmap(cmf, annot=True).set(xlabel='Predictions', ylabel='True Values');"
   ]
  },
  {
   "cell_type": "code",
   "execution_count": 51,
   "id": "a2b41d67",
   "metadata": {},
   "outputs": [
    {
     "name": "stdout",
     "output_type": "stream",
     "text": [
      "f1_score:  0.21568627450980396\n",
      "recall:  0.1375\n",
      "precision:  0.5\n",
      "accuracy:  0.477124183006536\n"
     ]
    }
   ],
   "source": [
    "print(\"f1_score: \", f1_score(y_test, y_pred_rf))\n",
    "print(\"recall: \", recall_score(y_test, y_pred_rf))\n",
    "print(\"precision: \", precision_score(y_test, y_pred_rf))\n",
    "print(\"accuracy: \", accuracy_score(y_test, y_pred_rf))"
   ]
  },
  {
   "cell_type": "code",
   "execution_count": 52,
   "id": "4764d03f",
   "metadata": {},
   "outputs": [
    {
     "name": "stderr",
     "output_type": "stream",
     "text": [
      "[Parallel(n_jobs=1)]: Using backend SequentialBackend with 1 concurrent workers.\n",
      "[Parallel(n_jobs=1)]: Done   1 out of   1 | elapsed:    0.0s remaining:    0.0s\n",
      "[Parallel(n_jobs=1)]: Done 175 out of 175 | elapsed:    0.0s finished\n"
     ]
    },
    {
     "data": {
      "text/plain": [
       "0.5126712328767123"
      ]
     },
     "execution_count": 52,
     "metadata": {},
     "output_type": "execute_result"
    }
   ],
   "source": [
    "proba_rf = rand_f.predict_proba(X_test)\n",
    "roc_auc_score(y_test, proba_rf[:, 1])"
   ]
  },
  {
   "cell_type": "markdown",
   "id": "69c0d949",
   "metadata": {},
   "source": [
    "### XGBoost Classifier"
   ]
  },
  {
   "cell_type": "code",
   "execution_count": 90,
   "id": "25cba40f",
   "metadata": {},
   "outputs": [],
   "source": [
    "xgb_model = XGBClassifier(reg_lambda=1, n_estimators=500, max_depth=5, learning_rate=0.05, scale_pos_weight=30,\n",
    "                         objective=\"binary:logistic\",eval_metric='auc')\n",
    "xgboost_m = xgb_model.fit(X_train, y_train)"
   ]
  },
  {
   "cell_type": "code",
   "execution_count": 91,
   "id": "f1e5cbaf",
   "metadata": {},
   "outputs": [],
   "source": [
    "y_pred_XG = xgboost_m.predict(X_test)"
   ]
  },
  {
   "cell_type": "code",
   "execution_count": 92,
   "id": "e9c90bf2",
   "metadata": {},
   "outputs": [
    {
     "data": {
      "image/png": "[encoded data removed]",
      "text/plain": [
       "<Figure size 432x288 with 2 Axes>"
      ]
     },
     "metadata": {
      "needs_background": "light"
     },
     "output_type": "display_data"
    }
   ],
   "source": [
    "cmf = confusion_matrix(y_test, y_pred_XG)\n",
    "sns.heatmap(cmf, annot=True).set(xlabel='Predictions', ylabel='True Values');"
   ]
  },
  {
   "cell_type": "code",
   "execution_count": 93,
   "id": "18d45f2d",
   "metadata": {},
   "outputs": [
    {
     "data": {
      "text/html": [
       "<div>\n",
       "<style scoped>\n",
       "    .dataframe tbody tr th:only-of-type {\n",
       "        vertical-align: middle;\n",
       "    }\n",
       "\n",
       "    .dataframe tbody tr th {\n",
       "        vertical-align: top;\n",
       "    }\n",
       "\n",
       "    .dataframe thead th {\n",
       "        text-align: right;\n",
       "    }\n",
       "</style>\n",
       "<table border=\"1\" class=\"dataframe\">\n",
       "  <thead>\n",
       "    <tr style=\"text-align: right;\">\n",
       "      <th></th>\n",
       "      <th>precision</th>\n",
       "      <th>recall</th>\n",
       "      <th>f1-score</th>\n",
       "      <th>support</th>\n",
       "    </tr>\n",
       "  </thead>\n",
       "  <tbody>\n",
       "    <tr>\n",
       "      <th>0</th>\n",
       "      <td>0.553571</td>\n",
       "      <td>0.424658</td>\n",
       "      <td>0.480620</td>\n",
       "      <td>73.000000</td>\n",
       "    </tr>\n",
       "    <tr>\n",
       "      <th>1</th>\n",
       "      <td>0.567010</td>\n",
       "      <td>0.687500</td>\n",
       "      <td>0.621469</td>\n",
       "      <td>80.000000</td>\n",
       "    </tr>\n",
       "    <tr>\n",
       "      <th>accuracy</th>\n",
       "      <td>0.562092</td>\n",
       "      <td>0.562092</td>\n",
       "      <td>0.562092</td>\n",
       "      <td>0.562092</td>\n",
       "    </tr>\n",
       "    <tr>\n",
       "      <th>macro avg</th>\n",
       "      <td>0.560291</td>\n",
       "      <td>0.556079</td>\n",
       "      <td>0.551045</td>\n",
       "      <td>153.000000</td>\n",
       "    </tr>\n",
       "    <tr>\n",
       "      <th>weighted avg</th>\n",
       "      <td>0.560598</td>\n",
       "      <td>0.562092</td>\n",
       "      <td>0.554267</td>\n",
       "      <td>153.000000</td>\n",
       "    </tr>\n",
       "  </tbody>\n",
       "</table>\n",
       "</div>"
      ],
      "text/plain": [
       "              precision    recall  f1-score     support\n",
       "0              0.553571  0.424658  0.480620   73.000000\n",
       "1              0.567010  0.687500  0.621469   80.000000\n",
       "accuracy       0.562092  0.562092  0.562092    0.562092\n",
       "macro avg      0.560291  0.556079  0.551045  153.000000\n",
       "weighted avg   0.560598  0.562092  0.554267  153.000000"
      ]
     },
     "execution_count": 93,
     "metadata": {},
     "output_type": "execute_result"
    }
   ],
   "source": [
    "report = classification_report(y_test, y_pred_XG, output_dict=True)\n",
    "pd.DataFrame(report).transpose()"
   ]
  },
  {
   "cell_type": "code",
   "execution_count": 94,
   "id": "e2f17311",
   "metadata": {},
   "outputs": [
    {
     "data": {
      "text/plain": [
       "0.5402397260273973"
      ]
     },
     "execution_count": 94,
     "metadata": {},
     "output_type": "execute_result"
    }
   ],
   "source": [
    "proba_xg = xgboost_m.predict_proba(X_test)\n",
    "roc_auc_score(y_test, proba_xg[:, 1])"
   ]
  },
  {
   "cell_type": "markdown",
   "id": "f82edc10",
   "metadata": {},
   "source": [
    "## Model Tuning"
   ]
  },
  {
   "cell_type": "code",
   "execution_count": 58,
   "id": "c8e3044f",
   "metadata": {},
   "outputs": [],
   "source": [
    "params = { 'max_depth': [3, 5, 6, 10, 15, 20],\n",
    "           'learning_rate': [0.01, 0.1, 0.2, 0.3],\n",
    "           'reg_lambda': [0, 1, 10],\n",
    "           'n_estimators': [100, 300, 500]}"
   ]
  },
  {
   "cell_type": "code",
   "execution_count": 59,
   "id": "aa31fc1f",
   "metadata": {},
   "outputs": [],
   "source": [
    "xgb_cl = xgb.XGBClassifier(objective=\"binary:logistic\",eval_metric='auc')"
   ]
  },
  {
   "cell_type": "code",
   "execution_count": 64,
   "id": "ec17c6c2",
   "metadata": {},
   "outputs": [],
   "source": [
    "random_search = RandomizedSearchCV(estimator=xgb_cl,\n",
    "                         param_distributions=params,\n",
    "                         scoring='accuracy',\n",
    "                         n_iter=5,\n",
    "                         verbose=1)"
   ]
  },
  {
   "cell_type": "code",
   "execution_count": 65,
   "id": "c9114081",
   "metadata": {},
   "outputs": [
    {
     "name": "stdout",
     "output_type": "stream",
     "text": [
      "Fitting 5 folds for each of 5 candidates, totalling 25 fits\n",
      "Best parameters: {'reg_lambda': 0, 'n_estimators': 300, 'max_depth': 6, 'learning_rate': 0.01}\n"
     ]
    }
   ],
   "source": [
    "random_search.fit(X_train, y_train)\n",
    "parameters = random_search.best_params_\n",
    "print(\"Best parameters:\", random_search.best_params_)"
   ]
  },
  {
   "cell_type": "code",
   "execution_count": null,
   "id": "51e0b5ed",
   "metadata": {},
   "outputs": [],
   "source": []
  }
 ],
 "metadata": {
  "kernelspec": {
   "display_name": "Python 3 (ipykernel)",
   "language": "python",
   "name": "python3"
  },
  "language_info": {
   "codemirror_mode": {
    "name": "ipython",
    "version": 3
   },
   "file_extension": ".py",
   "mimetype": "text/x-python",
   "name": "python",
   "nbconvert_exporter": "python",
   "pygments_lexer": "ipython3",
   "version": "3.9.7"
  }
 },
 "nbformat": 4,
 "nbformat_minor": 5
}
